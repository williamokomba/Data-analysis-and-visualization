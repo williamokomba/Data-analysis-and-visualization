{
  "nbformat": 4,
  "nbformat_minor": 0,
  "metadata": {
    "colab": {
      "name": "william-notebook-data-analysis-and-visualization-101-bootcamp-final-assignment-f3971cd.ipynb",
      "provenance": [],
      "collapsed_sections": [],
      "include_colab_link": true
    },
    "kernelspec": {
      "name": "python3",
      "display_name": "Python 3"
    }
  },
  "cells": [
    {
      "cell_type": "markdown",
      "metadata": {
        "id": "view-in-github",
        "colab_type": "text"
      },
      "source": [
        "<a href=\"https://colab.research.google.com/github/williamokomba/Data-analysis-and-visualization/blob/main/william_notebook_data_analysis_and_visualization_101_bootcamp_final_assignment_f3971cd.ipynb\" target=\"_parent\"><img src=\"https://colab.research.google.com/assets/colab-badge.svg\" alt=\"Open In Colab\"/></a>"
      ]
    },
    {
      "cell_type": "markdown",
      "metadata": {
        "id": "00IJ1Sz_-o2P"
      },
      "source": [
        "# Overview\n",
        "Throughout this assignment, you will be performing certain well-defined tasks that’ll not only strengthen your concepts of Plotly and Dash, but will also help you learn a number of new concepts that are useful in analyzing, summarizing and visualizing data in the real world. \n",
        "\n",
        "Here is a template notebook with all the tasks mentioned in detail. **Please complete the tasks within the designated section only.**\n"
      ]
    },
    {
      "cell_type": "markdown",
      "metadata": {
        "id": "ZTfhIScP_AHG"
      },
      "source": [
        "## Task 1: Data Loading and Data Aggregation\n",
        "* Load the 3 data files into the variables data_18, data_19, data_20. \n",
        "\n",
        "* Data aggregation is the process of gathering data and presenting it in a summarized format. The data may be gathered from multiple data sources with the intent of combining these data sources into a summary for data analysis.         \n",
        "Similar to how this dataset involves 3 data files, you’ll often be working on combining information from 2 or more files and analysing it. More often than not, GroupBy is a very useful tool for this purpose. \n",
        "\n",
        "  Go through this article to learn more some helpful aggregation tools in Python: https://www.bmc.com/blogs/pandas-group-merge-concatenate-join/ \n",
        "\n",
        "  **You don't need to aggregate/ merge the datasets in this assignment, it is only for reading purposes.**"
      ]
    },
    {
      "cell_type": "code",
      "metadata": {
        "id": "dJJ-zNZl-HzF",
        "colab": {
          "base_uri": "https://localhost:8080/"
        },
        "outputId": "dc04a8f9-c6cf-4ee9-dcb9-55dceeb9c3ec"
      },
      "source": [
        "#importing libraries\n",
        "import pandas as pd   # library for data manipulation and analysis\n",
        "import numpy as np     # library for performin scientific computations\n",
        "import matplotlib.pyplot as plt # library for creating basic visualisations\n",
        "import seaborn as sns # for visualization\n",
        "import plotly.express as px # for visualization\n",
        "import plotly\n",
        "!pip install chart_studio\n",
        "import chart_studio.plotly as py\n",
        "import plotly.graph_objs as go"
      ],
      "execution_count": null,
      "outputs": [
        {
          "output_type": "stream",
          "text": [
            "Requirement already satisfied: chart_studio in /usr/local/lib/python3.7/dist-packages (1.1.0)\n",
            "Requirement already satisfied: plotly in /usr/local/lib/python3.7/dist-packages (from chart_studio) (4.4.1)\n",
            "Requirement already satisfied: retrying>=1.3.3 in /usr/local/lib/python3.7/dist-packages (from chart_studio) (1.3.3)\n",
            "Requirement already satisfied: six in /usr/local/lib/python3.7/dist-packages (from chart_studio) (1.15.0)\n",
            "Requirement already satisfied: requests in /usr/local/lib/python3.7/dist-packages (from chart_studio) (2.23.0)\n",
            "Requirement already satisfied: chardet<4,>=3.0.2 in /usr/local/lib/python3.7/dist-packages (from requests->chart_studio) (3.0.4)\n",
            "Requirement already satisfied: urllib3!=1.25.0,!=1.25.1,<1.26,>=1.21.1 in /usr/local/lib/python3.7/dist-packages (from requests->chart_studio) (1.24.3)\n",
            "Requirement already satisfied: idna<3,>=2.5 in /usr/local/lib/python3.7/dist-packages (from requests->chart_studio) (2.10)\n",
            "Requirement already satisfied: certifi>=2017.4.17 in /usr/local/lib/python3.7/dist-packages (from requests->chart_studio) (2020.12.5)\n"
          ],
          "name": "stdout"
        }
      ]
    },
    {
      "cell_type": "code",
      "metadata": {
        "id": "KEkhatnh6jVO"
      },
      "source": [
        "#loading and reading 2018 survey data\n",
        "data_18 = pd.read_csv(\"https://raw.githubusercontent.com/dphi-official/Datasets/master/IT_Salary_Survey_EU_18-20/Survey_2018.csv\")\n",
        "#\n",
        "#loading 2019 survey data\n",
        "data_19 = pd.read_csv(\"https://raw.githubusercontent.com/dphi-official/Datasets/master/IT_Salary_Survey_EU_18-20/Survey_2019.csv\")\n",
        "#\n",
        "#loading 2020 survey data\n",
        "data_20 = pd.read_csv(\"https://raw.githubusercontent.com/dphi-official/Datasets/master/IT_Salary_Survey_EU_18-20/Survey_2020.csv\")"
      ],
      "execution_count": null,
      "outputs": []
    },
    {
      "cell_type": "markdown",
      "metadata": {
        "id": "Bfin9S4pACEA"
      },
      "source": [
        "## Task 2: Data Analysis\n",
        "* Display the first 5 rows of the 2018 survey data\n",
        "* Display a concise summary of the 2020 data and list out 3 observations/inferences that you observe from the result. For this you will need to use the info() method.\n",
        "* Display the descriptive statistics of the 2018 survey data\n",
        "* Display the number of missing values in each column of the 2018 survey data\n",
        "How many people responded to the survey in each of the 3 years? Has the number increased or decreased over the years?\n",
        "* Display all the unique values and their frequency in the column - “Number of vacation days” of 2020 data. Write down your observations (at least one) for this result. \n"
      ]
    },
    {
      "cell_type": "code",
      "metadata": {
        "id": "I0uRKB6QAW3O",
        "colab": {
          "base_uri": "https://localhost:8080/",
          "height": 340
        },
        "outputId": "ae691020-3e20-4fc4-daf9-85bfb2b4422b"
      },
      "source": [
        "#2a Displaying the 5 five rows of the 2018 survey data\n",
        "data_18.head(5)"
      ],
      "execution_count": null,
      "outputs": [
        {
          "output_type": "execute_result",
          "data": {
            "text/html": [
              "<div>\n",
              "<style scoped>\n",
              "    .dataframe tbody tr th:only-of-type {\n",
              "        vertical-align: middle;\n",
              "    }\n",
              "\n",
              "    .dataframe tbody tr th {\n",
              "        vertical-align: top;\n",
              "    }\n",
              "\n",
              "    .dataframe thead th {\n",
              "        text-align: right;\n",
              "    }\n",
              "</style>\n",
              "<table border=\"1\" class=\"dataframe\">\n",
              "  <thead>\n",
              "    <tr style=\"text-align: right;\">\n",
              "      <th></th>\n",
              "      <th>Timestamp</th>\n",
              "      <th>Age</th>\n",
              "      <th>Gender</th>\n",
              "      <th>City</th>\n",
              "      <th>Position</th>\n",
              "      <th>Years of experience</th>\n",
              "      <th>Your level</th>\n",
              "      <th>Current Salary</th>\n",
              "      <th>Salary one year ago</th>\n",
              "      <th>Salary two years ago</th>\n",
              "      <th>Are you getting any Stock Options?</th>\n",
              "      <th>Main language at work</th>\n",
              "      <th>Company size</th>\n",
              "      <th>Company type</th>\n",
              "    </tr>\n",
              "  </thead>\n",
              "  <tbody>\n",
              "    <tr>\n",
              "      <th>0</th>\n",
              "      <td>14/12/2018 12:41:33</td>\n",
              "      <td>43.0</td>\n",
              "      <td>M</td>\n",
              "      <td>München</td>\n",
              "      <td>QA Ingenieur</td>\n",
              "      <td>11.0</td>\n",
              "      <td>Senior</td>\n",
              "      <td>77000.0</td>\n",
              "      <td>76200.0</td>\n",
              "      <td>68000.0</td>\n",
              "      <td>No</td>\n",
              "      <td>Deutsch</td>\n",
              "      <td>100-1000</td>\n",
              "      <td>Product</td>\n",
              "    </tr>\n",
              "    <tr>\n",
              "      <th>1</th>\n",
              "      <td>14/12/2018 12:42:09</td>\n",
              "      <td>33.0</td>\n",
              "      <td>F</td>\n",
              "      <td>München</td>\n",
              "      <td>Senior PHP Magento developer</td>\n",
              "      <td>8.0</td>\n",
              "      <td>Senior</td>\n",
              "      <td>65000.0</td>\n",
              "      <td>55000.0</td>\n",
              "      <td>55000.0</td>\n",
              "      <td>No</td>\n",
              "      <td>Deutsch</td>\n",
              "      <td>50-100</td>\n",
              "      <td>Product</td>\n",
              "    </tr>\n",
              "    <tr>\n",
              "      <th>2</th>\n",
              "      <td>14/12/2018 12:47:36</td>\n",
              "      <td>32.0</td>\n",
              "      <td>M</td>\n",
              "      <td>München</td>\n",
              "      <td>Software Engineer</td>\n",
              "      <td>10.0</td>\n",
              "      <td>Senior</td>\n",
              "      <td>88000.0</td>\n",
              "      <td>73000.0</td>\n",
              "      <td>54000.0</td>\n",
              "      <td>No</td>\n",
              "      <td>Deutsch</td>\n",
              "      <td>1000+</td>\n",
              "      <td>Product</td>\n",
              "    </tr>\n",
              "    <tr>\n",
              "      <th>3</th>\n",
              "      <td>14/12/2018 12:50:15</td>\n",
              "      <td>25.0</td>\n",
              "      <td>M</td>\n",
              "      <td>München</td>\n",
              "      <td>Senior Frontend Developer</td>\n",
              "      <td>6.0</td>\n",
              "      <td>Senior</td>\n",
              "      <td>78000.0</td>\n",
              "      <td>55000.0</td>\n",
              "      <td>45000.0</td>\n",
              "      <td>Yes</td>\n",
              "      <td>English</td>\n",
              "      <td>1000+</td>\n",
              "      <td>Product</td>\n",
              "    </tr>\n",
              "    <tr>\n",
              "      <th>4</th>\n",
              "      <td>14/12/2018 12:50:31</td>\n",
              "      <td>39.0</td>\n",
              "      <td>M</td>\n",
              "      <td>München</td>\n",
              "      <td>UX Designer</td>\n",
              "      <td>10.0</td>\n",
              "      <td>Senior</td>\n",
              "      <td>69000.0</td>\n",
              "      <td>60000.0</td>\n",
              "      <td>52000.0</td>\n",
              "      <td>No</td>\n",
              "      <td>English</td>\n",
              "      <td>100-1000</td>\n",
              "      <td>Ecom retailer</td>\n",
              "    </tr>\n",
              "  </tbody>\n",
              "</table>\n",
              "</div>"
            ],
            "text/plain": [
              "             Timestamp   Age  ... Company size   Company type\n",
              "0  14/12/2018 12:41:33  43.0  ...     100-1000        Product\n",
              "1  14/12/2018 12:42:09  33.0  ...       50-100        Product\n",
              "2  14/12/2018 12:47:36  32.0  ...        1000+        Product\n",
              "3  14/12/2018 12:50:15  25.0  ...        1000+        Product\n",
              "4  14/12/2018 12:50:31  39.0  ...     100-1000  Ecom retailer\n",
              "\n",
              "[5 rows x 14 columns]"
            ]
          },
          "metadata": {
            "tags": []
          },
          "execution_count": 503
        }
      ]
    },
    {
      "cell_type": "code",
      "metadata": {
        "colab": {
          "base_uri": "https://localhost:8080/"
        },
        "id": "-bZquVIN66Wn",
        "outputId": "15cf551c-2bd3-4b32-cc3d-d93efc6820b9"
      },
      "source": [
        "#2b. Dispaying the concise summary of 2020 data\n",
        "data_20.info()"
      ],
      "execution_count": null,
      "outputs": [
        {
          "output_type": "stream",
          "text": [
            "<class 'pandas.core.frame.DataFrame'>\n",
            "RangeIndex: 1253 entries, 0 to 1252\n",
            "Data columns (total 23 columns):\n",
            " #   Column                                                                                                                   Non-Null Count  Dtype  \n",
            "---  ------                                                                                                                   --------------  -----  \n",
            " 0   Timestamp                                                                                                                1253 non-null   object \n",
            " 1   Age                                                                                                                      1226 non-null   float64\n",
            " 2   Gender                                                                                                                   1243 non-null   object \n",
            " 3   City                                                                                                                     1253 non-null   object \n",
            " 4   Position                                                                                                                 1247 non-null   object \n",
            " 5   Total years of experience                                                                                                1237 non-null   object \n",
            " 6   Years of experience in Germany                                                                                           1221 non-null   object \n",
            " 7   Seniority level                                                                                                          1241 non-null   object \n",
            " 8   Your main technology / programming language                                                                              1126 non-null   object \n",
            " 9   Other technologies/programming languages you use often                                                                   1096 non-null   object \n",
            " 10  Yearly brutto salary (without bonus and stocks) in EUR                                                                   1253 non-null   float64\n",
            " 11  Yearly bonus + stocks in EUR                                                                                             829 non-null    object \n",
            " 12  Annual brutto salary (without bonus and stocks) one year ago. Only answer if staying in the same country                 885 non-null    float64\n",
            " 13  Annual bonus+stocks one year ago. Only answer if staying in same country                                                 614 non-null    object \n",
            " 14  Number of vacation days                                                                                                  1185 non-null   object \n",
            " 15  Employment status                                                                                                        1236 non-null   object \n",
            " 16  Сontract duration                                                                                                        1224 non-null   object \n",
            " 17  Main language at work                                                                                                    1237 non-null   object \n",
            " 18  Company size                                                                                                             1235 non-null   object \n",
            " 19  Company type                                                                                                             1228 non-null   object \n",
            " 20  Have you lost your job due to the coronavirus outbreak?                                                                  1233 non-null   object \n",
            " 21  Have you been forced to have a shorter working week (Kurzarbeit)? If yes, how many hours per week                        373 non-null    float64\n",
            " 22  Have you received additional monetary support from your employer due to Work From Home? If yes, how much in 2020 in EUR  462 non-null    object \n",
            "dtypes: float64(4), object(19)\n",
            "memory usage: 225.3+ KB\n"
          ],
          "name": "stdout"
        }
      ]
    },
    {
      "cell_type": "markdown",
      "metadata": {
        "id": "_1XShRq47JN_"
      },
      "source": [
        "**Observation**: \n",
        "1.   The dataset has 1253 records and 23 colunms.\n",
        "2.   There is 4 floats and 19 objects/categorical datatypes.\n",
        "3.   Some of the colunms has less than 1253 records, this is an indication of missing values."
      ]
    },
    {
      "cell_type": "code",
      "metadata": {
        "colab": {
          "base_uri": "https://localhost:8080/",
          "height": 297
        },
        "id": "UkwbZMHP7LB1",
        "outputId": "70634ba9-564d-45a0-8280-da921b1fef50"
      },
      "source": [
        "#2c. descriptive statistics of 2018 data\n",
        "data_18.describe()"
      ],
      "execution_count": null,
      "outputs": [
        {
          "output_type": "execute_result",
          "data": {
            "text/html": [
              "<div>\n",
              "<style scoped>\n",
              "    .dataframe tbody tr th:only-of-type {\n",
              "        vertical-align: middle;\n",
              "    }\n",
              "\n",
              "    .dataframe tbody tr th {\n",
              "        vertical-align: top;\n",
              "    }\n",
              "\n",
              "    .dataframe thead th {\n",
              "        text-align: right;\n",
              "    }\n",
              "</style>\n",
              "<table border=\"1\" class=\"dataframe\">\n",
              "  <thead>\n",
              "    <tr style=\"text-align: right;\">\n",
              "      <th></th>\n",
              "      <th>Age</th>\n",
              "      <th>Years of experience</th>\n",
              "      <th>Current Salary</th>\n",
              "      <th>Salary one year ago</th>\n",
              "      <th>Salary two years ago</th>\n",
              "    </tr>\n",
              "  </thead>\n",
              "  <tbody>\n",
              "    <tr>\n",
              "      <th>count</th>\n",
              "      <td>672.000000</td>\n",
              "      <td>732.000000</td>\n",
              "      <td>750.000000</td>\n",
              "      <td>596.000000</td>\n",
              "      <td>463.000000</td>\n",
              "    </tr>\n",
              "    <tr>\n",
              "      <th>mean</th>\n",
              "      <td>32.183036</td>\n",
              "      <td>8.548497</td>\n",
              "      <td>68381.765333</td>\n",
              "      <td>62187.278523</td>\n",
              "      <td>58013.475162</td>\n",
              "    </tr>\n",
              "    <tr>\n",
              "      <th>std</th>\n",
              "      <td>5.107268</td>\n",
              "      <td>4.729557</td>\n",
              "      <td>21196.306557</td>\n",
              "      <td>20163.008663</td>\n",
              "      <td>20413.048908</td>\n",
              "    </tr>\n",
              "    <tr>\n",
              "      <th>min</th>\n",
              "      <td>21.000000</td>\n",
              "      <td>0.000000</td>\n",
              "      <td>10300.000000</td>\n",
              "      <td>10001.000000</td>\n",
              "      <td>10001.000000</td>\n",
              "    </tr>\n",
              "    <tr>\n",
              "      <th>25%</th>\n",
              "      <td>29.000000</td>\n",
              "      <td>5.000000</td>\n",
              "      <td>57000.000000</td>\n",
              "      <td>52000.000000</td>\n",
              "      <td>48000.000000</td>\n",
              "    </tr>\n",
              "    <tr>\n",
              "      <th>50%</th>\n",
              "      <td>32.000000</td>\n",
              "      <td>8.000000</td>\n",
              "      <td>65000.000000</td>\n",
              "      <td>60000.000000</td>\n",
              "      <td>56000.000000</td>\n",
              "    </tr>\n",
              "    <tr>\n",
              "      <th>75%</th>\n",
              "      <td>35.000000</td>\n",
              "      <td>11.000000</td>\n",
              "      <td>75000.000000</td>\n",
              "      <td>70000.000000</td>\n",
              "      <td>67000.000000</td>\n",
              "    </tr>\n",
              "    <tr>\n",
              "      <th>max</th>\n",
              "      <td>60.000000</td>\n",
              "      <td>38.000000</td>\n",
              "      <td>200000.000000</td>\n",
              "      <td>200000.000000</td>\n",
              "      <td>150000.000000</td>\n",
              "    </tr>\n",
              "  </tbody>\n",
              "</table>\n",
              "</div>"
            ],
            "text/plain": [
              "              Age  ...  Salary two years ago\n",
              "count  672.000000  ...            463.000000\n",
              "mean    32.183036  ...          58013.475162\n",
              "std      5.107268  ...          20413.048908\n",
              "min     21.000000  ...          10001.000000\n",
              "25%     29.000000  ...          48000.000000\n",
              "50%     32.000000  ...          56000.000000\n",
              "75%     35.000000  ...          67000.000000\n",
              "max     60.000000  ...         150000.000000\n",
              "\n",
              "[8 rows x 5 columns]"
            ]
          },
          "metadata": {
            "tags": []
          },
          "execution_count": 505
        }
      ]
    },
    {
      "cell_type": "markdown",
      "metadata": {
        "id": "2BmbtLru7SXm"
      },
      "source": [
        "**Observation:**\n",
        "*   maximum age of the respodend is 60 year and the minimum age is 21 years, mean age of the respodend is 31.18 years.\n",
        "*   The minimum current salary is 10300 and the maximum current salary is 200000, medium curent salary is 65000, and mean current salary is 68381.76533\n",
        "\n",
        "\n",
        "\n"
      ]
    },
    {
      "cell_type": "code",
      "metadata": {
        "colab": {
          "base_uri": "https://localhost:8080/"
        },
        "id": "ZeZwCBy59z8R",
        "outputId": "e338713e-43dc-4257-ca8e-2b95f2af205c"
      },
      "source": [
        "#2d i.Displaying the missing values in 2018 data\n",
        "data_18.isnull().sum()"
      ],
      "execution_count": null,
      "outputs": [
        {
          "output_type": "execute_result",
          "data": {
            "text/plain": [
              "Timestamp                               0\n",
              "Age                                    93\n",
              "Gender                                 14\n",
              "City                                   29\n",
              "Position                               28\n",
              "Years of experience                    33\n",
              "Your level                             22\n",
              "Current Salary                         15\n",
              "Salary one year ago                   169\n",
              "Salary two years ago                  302\n",
              "Are you getting any Stock Options?     23\n",
              "Main language at work                  15\n",
              "Company size                           15\n",
              "Company type                           35\n",
              "dtype: int64"
            ]
          },
          "metadata": {
            "tags": []
          },
          "execution_count": 506
        }
      ]
    },
    {
      "cell_type": "markdown",
      "metadata": {
        "id": "ypdqHGtY-pPz"
      },
      "source": [
        "**observation**:\n",
        "*   all variables have missing values except timestamp variable.\n",
        "\n",
        "\n"
      ]
    },
    {
      "cell_type": "code",
      "metadata": {
        "id": "SG4QrPBE-9bO",
        "colab": {
          "base_uri": "https://localhost:8080/"
        },
        "outputId": "79f84a09-a85b-442f-b063-740eb3500338"
      },
      "source": [
        "#2d ii. people who responded to sunvey 2018,2019, and 2020\n",
        "print(\"people respond in 2018 = \", data_18[\"Gender\"].count())\n",
        "print(\"people respond in 2019 = \", data_19[\"Gender\"].count())\n",
        "print(\"people respond in 2020 = \", data_20[\"Gender\"].count())"
      ],
      "execution_count": null,
      "outputs": [
        {
          "output_type": "stream",
          "text": [
            "people respond in 2018 =  751\n",
            "people respond in 2019 =  991\n",
            "people respond in 2020 =  1243\n"
          ],
          "name": "stdout"
        }
      ]
    },
    {
      "cell_type": "markdown",
      "metadata": {
        "id": "mboSGerdZ9yt"
      },
      "source": [
        "**observation**:\n",
        "*   There were 751 respondents in 2018, 991 in 2019, and 1243 in 2020. this is a steady increase in the number of respodends from 2018 through 2020."
      ]
    },
    {
      "cell_type": "code",
      "metadata": {
        "colab": {
          "base_uri": "https://localhost:8080/"
        },
        "id": "GaDNIS_XaDmq",
        "outputId": "4c2dc324-c099-4989-a316-2fbc96f74fb9"
      },
      "source": [
        "#2e; displaying unique value and their frequency in “Number of vacation days” variable of 2020 data\n",
        "print(\"unique value\",\"\\n\", data_20[\"Number of vacation days\"].value_counts())"
      ],
      "execution_count": null,
      "outputs": [
        {
          "output_type": "stream",
          "text": [
            "unique value \n",
            " 30                                              488\n",
            "28                                              233\n",
            "27                                              102\n",
            "25                                               91\n",
            "26                                               71\n",
            "24                                               67\n",
            "29                                               24\n",
            "20                                               13\n",
            "21                                               10\n",
            "22                                                8\n",
            "32                                                8\n",
            "31                                                8\n",
            "35                                                5\n",
            "36                                                5\n",
            "0                                                 4\n",
            "40                                                4\n",
            "23                                                4\n",
            "unlimited                                         3\n",
            "33                                                3\n",
            "45                                                3\n",
            "14                                                3\n",
            "Unlimited                                         2\n",
            "12                                                2\n",
            "15                                                2\n",
            "unlimited                                         2\n",
            "(no idea)                                         1\n",
            "16                                                1\n",
            "10                                                1\n",
            "34                                                1\n",
            "60                                                1\n",
            "50                                                1\n",
            "5                                                 1\n",
            "1                                                 1\n",
            "24 labour days                                    1\n",
            "~25                                               1\n",
            "38                                                1\n",
            "37.5                                              1\n",
            "365                                               1\n",
            "39                                                1\n",
            "37                                                1\n",
            "23+                                               1\n",
            "30 in contract (but theoretically unlimited)      1\n",
            "99                                                1\n",
            "3                                                 1\n",
            "Unlimited                                         1\n",
            "Name: Number of vacation days, dtype: int64\n"
          ],
          "name": "stdout"
        }
      ]
    },
    {
      "cell_type": "markdown",
      "metadata": {
        "id": "hzflxvHMaSsU"
      },
      "source": [
        "**observation**:\n",
        "*   30 number of vacation days has the highest frequency of 488."
      ]
    },
    {
      "cell_type": "markdown",
      "metadata": {
        "id": "wptPzyquAXbR"
      },
      "source": [
        "## Task 3: Data Cleaning\n",
        "* Rename the column ‘Position ‘ in the 2020 data to ‘Position’. (without the blank space)\n",
        "* Check for missing values in 2020 data for all the columns. If there are no missing values, proceed to the next step. If there are missing values in the dataset,\n",
        "  * For categorical variables, fill the missing values with the mode of the data. Remember if the data type of any variable is ‘object’, it is categorical variable. \n",
        "  * For numerical variables, fill the missing values with the mean of the data.\n",
        "\n",
        "Here's a good blog that displays multiple methods of filling (imputing) missing values: https://jamesrledoux.com/code/imputation \n",
        "* Drop the timestamp column for all the three years data since the date and time at which a person filled the survey is irrelevant to us. The year matters and we already know that from the dataset’s name.\n",
        "* Perform any other data cleaning steps you believe are necessary. (removing outliers, handling missing values in a way to beautify visualizations, making the categories uniform i.e python and Python should mean the same thing etc.) Note that the same steps will have to be performed for all 3 data files."
      ]
    },
    {
      "cell_type": "markdown",
      "metadata": {
        "id": "f1HD0tIrsFs8"
      },
      "source": [
        "### Cleaning 2020 survey dataset"
      ]
    },
    {
      "cell_type": "code",
      "metadata": {
        "id": "Eqjj9eYhCP3T"
      },
      "source": [
        "#making the copy of data-20 dataframe\n",
        "#\n",
        "data_20_new= data_20.copy()"
      ],
      "execution_count": null,
      "outputs": []
    },
    {
      "cell_type": "code",
      "metadata": {
        "colab": {
          "base_uri": "https://localhost:8080/"
        },
        "id": "WwZ0bU99bPw1",
        "outputId": "dba6b582-82c8-4424-b766-5bc0a6726608"
      },
      "source": [
        "#3a.Renaming 'Position ' colunm to 'Position in 2020 dataframe. \n",
        "data_20_new.rename(columns={'Position ': 'Position'}, inplace=True)\n",
        "#\n",
        "#confirming the changes.\n",
        "data_20_new.columns"
      ],
      "execution_count": null,
      "outputs": [
        {
          "output_type": "execute_result",
          "data": {
            "text/plain": [
              "Index(['Timestamp', 'Age', 'Gender', 'City', 'Position',\n",
              "       'Total years of experience', 'Years of experience in Germany',\n",
              "       'Seniority level', 'Your main technology / programming language',\n",
              "       'Other technologies/programming languages you use often',\n",
              "       'Yearly brutto salary (without bonus and stocks) in EUR',\n",
              "       'Yearly bonus + stocks in EUR',\n",
              "       'Annual brutto salary (without bonus and stocks) one year ago. Only answer if staying in the same country',\n",
              "       'Annual bonus+stocks one year ago. Only answer if staying in same country',\n",
              "       'Number of vacation days', 'Employment status', 'Сontract duration',\n",
              "       'Main language at work', 'Company size', 'Company type',\n",
              "       'Have you lost your job due to the coronavirus outbreak?',\n",
              "       'Have you been forced to have a shorter working week (Kurzarbeit)? If yes, how many hours per week',\n",
              "       'Have you received additional monetary support from your employer due to Work From Home? If yes, how much in 2020 in EUR'],\n",
              "      dtype='object')"
            ]
          },
          "metadata": {
            "tags": []
          },
          "execution_count": 510
        }
      ]
    },
    {
      "cell_type": "markdown",
      "metadata": {
        "id": "by67noOPb4n1"
      },
      "source": [
        "observation: 'Position ' varaible was successfully renamed to 'Position'"
      ]
    },
    {
      "cell_type": "code",
      "metadata": {
        "colab": {
          "base_uri": "https://localhost:8080/"
        },
        "id": "YQzuchDfbTJe",
        "outputId": "a28dfd89-6029-4db1-ffbf-28eaadcc9ac9"
      },
      "source": [
        "#3b.checking the missing values in 2020 dataframe.\n",
        "data_20_new.isnull().sum()"
      ],
      "execution_count": null,
      "outputs": [
        {
          "output_type": "execute_result",
          "data": {
            "text/plain": [
              "Timestamp                                                                                                                    0\n",
              "Age                                                                                                                         27\n",
              "Gender                                                                                                                      10\n",
              "City                                                                                                                         0\n",
              "Position                                                                                                                     6\n",
              "Total years of experience                                                                                                   16\n",
              "Years of experience in Germany                                                                                              32\n",
              "Seniority level                                                                                                             12\n",
              "Your main technology / programming language                                                                                127\n",
              "Other technologies/programming languages you use often                                                                     157\n",
              "Yearly brutto salary (without bonus and stocks) in EUR                                                                       0\n",
              "Yearly bonus + stocks in EUR                                                                                               424\n",
              "Annual brutto salary (without bonus and stocks) one year ago. Only answer if staying in the same country                   368\n",
              "Annual bonus+stocks one year ago. Only answer if staying in same country                                                   639\n",
              "Number of vacation days                                                                                                     68\n",
              "Employment status                                                                                                           17\n",
              "Сontract duration                                                                                                           29\n",
              "Main language at work                                                                                                       16\n",
              "Company size                                                                                                                18\n",
              "Company type                                                                                                                25\n",
              "Have you lost your job due to the coronavirus outbreak?                                                                     20\n",
              "Have you been forced to have a shorter working week (Kurzarbeit)? If yes, how many hours per week                          880\n",
              "Have you received additional monetary support from your employer due to Work From Home? If yes, how much in 2020 in EUR    791\n",
              "dtype: int64"
            ]
          },
          "metadata": {
            "tags": []
          },
          "execution_count": 511
        }
      ]
    },
    {
      "cell_type": "markdown",
      "metadata": {
        "id": "uUHUsQhUcizu"
      },
      "source": [
        "**observation**: 20 colunms/variables has missing values."
      ]
    },
    {
      "cell_type": "code",
      "metadata": {
        "id": "UoCCcirceweU"
      },
      "source": [
        "##converting 2020 object variables to the correct datatype-category\n",
        "categorial_col=[\"Timestamp\",\"City\",\"Gender\",\"Position\", \"Total years of experience\",\"Years of experience in Germany\",\n",
        "                \"Seniority level\",\"Your main technology / programming language\",\"Other technologies/programming languages you use often\",\n",
        "                \"Yearly bonus + stocks in EUR\",\"Yearly bonus + stocks in EUR\",\n",
        "                \"Annual bonus+stocks one year ago. Only answer if staying in same country\",\"Number of vacation days\",\"Employment status\", \"Сontract duration\", \n",
        "                \"Main language at work\", \"Company size\", \"Company type\", \"Have you lost your job due to the coronavirus outbreak?\", \n",
        "                \"Have you received additional monetary support from your employer due to Work From Home? If yes, how much in 2020 in EUR\"]\n",
        "#\n",
        "data_20_new[categorial_col]= data_20_new[categorial_col].astype('category')"
      ],
      "execution_count": null,
      "outputs": []
    },
    {
      "cell_type": "code",
      "metadata": {
        "colab": {
          "base_uri": "https://localhost:8080/"
        },
        "id": "mT_hJwxNfkfV",
        "outputId": "fbbcc721-8358-4822-d799-df7b5c035439"
      },
      "source": [
        "#Checking out the precise summary to see if the datatype changes have taken effect\n",
        "data_20_new.info()"
      ],
      "execution_count": null,
      "outputs": [
        {
          "output_type": "stream",
          "text": [
            "<class 'pandas.core.frame.DataFrame'>\n",
            "RangeIndex: 1253 entries, 0 to 1252\n",
            "Data columns (total 23 columns):\n",
            " #   Column                                                                                                                   Non-Null Count  Dtype   \n",
            "---  ------                                                                                                                   --------------  -----   \n",
            " 0   Timestamp                                                                                                                1253 non-null   category\n",
            " 1   Age                                                                                                                      1226 non-null   float64 \n",
            " 2   Gender                                                                                                                   1243 non-null   category\n",
            " 3   City                                                                                                                     1253 non-null   category\n",
            " 4   Position                                                                                                                 1247 non-null   category\n",
            " 5   Total years of experience                                                                                                1237 non-null   category\n",
            " 6   Years of experience in Germany                                                                                           1221 non-null   category\n",
            " 7   Seniority level                                                                                                          1241 non-null   category\n",
            " 8   Your main technology / programming language                                                                              1126 non-null   category\n",
            " 9   Other technologies/programming languages you use often                                                                   1096 non-null   category\n",
            " 10  Yearly brutto salary (without bonus and stocks) in EUR                                                                   1253 non-null   float64 \n",
            " 11  Yearly bonus + stocks in EUR                                                                                             829 non-null    object  \n",
            " 12  Annual brutto salary (without bonus and stocks) one year ago. Only answer if staying in the same country                 885 non-null    float64 \n",
            " 13  Annual bonus+stocks one year ago. Only answer if staying in same country                                                 614 non-null    category\n",
            " 14  Number of vacation days                                                                                                  1185 non-null   category\n",
            " 15  Employment status                                                                                                        1236 non-null   category\n",
            " 16  Сontract duration                                                                                                        1224 non-null   category\n",
            " 17  Main language at work                                                                                                    1237 non-null   category\n",
            " 18  Company size                                                                                                             1235 non-null   category\n",
            " 19  Company type                                                                                                             1228 non-null   category\n",
            " 20  Have you lost your job due to the coronavirus outbreak?                                                                  1233 non-null   category\n",
            " 21  Have you been forced to have a shorter working week (Kurzarbeit)? If yes, how many hours per week                        373 non-null    float64 \n",
            " 22  Have you received additional monetary support from your employer due to Work From Home? If yes, how much in 2020 in EUR  462 non-null    category\n",
            "dtypes: category(18), float64(4), object(1)\n",
            "memory usage: 196.3+ KB\n"
          ],
          "name": "stdout"
        }
      ]
    },
    {
      "cell_type": "markdown",
      "metadata": {
        "id": "l0Dx0KTtnku0"
      },
      "source": [
        "**observation**: the data type are appropriate now and there is a clue that we have null values.bold text"
      ]
    },
    {
      "cell_type": "code",
      "metadata": {
        "id": "IAL1CD9WcnMr"
      },
      "source": [
        "#3c. For categorical variables, fill the missing values with the mode of the data. \n",
        "#Remember if the data type of any variable is ‘object’, it is categorical variable.\n",
        "#\n",
        "#filling the missing values in the categorical variables with mode\n",
        "#\n",
        "data_20_new.fillna({'Gender': data_20_new['Gender'].mode()[0]}, inplace=True)\n",
        "data_20_new.fillna({'Position': data_20_new['Position'].mode()[0]}, inplace=True)\n",
        "data_20_new.fillna({'Total years of experience': data_20_new['Total years of experience'].mode()[0]}, inplace=True)\n",
        "data_20_new.fillna({'Years of experience in Germany': data_20_new['Years of experience in Germany'].mode()[0]}, inplace=True)\n",
        "data_20_new.fillna({'Seniority level': data_20_new['Seniority level'].mode()[0]}, inplace=True)\n",
        "data_20_new.fillna({'Your main technology / programming language': data_20_new['Your main technology / programming language'].mode()[0]}, inplace=True)\n",
        "data_20_new.fillna({'Other technologies/programming languages you use often': data_20_new['Other technologies/programming languages you use often'].mode()[0]}, inplace=True)\n",
        "data_20_new.fillna({'Annual bonus+stocks one year ago. Only answer if staying in same country': data_20_new['Annual bonus+stocks one year ago. Only answer if staying in same country'].mode()[0]}, inplace=True)\n",
        "data_20_new.fillna({'Number of vacation days': data_20_new['Number of vacation days'].mode()[0]}, inplace=True)\n",
        "data_20_new.fillna({'Employment status': data_20_new['Employment status'].mode()[0]}, inplace=True)\n",
        "data_20_new.fillna({'Yearly bonus + stocks in EUR': data_20_new['Yearly bonus + stocks in EUR'].mode()[0]}, inplace=True)\n",
        "data_20_new.fillna({'Сontract duration': data_20_new['Сontract duration'].mode()[0]}, inplace=True)\n",
        "data_20_new.fillna({'Main language at work': data_20_new['Main language at work'].mode()[0]}, inplace=True)\n",
        "data_20_new.fillna({'Company size': data_20_new['Company size'].mode()[0]}, inplace=True)\n",
        "data_20_new.fillna({'Company type': data_20_new['Company type'].mode()[0]}, inplace=True)\n",
        "data_20_new.fillna({'Have you lost your job due to the coronavirus outbreak?': data_20_new['Have you lost your job due to the coronavirus outbreak?'].mode()[0]}, inplace=True)\n",
        "data_20_new.fillna({'Have you received additional monetary support from your employer due to Work From Home? If yes, how much in 2020 in EUR': data_20_new['Have you received additional monetary support from your employer due to Work From Home? If yes, how much in 2020 in EUR'].mode()[0]}, inplace=True)\n",
        "\n"
      ],
      "execution_count": null,
      "outputs": []
    },
    {
      "cell_type": "code",
      "metadata": {
        "id": "KiFUi-mWurB0"
      },
      "source": [
        "#3d. For numerical variables, fill the missing values with the mean of the data\n",
        "#\n",
        "# Filling the missing values in the numeric variable with mean\n",
        "#\n",
        "data_20_new['Age']= data_20_new['Age'].fillna(data_20_new['Age'].mean(), axis = 0)\n",
        "data_20_new['Yearly brutto salary (without bonus and stocks) in EUR']= data_20_new['Yearly brutto salary (without bonus and stocks) in EUR'].fillna(data_20_new['Yearly brutto salary (without bonus and stocks) in EUR'].mean(), axis = 0)\n",
        "data_20_new['Annual brutto salary (without bonus and stocks) one year ago. Only answer if staying in the same country']= data_20_new['Annual brutto salary (without bonus and stocks) one year ago. Only answer if staying in the same country'].fillna(data_20_new['Annual brutto salary (without bonus and stocks) one year ago. Only answer if staying in the same country'].mean(), axis = 0)\n",
        "data_20_new['Have you been forced to have a shorter working week (Kurzarbeit)? If yes, how many hours per week']= data_20_new['Have you been forced to have a shorter working week (Kurzarbeit)? If yes, how many hours per week'].fillna(data_20_new['Have you been forced to have a shorter working week (Kurzarbeit)? If yes, how many hours per week'].mean(), axis = 0)"
      ],
      "execution_count": null,
      "outputs": []
    },
    {
      "cell_type": "code",
      "metadata": {
        "colab": {
          "base_uri": "https://localhost:8080/"
        },
        "id": "DY1V8y3DwjAU",
        "outputId": "5dff9b61-6577-40cd-d1c4-22fa0cafabc6"
      },
      "source": [
        "#checking for null values after imputation\n",
        "data_20_new.isnull().sum().any()"
      ],
      "execution_count": null,
      "outputs": [
        {
          "output_type": "execute_result",
          "data": {
            "text/plain": [
              "False"
            ]
          },
          "metadata": {
            "tags": []
          },
          "execution_count": 516
        }
      ]
    },
    {
      "cell_type": "markdown",
      "metadata": {
        "id": "JygBFYqozIpP"
      },
      "source": [
        "**observation**\n",
        "*   all missing values have been imputed; now there is no missing data.\n",
        "\n",
        "\n"
      ]
    },
    {
      "cell_type": "code",
      "metadata": {
        "id": "iUfG7w5-zrJG"
      },
      "source": [
        "#3e. Drop the timestamp column for all the three years data since the date and time at which a person filled the survey is irrelevant to us. \n",
        "#The year matters and we already know that from the dataset’s name\n",
        "#\n",
        "#making copy of the databases\n",
        "data_18_new=data_18.copy()\n",
        "data_19_new=data_19.copy()\n",
        "#\n",
        "#dropping timestamp in all the three years\n",
        "data_18_new.drop(['Timestamp'], axis = 1, inplace=True)\n",
        "data_19_new.drop(['Zeitstempel'], axis = 1, inplace=True) # Zeitstempel variable represent time stamp in 2019 dataset. \n",
        "data_20_new.drop(['Timestamp'], axis = 1, inplace= True) # note: already renamed data_20 dataframe to data_20_new.\n"
      ],
      "execution_count": null,
      "outputs": []
    },
    {
      "cell_type": "code",
      "metadata": {
        "colab": {
          "base_uri": "https://localhost:8080/"
        },
        "id": "cbgXYzSU2s8w",
        "outputId": "4257ebc1-87e9-4f19-ad33-4f5973165963"
      },
      "source": [
        "#confirming timestamp was drropped in all the dataset\n",
        "print(data_18_new.head())\n",
        "print(\"--\"*50)\n",
        "print(data_19_new.head())\n",
        "print(\"--\"*50)\n",
        "print(data_20_new.head())"
      ],
      "execution_count": null,
      "outputs": [
        {
          "output_type": "stream",
          "text": [
            "    Age Gender     City  ... Main language at work  Company size   Company type\n",
            "0  43.0      M  München  ...               Deutsch      100-1000        Product\n",
            "1  33.0      F  München  ...               Deutsch        50-100        Product\n",
            "2  32.0      M  München  ...               Deutsch         1000+        Product\n",
            "3  25.0      M  München  ...               English         1000+        Product\n",
            "4  39.0      M  München  ...               English      100-1000  Ecom retailer\n",
            "\n",
            "[5 rows x 13 columns]\n",
            "----------------------------------------------------------------------------------------------------\n",
            "    Age Gender    City  ... Сontract duration Company business sector   0\n",
            "0  33.0   Male  Berlin  ...         unlimited                 Tourism NaN\n",
            "1  29.0   Male  Berlin  ...         unlimited   Scientific Activities NaN\n",
            "2   NaN   Male  Berlin  ...         unlimited                     NaN NaN\n",
            "3  30.0   Male  Berlin  ...         unlimited               Transport NaN\n",
            "4  32.0   Male  Berlin  ...         unlimited              Automotive NaN\n",
            "\n",
            "[5 rows x 22 columns]\n",
            "----------------------------------------------------------------------------------------------------\n",
            "    Age  ... Have you received additional monetary support from your employer due to Work From Home? If yes, how much in 2020 in EUR\n",
            "0  26.0  ...                                                  0                                                                     \n",
            "1  26.0  ...                                                  0                                                                     \n",
            "2  29.0  ...                                                  0                                                                     \n",
            "3  28.0  ...                                                  0                                                                     \n",
            "4  37.0  ...                                                  0                                                                     \n",
            "\n",
            "[5 rows x 22 columns]\n"
          ],
          "name": "stdout"
        }
      ]
    },
    {
      "cell_type": "markdown",
      "metadata": {
        "id": "NVxOqgEE9uOk"
      },
      "source": [
        "**observation**: \n",
        "*  timestamp variabel was successfully dropped in all the 3 databases.\n",
        "\n"
      ]
    },
    {
      "cell_type": "code",
      "metadata": {
        "id": "U31U4UqE-BsI",
        "colab": {
          "base_uri": "https://localhost:8080/"
        },
        "outputId": "16b2d485-49c5-44b4-823f-2bdbf8ed4623"
      },
      "source": [
        "#More cleaning of 2020_data database\n",
        "#3f.Perform any other data cleaning steps you believe are necessary. (removing outliers, handling missing values in a way to beautify visualizations, \n",
        "#making the categories uniform i.e python and Python should mean the same thing etc.) \n",
        "#Note that the same steps will have to be performed for all 3 data files.\n",
        "#\n",
        "#checking for duplicates in 2020 database\n",
        "data_20_new.duplicated().sum()"
      ],
      "execution_count": null,
      "outputs": [
        {
          "output_type": "execute_result",
          "data": {
            "text/plain": [
              "16"
            ]
          },
          "metadata": {
            "tags": []
          },
          "execution_count": 519
        }
      ]
    },
    {
      "cell_type": "markdown",
      "metadata": {
        "id": "mjKzXGKGPIo9"
      },
      "source": [
        "**observtion**:\n",
        "There are 16 duplicates."
      ]
    },
    {
      "cell_type": "code",
      "metadata": {
        "colab": {
          "base_uri": "https://localhost:8080/"
        },
        "id": "o9R-FVkTPUvk",
        "outputId": "477dea98-d848-4876-c471-35c2a6c7d628"
      },
      "source": [
        "#3g. dropping the duplicates\n",
        "#\n",
        "data_20_new.drop_duplicates(inplace = True)\n",
        "#\n",
        "#confirming there is no duplicates\n",
        "#\n",
        "data_20_new.duplicated().any()"
      ],
      "execution_count": null,
      "outputs": [
        {
          "output_type": "execute_result",
          "data": {
            "text/plain": [
              "False"
            ]
          },
          "metadata": {
            "tags": []
          },
          "execution_count": 520
        }
      ]
    },
    {
      "cell_type": "markdown",
      "metadata": {
        "id": "OT6UiDV2QC_Q"
      },
      "source": [
        "**observation**: all duplicates has been dropped."
      ]
    },
    {
      "cell_type": "code",
      "metadata": {
        "colab": {
          "base_uri": "https://localhost:8080/",
          "height": 367
        },
        "id": "vdAz7Z86h-ec",
        "outputId": "ba9388a0-6822-4cdb-ab17-740279f3a6b7"
      },
      "source": [
        "#checking for outliers\n",
        "#\n",
        "#checking for outliers in Age variable\n",
        "\n",
        "sns.boxplot(data_20_new[\"Age\"], color=\"yellow\")\n",
        "plt.show()"
      ],
      "execution_count": null,
      "outputs": [
        {
          "output_type": "stream",
          "text": [
            "/usr/local/lib/python3.7/dist-packages/seaborn/_decorators.py:43: FutureWarning:\n",
            "\n",
            "Pass the following variable as a keyword arg: x. From version 0.12, the only valid positional argument will be `data`, and passing other arguments without an explicit keyword will result in an error or misinterpretation.\n",
            "\n"
          ],
          "name": "stderr"
        },
        {
          "output_type": "display_data",
          "data": {
            "image/png": "[encoded data removed]",
            "text/plain": [
              "<Figure size 432x288 with 1 Axes>"
            ]
          },
          "metadata": {
            "tags": [],
            "needs_background": "light"
          }
        }
      ]
    },
    {
      "cell_type": "code",
      "metadata": {
        "id": "mbsvqUi4SBud"
      },
      "source": [
        "#outlier in the total years of experience\n",
        "#\n",
        "# 383 years of expreince is outlier, thus will be removed\n",
        "#replacing value in 2020 dataset( it)\n",
        "data_20_new = data_20_new.replace(['383'],'0')"
      ],
      "execution_count": null,
      "outputs": []
    },
    {
      "cell_type": "code",
      "metadata": {
        "colab": {
          "base_uri": "https://localhost:8080/",
          "height": 367
        },
        "id": "UKSVz3e_mjyg",
        "outputId": "cbc7a204-c8ff-45ec-858a-6b95ac40d645"
      },
      "source": [
        "#checking for outliers in \"Yearly brutto salary (without bonus and stocks) in EUR\" variable\n",
        "sns.boxplot(data_20_new[\"Yearly brutto salary (without bonus and stocks) in EUR\"], color=\"green\")\n",
        "plt.show()"
      ],
      "execution_count": null,
      "outputs": [
        {
          "output_type": "stream",
          "text": [
            "/usr/local/lib/python3.7/dist-packages/seaborn/_decorators.py:43: FutureWarning:\n",
            "\n",
            "Pass the following variable as a keyword arg: x. From version 0.12, the only valid positional argument will be `data`, and passing other arguments without an explicit keyword will result in an error or misinterpretation.\n",
            "\n"
          ],
          "name": "stderr"
        },
        {
          "output_type": "display_data",
          "data": {
            "image/png": "[encoded data removed]",
            "text/plain": [
              "<Figure size 432x288 with 1 Axes>"
            ]
          },
          "metadata": {
            "tags": [],
            "needs_background": "light"
          }
        }
      ]
    },
    {
      "cell_type": "code",
      "metadata": {
        "colab": {
          "base_uri": "https://localhost:8080/",
          "height": 367
        },
        "id": "bF9jCTZ1nLE8",
        "outputId": "77d85d1e-43d7-4040-8cfc-97355d939000"
      },
      "source": [
        "#checking for outliers in Age variable\n",
        "\n",
        "sns.boxplot(data_20_new[\"Annual brutto salary (without bonus and stocks) one year ago. Only answer if staying in the same country\"])\n",
        "plt.show()"
      ],
      "execution_count": null,
      "outputs": [
        {
          "output_type": "stream",
          "text": [
            "/usr/local/lib/python3.7/dist-packages/seaborn/_decorators.py:43: FutureWarning:\n",
            "\n",
            "Pass the following variable as a keyword arg: x. From version 0.12, the only valid positional argument will be `data`, and passing other arguments without an explicit keyword will result in an error or misinterpretation.\n",
            "\n"
          ],
          "name": "stderr"
        },
        {
          "output_type": "display_data",
          "data": {
            "image/png": "[encoded data removed]",
            "text/plain": [
              "<Figure size 432x288 with 1 Axes>"
            ]
          },
          "metadata": {
            "tags": [],
            "needs_background": "light"
          }
        }
      ]
    },
    {
      "cell_type": "code",
      "metadata": {
        "colab": {
          "base_uri": "https://localhost:8080/",
          "height": 367
        },
        "id": "L-aeAM4MoIH2",
        "outputId": "e4ac82ed-00b7-4eee-8fc3-f3eac69f156f"
      },
      "source": [
        "#checking for outliers in Age variable\n",
        "\n",
        "sns.boxplot(data_20_new[\"Have you been forced to have a shorter working week (Kurzarbeit)? If yes, how many hours per week\"])\n",
        "plt.show()"
      ],
      "execution_count": null,
      "outputs": [
        {
          "output_type": "stream",
          "text": [
            "/usr/local/lib/python3.7/dist-packages/seaborn/_decorators.py:43: FutureWarning:\n",
            "\n",
            "Pass the following variable as a keyword arg: x. From version 0.12, the only valid positional argument will be `data`, and passing other arguments without an explicit keyword will result in an error or misinterpretation.\n",
            "\n"
          ],
          "name": "stderr"
        },
        {
          "output_type": "display_data",
          "data": {
            "image/png": "[encoded data removed]",
            "text/plain": [
              "<Figure size 432x288 with 1 Axes>"
            ]
          },
          "metadata": {
            "tags": [],
            "needs_background": "light"
          }
        }
      ]
    },
    {
      "cell_type": "markdown",
      "metadata": {
        "id": "kVPvYbAqoaaY"
      },
      "source": [
        "**observation**: \n",
        "\n",
        "*   The above 4 variable have outliers, however, we won't drop them since they look genuine.\n",
        "\n"
      ]
    },
    {
      "cell_type": "code",
      "metadata": {
        "colab": {
          "base_uri": "https://localhost:8080/"
        },
        "id": "7HuxnktUYhfW",
        "outputId": "bc53ac5e-885c-4657-ec0c-c43042d5f4bc"
      },
      "source": [
        "#3g. making the categories uniform i.e python and Python should mean the same thing\n",
        "#standardizing variable names for readability\n",
        "data_20_new.columns = data_20_new.columns.str.strip().str.lower().str.replace(' ', '_').str.replace('(', '').str.replace(')', '')\n",
        "data_20_new.columns"
      ],
      "execution_count": null,
      "outputs": [
        {
          "output_type": "execute_result",
          "data": {
            "text/plain": [
              "Index(['age', 'gender', 'city', 'position', 'total_years_of_experience',\n",
              "       'years_of_experience_in_germany', 'seniority_level',\n",
              "       'your_main_technology_/_programming_language',\n",
              "       'other_technologies/programming_languages_you_use_often',\n",
              "       'yearly_brutto_salary_without_bonus_and_stocks_in_eur',\n",
              "       'yearly_bonus_+_stocks_in_eur',\n",
              "       'annual_brutto_salary_without_bonus_and_stocks_one_year_ago._only_answer_if_staying_in_the_same_country',\n",
              "       'annual_bonus+stocks_one_year_ago._only_answer_if_staying_in_same_country',\n",
              "       'number_of_vacation_days', 'employment_status', 'сontract_duration',\n",
              "       'main_language_at_work', 'company_size', 'company_type',\n",
              "       'have_you_lost_your_job_due_to_the_coronavirus_outbreak?',\n",
              "       'have_you_been_forced_to_have_a_shorter_working_week_kurzarbeit?_if_yes,_how_many_hours_per_week',\n",
              "       'have_you_received_additional_monetary_support_from_your_employer_due_to_work_from_home?_if_yes,_how_much_in_2020_in_eur'],\n",
              "      dtype='object')"
            ]
          },
          "metadata": {
            "tags": []
          },
          "execution_count": 526
        }
      ]
    },
    {
      "cell_type": "code",
      "metadata": {
        "colab": {
          "base_uri": "https://localhost:8080/",
          "height": 326
        },
        "id": "LuNHOayspsOn",
        "outputId": "70ba1539-96b6-4e75-8cef-8dd1adbe15ab"
      },
      "source": [
        "# our clean 2020 dataset\n",
        "data_20_clean= data_20_new.copy()\n",
        "data_20_clean.head()"
      ],
      "execution_count": null,
      "outputs": [
        {
          "output_type": "execute_result",
          "data": {
            "text/html": [
              "<div>\n",
              "<style scoped>\n",
              "    .dataframe tbody tr th:only-of-type {\n",
              "        vertical-align: middle;\n",
              "    }\n",
              "\n",
              "    .dataframe tbody tr th {\n",
              "        vertical-align: top;\n",
              "    }\n",
              "\n",
              "    .dataframe thead th {\n",
              "        text-align: right;\n",
              "    }\n",
              "</style>\n",
              "<table border=\"1\" class=\"dataframe\">\n",
              "  <thead>\n",
              "    <tr style=\"text-align: right;\">\n",
              "      <th></th>\n",
              "      <th>age</th>\n",
              "      <th>gender</th>\n",
              "      <th>city</th>\n",
              "      <th>position</th>\n",
              "      <th>total_years_of_experience</th>\n",
              "      <th>years_of_experience_in_germany</th>\n",
              "      <th>seniority_level</th>\n",
              "      <th>your_main_technology_/_programming_language</th>\n",
              "      <th>other_technologies/programming_languages_you_use_often</th>\n",
              "      <th>yearly_brutto_salary_without_bonus_and_stocks_in_eur</th>\n",
              "      <th>yearly_bonus_+_stocks_in_eur</th>\n",
              "      <th>annual_brutto_salary_without_bonus_and_stocks_one_year_ago._only_answer_if_staying_in_the_same_country</th>\n",
              "      <th>annual_bonus+stocks_one_year_ago._only_answer_if_staying_in_same_country</th>\n",
              "      <th>number_of_vacation_days</th>\n",
              "      <th>employment_status</th>\n",
              "      <th>сontract_duration</th>\n",
              "      <th>main_language_at_work</th>\n",
              "      <th>company_size</th>\n",
              "      <th>company_type</th>\n",
              "      <th>have_you_lost_your_job_due_to_the_coronavirus_outbreak?</th>\n",
              "      <th>have_you_been_forced_to_have_a_shorter_working_week_kurzarbeit?_if_yes,_how_many_hours_per_week</th>\n",
              "      <th>have_you_received_additional_monetary_support_from_your_employer_due_to_work_from_home?_if_yes,_how_much_in_2020_in_eur</th>\n",
              "    </tr>\n",
              "  </thead>\n",
              "  <tbody>\n",
              "    <tr>\n",
              "      <th>0</th>\n",
              "      <td>26.0</td>\n",
              "      <td>Male</td>\n",
              "      <td>Munich</td>\n",
              "      <td>Software Engineer</td>\n",
              "      <td>5</td>\n",
              "      <td>3</td>\n",
              "      <td>Senior</td>\n",
              "      <td>TypeScript</td>\n",
              "      <td>Kotlin, Javascript / Typescript</td>\n",
              "      <td>80000.0</td>\n",
              "      <td>5000</td>\n",
              "      <td>75000.000000</td>\n",
              "      <td>10000</td>\n",
              "      <td>30</td>\n",
              "      <td>Full-time employee</td>\n",
              "      <td>Unlimited contract</td>\n",
              "      <td>English</td>\n",
              "      <td>51-100</td>\n",
              "      <td>Product</td>\n",
              "      <td>No</td>\n",
              "      <td>12.967828</td>\n",
              "      <td>0</td>\n",
              "    </tr>\n",
              "    <tr>\n",
              "      <th>1</th>\n",
              "      <td>26.0</td>\n",
              "      <td>Male</td>\n",
              "      <td>Berlin</td>\n",
              "      <td>Backend Developer</td>\n",
              "      <td>7</td>\n",
              "      <td>4</td>\n",
              "      <td>Senior</td>\n",
              "      <td>Ruby</td>\n",
              "      <td>Javascript / Typescript</td>\n",
              "      <td>80000.0</td>\n",
              "      <td>0</td>\n",
              "      <td>82000.000000</td>\n",
              "      <td>5000</td>\n",
              "      <td>28</td>\n",
              "      <td>Full-time employee</td>\n",
              "      <td>Unlimited contract</td>\n",
              "      <td>English</td>\n",
              "      <td>101-1000</td>\n",
              "      <td>Product</td>\n",
              "      <td>No</td>\n",
              "      <td>12.967828</td>\n",
              "      <td>0</td>\n",
              "    </tr>\n",
              "    <tr>\n",
              "      <th>2</th>\n",
              "      <td>29.0</td>\n",
              "      <td>Male</td>\n",
              "      <td>Berlin</td>\n",
              "      <td>Software Engineer</td>\n",
              "      <td>12</td>\n",
              "      <td>6</td>\n",
              "      <td>Lead</td>\n",
              "      <td>Javascript / Typescript</td>\n",
              "      <td>Javascript / Typescript, Docker</td>\n",
              "      <td>120000.0</td>\n",
              "      <td>120000</td>\n",
              "      <td>100000.000000</td>\n",
              "      <td>100000</td>\n",
              "      <td>30</td>\n",
              "      <td>Self-employed (freelancer)</td>\n",
              "      <td>Temporary contract</td>\n",
              "      <td>English</td>\n",
              "      <td>101-1000</td>\n",
              "      <td>Product</td>\n",
              "      <td>Yes</td>\n",
              "      <td>12.967828</td>\n",
              "      <td>0</td>\n",
              "    </tr>\n",
              "    <tr>\n",
              "      <th>3</th>\n",
              "      <td>28.0</td>\n",
              "      <td>Male</td>\n",
              "      <td>Berlin</td>\n",
              "      <td>Frontend Developer</td>\n",
              "      <td>4</td>\n",
              "      <td>1</td>\n",
              "      <td>Junior</td>\n",
              "      <td>Javascript</td>\n",
              "      <td>Javascript / Typescript</td>\n",
              "      <td>54000.0</td>\n",
              "      <td>0</td>\n",
              "      <td>632245.872316</td>\n",
              "      <td>0</td>\n",
              "      <td>24</td>\n",
              "      <td>Full-time employee</td>\n",
              "      <td>Unlimited contract</td>\n",
              "      <td>English</td>\n",
              "      <td>51-100</td>\n",
              "      <td>Startup</td>\n",
              "      <td>No</td>\n",
              "      <td>12.967828</td>\n",
              "      <td>0</td>\n",
              "    </tr>\n",
              "    <tr>\n",
              "      <th>4</th>\n",
              "      <td>37.0</td>\n",
              "      <td>Male</td>\n",
              "      <td>Berlin</td>\n",
              "      <td>Backend Developer</td>\n",
              "      <td>17</td>\n",
              "      <td>6</td>\n",
              "      <td>Senior</td>\n",
              "      <td>C# .NET</td>\n",
              "      <td>.NET, SQL, AWS, Docker</td>\n",
              "      <td>62000.0</td>\n",
              "      <td>0</td>\n",
              "      <td>62000.000000</td>\n",
              "      <td>0</td>\n",
              "      <td>29</td>\n",
              "      <td>Full-time employee</td>\n",
              "      <td>Unlimited contract</td>\n",
              "      <td>English</td>\n",
              "      <td>101-1000</td>\n",
              "      <td>Product</td>\n",
              "      <td>No</td>\n",
              "      <td>12.967828</td>\n",
              "      <td>0</td>\n",
              "    </tr>\n",
              "  </tbody>\n",
              "</table>\n",
              "</div>"
            ],
            "text/plain": [
              "    age  ... have_you_received_additional_monetary_support_from_your_employer_due_to_work_from_home?_if_yes,_how_much_in_2020_in_eur\n",
              "0  26.0  ...                                                  0                                                                     \n",
              "1  26.0  ...                                                  0                                                                     \n",
              "2  29.0  ...                                                  0                                                                     \n",
              "3  28.0  ...                                                  0                                                                     \n",
              "4  37.0  ...                                                  0                                                                     \n",
              "\n",
              "[5 rows x 22 columns]"
            ]
          },
          "metadata": {
            "tags": []
          },
          "execution_count": 527
        }
      ]
    },
    {
      "cell_type": "markdown",
      "metadata": {
        "id": "d6Xw-mldX-ap"
      },
      "source": [
        "### Cleaning 2018 dataset"
      ]
    },
    {
      "cell_type": "code",
      "metadata": {
        "id": "fV_yDHS0rFW3",
        "colab": {
          "base_uri": "https://localhost:8080/"
        },
        "outputId": "045aa662-a1e9-44ed-a88a-d5d2c687fc3b"
      },
      "source": [
        "#4.More cleaning of 2019_data database\n",
        "#4a. checking for the missing data.\n",
        "data_18_new.isnull().sum()"
      ],
      "execution_count": null,
      "outputs": [
        {
          "output_type": "execute_result",
          "data": {
            "text/plain": [
              "Age                                    93\n",
              "Gender                                 14\n",
              "City                                   29\n",
              "Position                               28\n",
              "Years of experience                    33\n",
              "Your level                             22\n",
              "Current Salary                         15\n",
              "Salary one year ago                   169\n",
              "Salary two years ago                  302\n",
              "Are you getting any Stock Options?     23\n",
              "Main language at work                  15\n",
              "Company size                           15\n",
              "Company type                           35\n",
              "dtype: int64"
            ]
          },
          "metadata": {
            "tags": []
          },
          "execution_count": 528
        }
      ]
    },
    {
      "cell_type": "markdown",
      "metadata": {
        "id": "nPfb6hauY61k"
      },
      "source": [
        "**observation**; all the variables has missing variable."
      ]
    },
    {
      "cell_type": "code",
      "metadata": {
        "colab": {
          "base_uri": "https://localhost:8080/"
        },
        "id": "Xowz3sTFYoEX",
        "outputId": "e7b083ab-1e3e-4628-d44f-fd5d1b37d36e"
      },
      "source": [
        "#Getting the precise summary\n",
        "data_18_new.info()"
      ],
      "execution_count": null,
      "outputs": [
        {
          "output_type": "stream",
          "text": [
            "<class 'pandas.core.frame.DataFrame'>\n",
            "RangeIndex: 765 entries, 0 to 764\n",
            "Data columns (total 13 columns):\n",
            " #   Column                              Non-Null Count  Dtype  \n",
            "---  ------                              --------------  -----  \n",
            " 0   Age                                 672 non-null    float64\n",
            " 1   Gender                              751 non-null    object \n",
            " 2   City                                736 non-null    object \n",
            " 3   Position                            737 non-null    object \n",
            " 4   Years of experience                 732 non-null    float64\n",
            " 5   Your level                          743 non-null    object \n",
            " 6   Current Salary                      750 non-null    float64\n",
            " 7   Salary one year ago                 596 non-null    float64\n",
            " 8   Salary two years ago                463 non-null    float64\n",
            " 9   Are you getting any Stock Options?  742 non-null    object \n",
            " 10  Main language at work               750 non-null    object \n",
            " 11  Company size                        750 non-null    object \n",
            " 12  Company type                        730 non-null    object \n",
            "dtypes: float64(5), object(8)\n",
            "memory usage: 77.8+ KB\n"
          ],
          "name": "stdout"
        }
      ]
    },
    {
      "cell_type": "code",
      "metadata": {
        "id": "PZPXonlqZG6l"
      },
      "source": [
        "#converting 2018 database object variables to the correct datatype-category\n",
        "cat_col= [\"Gender\",\"City\", \"Position\", \"Your level\", \"Are you getting any Stock Options?\", \"Main language at work\", \"Company size\", \"Company type\"]\n",
        "data_18_new[cat_col]= data_18_new[cat_col].astype('category')"
      ],
      "execution_count": null,
      "outputs": []
    },
    {
      "cell_type": "code",
      "metadata": {
        "colab": {
          "base_uri": "https://localhost:8080/"
        },
        "id": "ccoIHCnCbGUt",
        "outputId": "e4cdf4e3-6a4e-4f35-ef82-d47f76ae1b56"
      },
      "source": [
        "#checking the changes \n",
        "data_18_new.info()"
      ],
      "execution_count": null,
      "outputs": [
        {
          "output_type": "stream",
          "text": [
            "<class 'pandas.core.frame.DataFrame'>\n",
            "RangeIndex: 765 entries, 0 to 764\n",
            "Data columns (total 13 columns):\n",
            " #   Column                              Non-Null Count  Dtype   \n",
            "---  ------                              --------------  -----   \n",
            " 0   Age                                 672 non-null    float64 \n",
            " 1   Gender                              751 non-null    category\n",
            " 2   City                                736 non-null    category\n",
            " 3   Position                            737 non-null    category\n",
            " 4   Years of experience                 732 non-null    float64 \n",
            " 5   Your level                          743 non-null    category\n",
            " 6   Current Salary                      750 non-null    float64 \n",
            " 7   Salary one year ago                 596 non-null    float64 \n",
            " 8   Salary two years ago                463 non-null    float64 \n",
            " 9   Are you getting any Stock Options?  742 non-null    category\n",
            " 10  Main language at work               750 non-null    category\n",
            " 11  Company size                        750 non-null    category\n",
            " 12  Company type                        730 non-null    category\n",
            "dtypes: category(8), float64(5)\n",
            "memory usage: 65.4 KB\n"
          ],
          "name": "stdout"
        }
      ]
    },
    {
      "cell_type": "code",
      "metadata": {
        "id": "2yohYPdbcNob"
      },
      "source": [
        "#4b. Dealing with the missing variable\n",
        "#filling the missing values in the categorical variables with mode\n",
        "#\n",
        "data_18_new.fillna({'Gender': data_18_new['Gender'].mode()[0]}, inplace=True)\n",
        "data_18_new.fillna({'City': data_18_new['City'].mode()[0]}, inplace=True)\n",
        "data_18_new.fillna({'Position': data_18_new['Position'].mode()[0]}, inplace=True)\n",
        "data_18_new.fillna({'Your level': data_18_new['Your level'].mode()[0]}, inplace=True)\n",
        "data_18_new.fillna({'Are you getting any Stock Options?': data_18_new['Are you getting any Stock Options?'].mode()[0]}, inplace=True)\n",
        "data_18_new.fillna({'Main language at work': data_18_new['Main language at work'].mode()[0]}, inplace=True)\n",
        "data_18_new.fillna({'Company size': data_18_new['Company size']. mode()[0]}, inplace=True)\n",
        "data_18_new.fillna({'Company type': data_18_new['Company type'].mode()[0]}, inplace=True)\n"
      ],
      "execution_count": null,
      "outputs": []
    },
    {
      "cell_type": "code",
      "metadata": {
        "id": "JauZBps0eTgB"
      },
      "source": [
        "#4c. For numerical variables, fill the missing values with the mean of the data\n",
        "#\n",
        "# Filling the missing values in the numeric variable with mean\n",
        "#\n",
        "data_18_new['Age']= data_18_new['Age'].fillna(data_18_new['Age'].mean(), axis = 0)\n",
        "data_18_new['Years of experience']= data_18_new['Years of experience'].fillna(data_18_new['Years of experience'].mean(), axis = 0)\n",
        "data_18_new['Current Salary']= data_18_new['Current Salary'].fillna(data_18_new['Current Salary'].mean(), axis = 0)\n",
        "data_18_new['Salary one year ago']= data_18_new['Salary one year ago'].fillna(data_18_new['Salary one year ago'].mean(), axis = 0)\n",
        "data_18_new['Salary two years ago']= data_18_new['Salary two years ago'].fillna(data_18_new['Salary two years ago'].mean(), axis = 0)"
      ],
      "execution_count": null,
      "outputs": []
    },
    {
      "cell_type": "code",
      "metadata": {
        "colab": {
          "base_uri": "https://localhost:8080/"
        },
        "id": "zGK78bM4gIqU",
        "outputId": "bf645657-7d2b-4dc0-aab1-dabe96c25c67"
      },
      "source": [
        "#confirming no missing values\n",
        "data_18_new.isnull().sum().any()"
      ],
      "execution_count": null,
      "outputs": [
        {
          "output_type": "execute_result",
          "data": {
            "text/plain": [
              "False"
            ]
          },
          "metadata": {
            "tags": []
          },
          "execution_count": 534
        }
      ]
    },
    {
      "cell_type": "code",
      "metadata": {
        "colab": {
          "base_uri": "https://localhost:8080/"
        },
        "id": "NJp83oHogmbM",
        "outputId": "b43ea342-96c7-4882-dcc5-ce1a47cfb22f"
      },
      "source": [
        "#4d. checking for duplicates\n",
        "data_18_new.duplicated().sum()"
      ],
      "execution_count": null,
      "outputs": [
        {
          "output_type": "execute_result",
          "data": {
            "text/plain": [
              "21"
            ]
          },
          "metadata": {
            "tags": []
          },
          "execution_count": 535
        }
      ]
    },
    {
      "cell_type": "code",
      "metadata": {
        "colab": {
          "base_uri": "https://localhost:8080/"
        },
        "id": "-jt4ayaygab5",
        "outputId": "28d0c772-0897-4cfe-e581-d04225c677f4"
      },
      "source": [
        "#4e. dropping the duplicates\n",
        "#\n",
        "data_18_new.drop_duplicates(inplace = True)\n",
        "#\n",
        "#confirming there is no duplicates\n",
        "#\n",
        "data_18_new.duplicated().any()"
      ],
      "execution_count": null,
      "outputs": [
        {
          "output_type": "execute_result",
          "data": {
            "text/plain": [
              "False"
            ]
          },
          "metadata": {
            "tags": []
          },
          "execution_count": 536
        }
      ]
    },
    {
      "cell_type": "code",
      "metadata": {
        "colab": {
          "base_uri": "https://localhost:8080/",
          "height": 596
        },
        "id": "YARLzdCghKdq",
        "outputId": "25939cbd-3857-425d-fe10-fef777c1bca2"
      },
      "source": [
        "# Checking for Outliers\n",
        "#\n",
        "plt.figure(figsize = (20, 10))\n",
        "data_18_new.boxplot(fontsize=14, grid = False)\n",
        "plt.show()\n"
      ],
      "execution_count": null,
      "outputs": [
        {
          "output_type": "display_data",
          "data": {
            "image/png": "[encoded data removed]",
            "text/plain": [
              "<Figure size 1440x720 with 1 Axes>"
            ]
          },
          "metadata": {
            "tags": [],
            "needs_background": "light"
          }
        }
      ]
    },
    {
      "cell_type": "markdown",
      "metadata": {
        "id": "7nqFFDReivwr"
      },
      "source": [
        "**Observation**:\n",
        "*   There are outliers but they look genuine thus we won't drop them.\n",
        "\n"
      ]
    },
    {
      "cell_type": "code",
      "metadata": {
        "colab": {
          "base_uri": "https://localhost:8080/"
        },
        "id": "iaxXios0jD1R",
        "outputId": "e1749d77-dc1c-42b0-b3cb-a6148ad0ec99"
      },
      "source": [
        "#standardizing variable names for readability\n",
        "data_18_new.columns = data_18_new.columns.str.strip().str.lower().str.replace(' ', '_').str.replace('(', '').str.replace(')', '')\n",
        "data_18_new.columns"
      ],
      "execution_count": null,
      "outputs": [
        {
          "output_type": "execute_result",
          "data": {
            "text/plain": [
              "Index(['age', 'gender', 'city', 'position', 'years_of_experience',\n",
              "       'your_level', 'current_salary', 'salary_one_year_ago',\n",
              "       'salary_two_years_ago', 'are_you_getting_any_stock_options?',\n",
              "       'main_language_at_work', 'company_size', 'company_type'],\n",
              "      dtype='object')"
            ]
          },
          "metadata": {
            "tags": []
          },
          "execution_count": 538
        }
      ]
    },
    {
      "cell_type": "code",
      "metadata": {
        "colab": {
          "base_uri": "https://localhost:8080/",
          "height": 360
        },
        "id": "YQWmmJVAkeTL",
        "outputId": "7bf65d83-2a05-4246-92ce-e1600ed4afca"
      },
      "source": [
        "# our clean 2018 dataset\n",
        "data_18_clean= data_18_new.copy()\n",
        "data_18_clean.head()"
      ],
      "execution_count": null,
      "outputs": [
        {
          "output_type": "execute_result",
          "data": {
            "text/html": [
              "<div>\n",
              "<style scoped>\n",
              "    .dataframe tbody tr th:only-of-type {\n",
              "        vertical-align: middle;\n",
              "    }\n",
              "\n",
              "    .dataframe tbody tr th {\n",
              "        vertical-align: top;\n",
              "    }\n",
              "\n",
              "    .dataframe thead th {\n",
              "        text-align: right;\n",
              "    }\n",
              "</style>\n",
              "<table border=\"1\" class=\"dataframe\">\n",
              "  <thead>\n",
              "    <tr style=\"text-align: right;\">\n",
              "      <th></th>\n",
              "      <th>age</th>\n",
              "      <th>gender</th>\n",
              "      <th>city</th>\n",
              "      <th>position</th>\n",
              "      <th>years_of_experience</th>\n",
              "      <th>your_level</th>\n",
              "      <th>current_salary</th>\n",
              "      <th>salary_one_year_ago</th>\n",
              "      <th>salary_two_years_ago</th>\n",
              "      <th>are_you_getting_any_stock_options?</th>\n",
              "      <th>main_language_at_work</th>\n",
              "      <th>company_size</th>\n",
              "      <th>company_type</th>\n",
              "    </tr>\n",
              "  </thead>\n",
              "  <tbody>\n",
              "    <tr>\n",
              "      <th>0</th>\n",
              "      <td>43.0</td>\n",
              "      <td>M</td>\n",
              "      <td>München</td>\n",
              "      <td>QA Ingenieur</td>\n",
              "      <td>11.0</td>\n",
              "      <td>Senior</td>\n",
              "      <td>77000.0</td>\n",
              "      <td>76200.0</td>\n",
              "      <td>68000.0</td>\n",
              "      <td>No</td>\n",
              "      <td>Deutsch</td>\n",
              "      <td>100-1000</td>\n",
              "      <td>Product</td>\n",
              "    </tr>\n",
              "    <tr>\n",
              "      <th>1</th>\n",
              "      <td>33.0</td>\n",
              "      <td>F</td>\n",
              "      <td>München</td>\n",
              "      <td>Senior PHP Magento developer</td>\n",
              "      <td>8.0</td>\n",
              "      <td>Senior</td>\n",
              "      <td>65000.0</td>\n",
              "      <td>55000.0</td>\n",
              "      <td>55000.0</td>\n",
              "      <td>No</td>\n",
              "      <td>Deutsch</td>\n",
              "      <td>50-100</td>\n",
              "      <td>Product</td>\n",
              "    </tr>\n",
              "    <tr>\n",
              "      <th>2</th>\n",
              "      <td>32.0</td>\n",
              "      <td>M</td>\n",
              "      <td>München</td>\n",
              "      <td>Software Engineer</td>\n",
              "      <td>10.0</td>\n",
              "      <td>Senior</td>\n",
              "      <td>88000.0</td>\n",
              "      <td>73000.0</td>\n",
              "      <td>54000.0</td>\n",
              "      <td>No</td>\n",
              "      <td>Deutsch</td>\n",
              "      <td>1000+</td>\n",
              "      <td>Product</td>\n",
              "    </tr>\n",
              "    <tr>\n",
              "      <th>3</th>\n",
              "      <td>25.0</td>\n",
              "      <td>M</td>\n",
              "      <td>München</td>\n",
              "      <td>Senior Frontend Developer</td>\n",
              "      <td>6.0</td>\n",
              "      <td>Senior</td>\n",
              "      <td>78000.0</td>\n",
              "      <td>55000.0</td>\n",
              "      <td>45000.0</td>\n",
              "      <td>Yes</td>\n",
              "      <td>English</td>\n",
              "      <td>1000+</td>\n",
              "      <td>Product</td>\n",
              "    </tr>\n",
              "    <tr>\n",
              "      <th>4</th>\n",
              "      <td>39.0</td>\n",
              "      <td>M</td>\n",
              "      <td>München</td>\n",
              "      <td>UX Designer</td>\n",
              "      <td>10.0</td>\n",
              "      <td>Senior</td>\n",
              "      <td>69000.0</td>\n",
              "      <td>60000.0</td>\n",
              "      <td>52000.0</td>\n",
              "      <td>No</td>\n",
              "      <td>English</td>\n",
              "      <td>100-1000</td>\n",
              "      <td>Ecom retailer</td>\n",
              "    </tr>\n",
              "  </tbody>\n",
              "</table>\n",
              "</div>"
            ],
            "text/plain": [
              "    age gender     city  ... main_language_at_work  company_size   company_type\n",
              "0  43.0      M  München  ...               Deutsch      100-1000        Product\n",
              "1  33.0      F  München  ...               Deutsch        50-100        Product\n",
              "2  32.0      M  München  ...               Deutsch         1000+        Product\n",
              "3  25.0      M  München  ...               English         1000+        Product\n",
              "4  39.0      M  München  ...               English      100-1000  Ecom retailer\n",
              "\n",
              "[5 rows x 13 columns]"
            ]
          },
          "metadata": {
            "tags": []
          },
          "execution_count": 539
        }
      ]
    },
    {
      "cell_type": "markdown",
      "metadata": {
        "id": "4_F6n9eVvKT1"
      },
      "source": [
        "### Cleaning 2019 dataset"
      ]
    },
    {
      "cell_type": "code",
      "metadata": {
        "colab": {
          "base_uri": "https://localhost:8080/"
        },
        "id": "5y_yJIN-u-Hb",
        "outputId": "59230f80-82f8-4e54-954c-cd12cb3ce4d6"
      },
      "source": [
        "#5a. checking the missing value\n",
        "data_19_new.isnull().sum()"
      ],
      "execution_count": null,
      "outputs": [
        {
          "output_type": "execute_result",
          "data": {
            "text/plain": [
              "Age                                                                                                     109\n",
              "Gender                                                                                                    0\n",
              "City                                                                                                      0\n",
              "Seniority level                                                                                          15\n",
              "Position (without seniority)                                                                              1\n",
              "Years of experience                                                                                       0\n",
              "Your main technology / programming language                                                              14\n",
              "Yearly brutto salary (without bonus and stocks)                                                           1\n",
              "Yearly bonus                                                                                            461\n",
              "Yearly stocks                                                                                           788\n",
              "Yearly brutto salary (without bonus and stocks) one year ago. Only answer if staying in same country    388\n",
              "Yearly bonus one year ago. Only answer if staying in same country                                       734\n",
              "Yearly stocks one year ago. Only answer if staying in same country                                      852\n",
              "Number of vacation days                                                                                  60\n",
              "Number of home office days per month                                                                    352\n",
              "Main language at work                                                                                     5\n",
              "Company name                                                                                            734\n",
              "Company size                                                                                             14\n",
              "Company type                                                                                             31\n",
              "Сontract duration                                                                                        29\n",
              "Company business sector                                                                                 145\n",
              "0                                                                                                       991\n",
              "dtype: int64"
            ]
          },
          "metadata": {
            "tags": []
          },
          "execution_count": 540
        }
      ]
    },
    {
      "cell_type": "markdown",
      "metadata": {
        "id": "HPXUhWuvwBWI"
      },
      "source": [
        "**observation**: Majority of the variable has missing values.\n"
      ]
    },
    {
      "cell_type": "code",
      "metadata": {
        "colab": {
          "base_uri": "https://localhost:8080/"
        },
        "id": "oZLOWFxlwO4v",
        "outputId": "e169cfa5-a854-4a9e-d2b7-401640580f76"
      },
      "source": [
        "#checking the datatype\n",
        "data_19_new.dtypes"
      ],
      "execution_count": null,
      "outputs": [
        {
          "output_type": "execute_result",
          "data": {
            "text/plain": [
              "Age                                                                                                     float64\n",
              "Gender                                                                                                   object\n",
              "City                                                                                                     object\n",
              "Seniority level                                                                                          object\n",
              "Position (without seniority)                                                                             object\n",
              "Years of experience                                                                                       int64\n",
              "Your main technology / programming language                                                              object\n",
              "Yearly brutto salary (without bonus and stocks)                                                         float64\n",
              "Yearly bonus                                                                                            float64\n",
              "Yearly stocks                                                                                           float64\n",
              "Yearly brutto salary (without bonus and stocks) one year ago. Only answer if staying in same country    float64\n",
              "Yearly bonus one year ago. Only answer if staying in same country                                       float64\n",
              "Yearly stocks one year ago. Only answer if staying in same country                                      float64\n",
              "Number of vacation days                                                                                 float64\n",
              "Number of home office days per month                                                                    float64\n",
              "Main language at work                                                                                    object\n",
              "Company name                                                                                             object\n",
              "Company size                                                                                             object\n",
              "Company type                                                                                             object\n",
              "Сontract duration                                                                                        object\n",
              "Company business sector                                                                                  object\n",
              "0                                                                                                       float64\n",
              "dtype: object"
            ]
          },
          "metadata": {
            "tags": []
          },
          "execution_count": 541
        }
      ]
    },
    {
      "cell_type": "code",
      "metadata": {
        "id": "R0Tv_4WWzv2E"
      },
      "source": [
        "#converting 2018 database object variables to the correct datatype-category\n",
        "cat_col19= [\"Gender\",\"City\",\"Seniority level\",\"Position (without seniority)\", \"Main language at work\", \"Your main technology / programming language\",\"Company name \",\"Company size\", \"Company type\", \"Сontract duration\",\"Company business sector\"]\n",
        "data_19_new[cat_col19]= data_19_new[cat_col19].astype('category')\n"
      ],
      "execution_count": null,
      "outputs": []
    },
    {
      "cell_type": "code",
      "metadata": {
        "colab": {
          "base_uri": "https://localhost:8080/"
        },
        "id": "IiztjAlh2wC0",
        "outputId": "a1a0dc56-67d7-4e93-abe1-fa9b93803fd3"
      },
      "source": [
        "##checking the changes \n",
        "data_19_new.dtypes"
      ],
      "execution_count": null,
      "outputs": [
        {
          "output_type": "execute_result",
          "data": {
            "text/plain": [
              "Age                                                                                                      float64\n",
              "Gender                                                                                                  category\n",
              "City                                                                                                    category\n",
              "Seniority level                                                                                         category\n",
              "Position (without seniority)                                                                            category\n",
              "Years of experience                                                                                        int64\n",
              "Your main technology / programming language                                                             category\n",
              "Yearly brutto salary (without bonus and stocks)                                                          float64\n",
              "Yearly bonus                                                                                             float64\n",
              "Yearly stocks                                                                                            float64\n",
              "Yearly brutto salary (without bonus and stocks) one year ago. Only answer if staying in same country     float64\n",
              "Yearly bonus one year ago. Only answer if staying in same country                                        float64\n",
              "Yearly stocks one year ago. Only answer if staying in same country                                       float64\n",
              "Number of vacation days                                                                                  float64\n",
              "Number of home office days per month                                                                     float64\n",
              "Main language at work                                                                                   category\n",
              "Company name                                                                                            category\n",
              "Company size                                                                                            category\n",
              "Company type                                                                                            category\n",
              "Сontract duration                                                                                       category\n",
              "Company business sector                                                                                 category\n",
              "0                                                                                                        float64\n",
              "dtype: object"
            ]
          },
          "metadata": {
            "tags": []
          },
          "execution_count": 543
        }
      ]
    },
    {
      "cell_type": "code",
      "metadata": {
        "id": "nyRUv0vx320l"
      },
      "source": [
        "#dropping unnecessary colunm\n",
        "data_19_new.drop(['0'], axis = 1, inplace=True)\n",
        "#\n",
        "#renaming the 'Company name ' variable\n",
        "data_19_new.rename(columns={'Company name ': 'Company name'}, inplace=True)"
      ],
      "execution_count": null,
      "outputs": []
    },
    {
      "cell_type": "code",
      "metadata": {
        "colab": {
          "base_uri": "https://localhost:8080/"
        },
        "id": "ECf_n1ut5Q0R",
        "outputId": "c06565ce-b236-41a5-c922-f1c72fa9cfdc"
      },
      "source": [
        "#confirming the changes\n",
        "data_19_new.columns"
      ],
      "execution_count": null,
      "outputs": [
        {
          "output_type": "execute_result",
          "data": {
            "text/plain": [
              "Index(['Age', 'Gender', 'City', 'Seniority level',\n",
              "       'Position (without seniority)', 'Years of experience',\n",
              "       'Your main technology / programming language',\n",
              "       'Yearly brutto salary (without bonus and stocks)', 'Yearly bonus',\n",
              "       'Yearly stocks',\n",
              "       'Yearly brutto salary (without bonus and stocks) one year ago. Only answer if staying in same country',\n",
              "       'Yearly bonus one year ago. Only answer if staying in same country',\n",
              "       'Yearly stocks one year ago. Only answer if staying in same country',\n",
              "       'Number of vacation days', 'Number of home office days per month',\n",
              "       'Main language at work', 'Company name', 'Company size', 'Company type',\n",
              "       'Сontract duration', 'Company business sector'],\n",
              "      dtype='object')"
            ]
          },
          "metadata": {
            "tags": []
          },
          "execution_count": 545
        }
      ]
    },
    {
      "cell_type": "code",
      "metadata": {
        "id": "mu8YISlGwmCr"
      },
      "source": [
        "#5b. Dealing with the missing variable\n",
        "#filling the missing values in the categorical variables with mode\n",
        "#\n",
        "data_19_new.fillna({'Gender': data_19_new['Gender'].mode()[0]}, inplace=True)\n",
        "data_19_new.fillna({'Seniority level': data_19_new['Seniority level'].mode()[0]}, inplace=True)\n",
        "data_19_new.fillna({'Position (without seniority)': data_19_new['Position (without seniority)'].mode()[0]}, inplace=True)\n",
        "data_19_new.fillna({'Your main technology / programming language': data_19_new['Your main technology / programming language'].mode()[0]}, inplace=True)\n",
        "data_19_new.fillna({'Main language at work': data_19_new['Main language at work'].mode()[0]}, inplace=True)\n",
        "data_19_new.fillna({'Company name': data_19_new['Company name'].mode()[0]}, inplace=True)\n",
        "data_19_new.fillna({'Company type': data_19_new['Company type'].mode()[0]}, inplace=True)\n",
        "data_19_new.fillna({'Сontract duration': data_19_new['Сontract duration'].mode()[0]}, inplace=True)\n",
        "data_19_new.fillna({'Company business sector': data_19_new['Company business sector'].mode()[0]}, inplace=True)\n",
        "data_19_new.fillna({'Company size': data_19_new['Company size'].mode()[0]}, inplace=True)"
      ],
      "execution_count": null,
      "outputs": []
    },
    {
      "cell_type": "code",
      "metadata": {
        "id": "ku_2b6Un8ld7"
      },
      "source": [
        "#5c. Filling the missing values in the numeric variable with mean\n",
        "#\n",
        "data_19_new['Age']= data_19_new['Age'].fillna(data_19_new['Age'].mean(), axis = 0)\n",
        "data_19_new['Yearly brutto salary (without bonus and stocks)']= data_19_new['Yearly brutto salary (without bonus and stocks)'].fillna(data_19_new['Yearly brutto salary (without bonus and stocks)'].mean(), axis = 0)\n",
        "data_19_new['Yearly bonus']= data_19_new['Yearly bonus'].fillna(data_19_new['Yearly bonus'].mean(), axis = 0)\n",
        "data_19_new['Yearly stocks']= data_19_new['Yearly stocks'].fillna(data_19_new['Yearly stocks'].mean(), axis = 0)\n",
        "data_19_new['Yearly brutto salary (without bonus and stocks) one year ago. Only answer if staying in same country']= data_19_new['Yearly brutto salary (without bonus and stocks) one year ago. Only answer if staying in same country'].fillna(data_19_new['Yearly brutto salary (without bonus and stocks) one year ago. Only answer if staying in same country'].mean(), axis = 0)\n",
        "data_19_new['Yearly bonus one year ago. Only answer if staying in same country']= data_19_new['Yearly bonus one year ago. Only answer if staying in same country'].fillna(data_19_new['Yearly bonus one year ago. Only answer if staying in same country'].mean(), axis = 0)\n",
        "data_19_new['Yearly stocks one year ago. Only answer if staying in same country']= data_19_new['Yearly stocks one year ago. Only answer if staying in same country'].fillna(data_19_new['Yearly stocks one year ago. Only answer if staying in same country'].mean(), axis = 0)\n",
        "data_19_new['Number of vacation days']= data_19_new['Number of vacation days'].fillna(data_19_new['Number of vacation days'].mean(), axis = 0)\n",
        "data_19_new['Number of home office days per month']= data_19_new['Number of home office days per month'].fillna(data_19_new['Number of home office days per month'].mean(), axis = 0)"
      ],
      "execution_count": null,
      "outputs": []
    },
    {
      "cell_type": "code",
      "metadata": {
        "colab": {
          "base_uri": "https://localhost:8080/"
        },
        "id": "EFHb15Ey3P_y",
        "outputId": "18cd4168-27a4-4c65-ed6c-b23a4b6288fa"
      },
      "source": [
        "#confirming no missing value\n",
        "data_19_new.isnull().sum().any()\n"
      ],
      "execution_count": null,
      "outputs": [
        {
          "output_type": "execute_result",
          "data": {
            "text/plain": [
              "False"
            ]
          },
          "metadata": {
            "tags": []
          },
          "execution_count": 548
        }
      ]
    },
    {
      "cell_type": "code",
      "metadata": {
        "colab": {
          "base_uri": "https://localhost:8080/"
        },
        "id": "xZLBWCO-B5Yo",
        "outputId": "18e4d33d-57bd-44eb-a827-28b607ddd798"
      },
      "source": [
        "#5d. checking for duplicates\n",
        "data_19_new.duplicated().sum()"
      ],
      "execution_count": null,
      "outputs": [
        {
          "output_type": "execute_result",
          "data": {
            "text/plain": [
              "8"
            ]
          },
          "metadata": {
            "tags": []
          },
          "execution_count": 549
        }
      ]
    },
    {
      "cell_type": "code",
      "metadata": {
        "colab": {
          "base_uri": "https://localhost:8080/"
        },
        "id": "5v5FwoRpChU3",
        "outputId": "992f9812-90c1-45d0-8cbe-d58b900e9097"
      },
      "source": [
        "#5e. dropping the duplicates\n",
        "#\n",
        "data_19_new.drop_duplicates(inplace = True)\n",
        "#\n",
        "#confirming there is no duplicates\n",
        "#\n",
        "data_19_new.duplicated().any()"
      ],
      "execution_count": null,
      "outputs": [
        {
          "output_type": "execute_result",
          "data": {
            "text/plain": [
              "False"
            ]
          },
          "metadata": {
            "tags": []
          },
          "execution_count": 550
        }
      ]
    },
    {
      "cell_type": "code",
      "metadata": {
        "colab": {
          "base_uri": "https://localhost:8080/",
          "height": 426
        },
        "id": "bjYNJfPbCnEi",
        "outputId": "0b7b8a19-8530-4fbb-ce59-325a200fefe8"
      },
      "source": [
        "#5f. Checking for Outliers\n",
        "#\n",
        "plt.figure(figsize = (30, 10))\n",
        "data_19_new.boxplot(fontsize=10, grid = False)\n",
        "plt.show()\n"
      ],
      "execution_count": null,
      "outputs": [
        {
          "output_type": "display_data",
          "data": {
            "image/png": "[encoded data removed]",
            "text/plain": [
              "<Figure size 2160x720 with 1 Axes>"
            ]
          },
          "metadata": {
            "tags": [],
            "needs_background": "light"
          }
        }
      ]
    },
    {
      "cell_type": "markdown",
      "metadata": {
        "id": "5TlE2O-aCzym"
      },
      "source": [
        "**observation**: there are outliers but we won't remove them since they look genuine."
      ]
    },
    {
      "cell_type": "code",
      "metadata": {
        "colab": {
          "base_uri": "https://localhost:8080/"
        },
        "id": "uxAXQGr6DIMv",
        "outputId": "71dd9bb4-5af2-42fc-d815-d2ca19acaf8a"
      },
      "source": [
        "#5g. standardizing variable names for readability\n",
        "data_19_new.columns = data_19_new.columns.str.strip().str.lower().str.replace(' ', '_').str.replace('(', '').str.replace(')', '')\n",
        "data_19_new.columns"
      ],
      "execution_count": null,
      "outputs": [
        {
          "output_type": "execute_result",
          "data": {
            "text/plain": [
              "Index(['age', 'gender', 'city', 'seniority_level',\n",
              "       'position_without_seniority', 'years_of_experience',\n",
              "       'your_main_technology_/_programming_language',\n",
              "       'yearly_brutto_salary_without_bonus_and_stocks', 'yearly_bonus',\n",
              "       'yearly_stocks',\n",
              "       'yearly_brutto_salary_without_bonus_and_stocks_one_year_ago._only_answer_if_staying_in_same_country',\n",
              "       'yearly_bonus_one_year_ago._only_answer_if_staying_in_same_country',\n",
              "       'yearly_stocks_one_year_ago._only_answer_if_staying_in_same_country',\n",
              "       'number_of_vacation_days', 'number_of_home_office_days_per_month',\n",
              "       'main_language_at_work', 'company_name', 'company_size', 'company_type',\n",
              "       'сontract_duration', 'company_business_sector'],\n",
              "      dtype='object')"
            ]
          },
          "metadata": {
            "tags": []
          },
          "execution_count": 552
        }
      ]
    },
    {
      "cell_type": "code",
      "metadata": {
        "colab": {
          "base_uri": "https://localhost:8080/",
          "height": 224
        },
        "id": "NZ5jb_MZDUkS",
        "outputId": "49f80e59-6e25-4164-bb2c-5a87fdb7f981"
      },
      "source": [
        "# our clean 2019 dataset\n",
        "data_19_clean= data_19_new.copy()\n",
        "data_19_clean.head()"
      ],
      "execution_count": null,
      "outputs": [
        {
          "output_type": "execute_result",
          "data": {
            "text/html": [
              "<div>\n",
              "<style scoped>\n",
              "    .dataframe tbody tr th:only-of-type {\n",
              "        vertical-align: middle;\n",
              "    }\n",
              "\n",
              "    .dataframe tbody tr th {\n",
              "        vertical-align: top;\n",
              "    }\n",
              "\n",
              "    .dataframe thead th {\n",
              "        text-align: right;\n",
              "    }\n",
              "</style>\n",
              "<table border=\"1\" class=\"dataframe\">\n",
              "  <thead>\n",
              "    <tr style=\"text-align: right;\">\n",
              "      <th></th>\n",
              "      <th>age</th>\n",
              "      <th>gender</th>\n",
              "      <th>city</th>\n",
              "      <th>seniority_level</th>\n",
              "      <th>position_without_seniority</th>\n",
              "      <th>years_of_experience</th>\n",
              "      <th>your_main_technology_/_programming_language</th>\n",
              "      <th>yearly_brutto_salary_without_bonus_and_stocks</th>\n",
              "      <th>yearly_bonus</th>\n",
              "      <th>yearly_stocks</th>\n",
              "      <th>yearly_brutto_salary_without_bonus_and_stocks_one_year_ago._only_answer_if_staying_in_same_country</th>\n",
              "      <th>yearly_bonus_one_year_ago._only_answer_if_staying_in_same_country</th>\n",
              "      <th>yearly_stocks_one_year_ago._only_answer_if_staying_in_same_country</th>\n",
              "      <th>number_of_vacation_days</th>\n",
              "      <th>number_of_home_office_days_per_month</th>\n",
              "      <th>main_language_at_work</th>\n",
              "      <th>company_name</th>\n",
              "      <th>company_size</th>\n",
              "      <th>company_type</th>\n",
              "      <th>сontract_duration</th>\n",
              "      <th>company_business_sector</th>\n",
              "    </tr>\n",
              "  </thead>\n",
              "  <tbody>\n",
              "    <tr>\n",
              "      <th>0</th>\n",
              "      <td>33.0000</td>\n",
              "      <td>Male</td>\n",
              "      <td>Berlin</td>\n",
              "      <td>Senior</td>\n",
              "      <td>Fullstack Developer</td>\n",
              "      <td>13</td>\n",
              "      <td>PHP</td>\n",
              "      <td>64000.0</td>\n",
              "      <td>1000.000000</td>\n",
              "      <td>18263.119803</td>\n",
              "      <td>58000.000000</td>\n",
              "      <td>1000.0</td>\n",
              "      <td>8204.476331</td>\n",
              "      <td>29.0</td>\n",
              "      <td>4.00000</td>\n",
              "      <td>English</td>\n",
              "      <td>Zalando</td>\n",
              "      <td>50-100</td>\n",
              "      <td>Startup</td>\n",
              "      <td>unlimited</td>\n",
              "      <td>Tourism</td>\n",
              "    </tr>\n",
              "    <tr>\n",
              "      <th>1</th>\n",
              "      <td>29.0000</td>\n",
              "      <td>Male</td>\n",
              "      <td>Berlin</td>\n",
              "      <td>Middle</td>\n",
              "      <td>Backend Developer</td>\n",
              "      <td>3</td>\n",
              "      <td>Python</td>\n",
              "      <td>55000.0</td>\n",
              "      <td>7857.169811</td>\n",
              "      <td>18263.119803</td>\n",
              "      <td>55000.000000</td>\n",
              "      <td>8144.0</td>\n",
              "      <td>8204.476331</td>\n",
              "      <td>22.0</td>\n",
              "      <td>4.00000</td>\n",
              "      <td>English</td>\n",
              "      <td>Zalando</td>\n",
              "      <td>10-50</td>\n",
              "      <td>Product</td>\n",
              "      <td>unlimited</td>\n",
              "      <td>Scientific Activities</td>\n",
              "    </tr>\n",
              "    <tr>\n",
              "      <th>2</th>\n",
              "      <td>32.4161</td>\n",
              "      <td>Male</td>\n",
              "      <td>Berlin</td>\n",
              "      <td>Middle</td>\n",
              "      <td>Mobile Developer</td>\n",
              "      <td>4</td>\n",
              "      <td>Kotlin</td>\n",
              "      <td>70000.0</td>\n",
              "      <td>7857.169811</td>\n",
              "      <td>18263.119803</td>\n",
              "      <td>55000.000000</td>\n",
              "      <td>8144.0</td>\n",
              "      <td>8204.476331</td>\n",
              "      <td>27.0</td>\n",
              "      <td>6.46205</td>\n",
              "      <td>English</td>\n",
              "      <td>Zalando</td>\n",
              "      <td>1000+</td>\n",
              "      <td>Startup</td>\n",
              "      <td>unlimited</td>\n",
              "      <td>Сommerce</td>\n",
              "    </tr>\n",
              "    <tr>\n",
              "      <th>3</th>\n",
              "      <td>30.0000</td>\n",
              "      <td>Male</td>\n",
              "      <td>Berlin</td>\n",
              "      <td>Senior</td>\n",
              "      <td>Backend Developer</td>\n",
              "      <td>6</td>\n",
              "      <td>PHP</td>\n",
              "      <td>63000.0</td>\n",
              "      <td>7857.169811</td>\n",
              "      <td>18263.119803</td>\n",
              "      <td>65803.895522</td>\n",
              "      <td>8144.0</td>\n",
              "      <td>8204.476331</td>\n",
              "      <td>24.0</td>\n",
              "      <td>6.46205</td>\n",
              "      <td>English</td>\n",
              "      <td>Auto1</td>\n",
              "      <td>100-1000</td>\n",
              "      <td>Product</td>\n",
              "      <td>unlimited</td>\n",
              "      <td>Transport</td>\n",
              "    </tr>\n",
              "    <tr>\n",
              "      <th>4</th>\n",
              "      <td>32.0000</td>\n",
              "      <td>Male</td>\n",
              "      <td>Berlin</td>\n",
              "      <td>Senior</td>\n",
              "      <td>Embedded Developer</td>\n",
              "      <td>10</td>\n",
              "      <td>C/C++</td>\n",
              "      <td>66000.0</td>\n",
              "      <td>7857.169811</td>\n",
              "      <td>18263.119803</td>\n",
              "      <td>56000.000000</td>\n",
              "      <td>8144.0</td>\n",
              "      <td>8204.476331</td>\n",
              "      <td>30.0</td>\n",
              "      <td>0.00000</td>\n",
              "      <td>English</td>\n",
              "      <td>Luxoft</td>\n",
              "      <td>50-100</td>\n",
              "      <td>Product</td>\n",
              "      <td>unlimited</td>\n",
              "      <td>Automotive</td>\n",
              "    </tr>\n",
              "  </tbody>\n",
              "</table>\n",
              "</div>"
            ],
            "text/plain": [
              "       age gender  ... сontract_duration company_business_sector\n",
              "0  33.0000   Male  ...         unlimited                 Tourism\n",
              "1  29.0000   Male  ...         unlimited   Scientific Activities\n",
              "2  32.4161   Male  ...         unlimited                Сommerce\n",
              "3  30.0000   Male  ...         unlimited               Transport\n",
              "4  32.0000   Male  ...         unlimited              Automotive\n",
              "\n",
              "[5 rows x 21 columns]"
            ]
          },
          "metadata": {
            "tags": []
          },
          "execution_count": 553
        }
      ]
    },
    {
      "cell_type": "code",
      "metadata": {
        "id": "6duYzEGpWqPk"
      },
      "source": [
        "#imporrting libraries\n",
        "from matplotlib import pyplot as plt\n",
        "import plotly.io as pio\n",
        "import plotly.express as px\n",
        "import plotly.graph_objs as go\n",
        "#!pip install chart-studio\n",
        "import chart_studio.plotly as plotly\n",
        "from chart_studio.plotly import plot, iplot\n",
        "from plotly.offline import iplot"
      ],
      "execution_count": null,
      "outputs": []
    },
    {
      "cell_type": "markdown",
      "metadata": {
        "id": "s8RT70fOCb_T"
      },
      "source": [
        "## Task 4: Data Visualization using Plotly\n",
        "**Note:** All the tasks below need to be completed using only Plotly and no other Data Visualization library.\n",
        "\n",
        "* Create a pie chart to analyze the Company types in the year 2019. Are Consulting / Agency companies more popular than Startups? \n",
        "* Create a line plot of the Total years of experience vs the current salary(taking the median salary for each of the different experience years) of the year 2018.\n",
        "* Now, create the above plot again and add 2 more line plots to the same graph, that display the Total years of experience vs the median Yearly brutto salary (without bonus and stocks) of the year 2019 and 2020.\n",
        "* Create a bar chart to analyse the popularity of the main technology/ programming languages amongst the respondents in the year 2020. Which technology is the most popular? Which technology is the least popular (with less than 4 responses)?\n",
        "* Create a pie plot indicating the gender ratio of the respondents in the year 2020.\n"
      ]
    },
    {
      "cell_type": "code",
      "metadata": {
        "colab": {
          "base_uri": "https://localhost:8080/",
          "height": 542
        },
        "id": "4JZrEmlFHs3P",
        "outputId": "e830d6f6-aa97-43fc-f4c9-8f0b8a39be9f"
      },
      "source": [
        "#4a. Create a pie chart to analyze the Company types in the year 2019. \n",
        "#Are Consulting / Agency companies more popular than Startups?\n",
        "#\n",
        "fig = px.pie(data_19_clean, values= None, names ='company_type', hole=0.2)\n",
        "fig.update_traces(textinfo=\"label+percent\", insidetextfont= dict(color=\"white\"))\n",
        "fig.update_layout(legend = {\"itemclick\": False})\n",
        "fig.show()"
      ],
      "execution_count": null,
      "outputs": [
        {
          "output_type": "display_data",
          "data": {
            "text/html": [
              "<html>\n",
              "<head><meta charset=\"utf-8\" /></head>\n",
              "<body>\n",
              "    <div>\n",
              "            <script src=\"https://cdnjs.cloudflare.com/ajax/libs/mathjax/2.7.5/MathJax.js?config=TeX-AMS-MML_SVG\"></script><script type=\"text/javascript\">if (window.MathJax) {MathJax.Hub.Config({SVG: {font: \"STIX-Web\"}});}</script>\n",
              "                <script type=\"text/javascript\">window.PlotlyConfig = {MathJaxConfig: 'local'};</script>\n",
              "        <script src=\"https://cdn.plot.ly/plotly-latest.min.js\"></script>    \n",
              "            <div id=\"4b882fff-e2cd-4469-b60e-17289affc046\" class=\"plotly-graph-div\" style=\"height:525px; width:100%;\"></div>\n",
              "            <script type=\"text/javascript\">\n",
              "                \n",
              "                    window.PLOTLYENV=window.PLOTLYENV || {};\n",
              "                    \n",
              "                if (document.getElementById(\"4b882fff-e2cd-4469-b60e-17289affc046\")) {\n",
              "                    Plotly.newPlot(\n",
              "                        '4b882fff-e2cd-4469-b60e-17289affc046',\n",
              "                        [{\"domain\": {\"x\": [0.0, 1.0], \"y\": [0.0, 1.0]}, \"hole\": 0.2, \"hoverlabel\": {\"namelength\": 0}, \"hovertemplate\": \"company_type=%{label}\", \"insidetextfont\": {\"color\": \"white\"}, \"labels\": [\"Startup\", \"Product\", \"Startup\", \"Product\", \"Product\", \"Product\", \"Startup\", \"Product\", \"Product\", \"Product\", \"Startup\", \"Product\", \"Startup\", \"Product\", \"Startup\", \"Startup\", \"Product\", \"Product\", \"Product\", \"Product\", \"Startup\", \"Product\", \"Product\", \"Product\", \"Product\", \"Product\", \"Product\", \"Consulting / Agency\", \"Product\", \"Product\", \"Product\", \"Consulting / Agency\", \"Startup\", \"Product\", \"Product\", \"Product\", \"Product\", \"Startup\", \"Product\", \"Product\", \"Startup\", \"Product\", \"Product\", \"Startup\", \"Startup\", \"Product\", \"Product\", \"Consulting / Agency\", \"Startup\", \"Product\", \"Startup\", \"Consulting / Agency\", \"Startup\", \"Startup\", \"Product\", \"Consulting / Agency\", \"Product\", \"Startup\", \"Startup\", \"Startup\", \"Product\", \"Product\", \"Product\", \"Product\", \"Startup\", \"Product\", \"Product\", \"Startup\", \"Consulting / Agency\", \"Product\", \"Product\", \"Consulting / Agency\", \"Product\", \"Product\", \"Startup\", \"Product\", \"Product\", \"Product\", \"Product\", \"Product\", \"Startup\", \"Product\", \"Product\", \"Product\", \"Consulting / Agency\", \"Product\", \"Startup\", \"Product\", \"Product\", \"Product\", \"Startup\", \"Consulting / Agency\", \"Product\", \"Startup\", \"Product\", \"Startup\", \"Product\", \"Product\", \"Product\", \"Product\", \"Product\", \"Consulting / Agency\", \"Startup\", \"Product\", \"Consulting / Agency\", \"Startup\", \"Product\", \"Product\", \"Consulting / Agency\", \"Product\", \"Product\", \"Consulting / Agency\", \"Startup\", \"Startup\", \"Consulting / Agency\", \"Product\", \"Product\", \"Bodyshop / Outsource\", \"Product\", \"Product\", \"Product\", \"Product\", \"Product\", \"Product\", \"Product\", \"Consulting / Agency\", \"Product\", \"Product\", \"Product\", \"Product\", \"Product\", \"Bodyshop / Outsource\", \"Startup\", \"Product\", \"Consulting / Agency\", \"Bodyshop / Outsource\", \"Consulting / Agency\", \"Product\", \"Product\", \"Consulting / Agency\", \"Product\", \"Product\", \"Startup\", \"Product\", \"Product\", \"Product\", \"Product\", \"Product\", \"Product\", \"Consulting / Agency\", \"Product\", \"Product\", \"Product\", \"Product\", \"Product\", \"Product\", \"Product\", \"Product\", \"Product\", \"Product\", \"Product\", \"Consulting / Agency\", \"Startup\", \"Product\", \"Product\", \"Consulting / Agency\", \"Product\", \"Product\", \"Startup\", \"Startup\", \"Product\", \"Product\", \"Product\", \"Product\", \"Product\", \"Product\", \"Product\", \"Product\", \"Product\", \"Consulting / Agency\", \"Product\", \"Product\", \"Consulting / Agency\", \"Product\", \"Consulting / Agency\", \"Product\", \"Product\", \"Product\", \"Product\", \"Product\", \"Product\", \"Product\", \"Product\", \"Product\", \"Product\", \"Consulting / Agency\", \"Product\", \"Product\", \"Startup\", \"Product\", \"Consulting / Agency\", \"Product\", \"Product\", \"Product\", \"Consulting / Agency\", \"Product\", \"Product\", \"Product\", \"Product\", \"Product\", \"Product\", \"Product\", \"Product\", \"Product\", \"Product\", \"Product\", \"Product\", \"Product\", \"Product\", \"Product\", \"Product\", \"Product\", \"Startup\", \"Product\", \"Bodyshop / Outsource\", \"Product\", \"Startup\", \"Consulting / Agency\", \"Product\", \"Consulting / Agency\", \"Product\", \"Bodyshop / Outsource\", \"Product\", \"Startup\", \"Startup\", \"Consulting / Agency\", \"Startup\", \"Product\", \"Product\", \"Bodyshop / Outsource\", \"Product\", \"Startup\", \"Product\", \"Product\", \"Consulting / Agency\", \"Product\", \"Product\", \"Product\", \"Product\", \"Product\", \"Product\", \"Product\", \"Product\", \"Product\", \"Product\", \"Startup\", \"Product\", \"Product\", \"Product\", \"Startup\", \"Startup\", \"Product\", \"Product\", \"Product\", \"Product\", \"Startup\", \"Product\", \"Startup\", \"Bodyshop / Outsource\", \"Product\", \"Consulting / Agency\", \"Product\", \"Product\", \"Consulting / Agency\", \"Product\", \"Startup\", \"Product\", \"Product\", \"Product\", \"Product\", \"Product\", \"Product\", \"Product\", \"Product\", \"Startup\", \"Product\", \"Product\", \"Product\", \"Startup\", \"Product\", \"Product\", \"Product\", \"Consulting / Agency\", \"Bodyshop / Outsource\", \"Product\", \"Product\", \"Product\", \"Consulting / Agency\", \"Product\", \"Product\", \"Product\", \"Product\", \"Product\", \"Startup\", \"Product\", \"Product\", \"Product\", \"Startup\", \"Consulting / Agency\", \"Startup\", \"Product\", \"Product\", \"Product\", \"Startup\", \"Product\", \"Product\", \"Startup\", \"Product\", \"Product\", \"Product\", \"Product\", \"Product\", \"Product\", \"Product\", \"Startup\", \"Product\", \"Product\", \"Product\", \"Consulting / Agency\", \"Product\", \"Product\", \"Product\", \"Startup\", \"Startup\", \"Product\", \"Product\", \"Product\", \"Product\", \"Product\", \"Product\", \"Product\", \"Product\", \"Product\", \"Product\", \"Startup\", \"Product\", \"Bodyshop / Outsource\", \"Product\", \"Startup\", \"Product\", \"Product\", \"Product\", \"Product\", \"Consulting / Agency\", \"Product\", \"Product\", \"Product\", \"Product\", \"Product\", \"Startup\", \"Startup\", \"Product\", \"Product\", \"Product\", \"Product\", \"Product\", \"Startup\", \"Product\", \"Product\", \"Startup\", \"Product\", \"Consulting / Agency\", \"Startup\", \"Consulting / Agency\", \"Product\", \"Product\", \"Product\", \"Bodyshop / Outsource\", \"Product\", \"Bodyshop / Outsource\", \"Product\", \"Startup\", \"Product\", \"Product\", \"Startup\", \"Product\", \"Startup\", \"Startup\", \"Product\", \"Startup\", \"Product\", \"Product\", \"Product\", \"Product\", \"Product\", \"Product\", \"Consulting / Agency\", \"Startup\", \"Product\", \"Product\", \"Product\", \"Product\", \"Product\", \"Startup\", \"Consulting / Agency\", \"Product\", \"Product\", \"Startup\", \"Product\", \"Product\", \"Product\", \"Product\", \"Product\", \"Product\", \"Product\", \"Product\", \"Startup\", \"Product\", \"Startup\", \"Consulting / Agency\", \"Consulting / Agency\", \"Product\", \"Product\", \"Consulting / Agency\", \"Consulting / Agency\", \"Consulting / Agency\", \"Product\", \"Product\", \"Startup\", \"Product\", \"Product\", \"Product\", \"Bodyshop / Outsource\", \"Product\", \"Product\", \"Consulting / Agency\", \"Startup\", \"Product\", \"Startup\", \"Startup\", \"Startup\", \"Consulting / Agency\", \"Consulting / Agency\", \"Product\", \"Product\", \"Product\", \"Startup\", \"Product\", \"Startup\", \"Startup\", \"Startup\", \"Product\", \"Consulting / Agency\", \"Consulting / Agency\", \"Startup\", \"Product\", \"Product\", \"Product\", \"University\", \"Bodyshop / Outsource\", \"Product\", \"Product\", \"Product\", \"Startup\", \"Product\", \"Bodyshop / Outsource\", \"Product\", \"Product\", \"Product\", \"Product\", \"Consulting / Agency\", \"Startup\", \"Product\", \"Product\", \"Product\", \"Product\", \"Consulting / Agency\", \"Startup\", \"Product\", \"Startup\", \"Product\", \"Product\", \"Product\", \"Product\", \"Product\", \"Startup\", \"Product\", \"Product\", \"Startup\", \"Consulting / Agency\", \"Product\", \"Product\", \"Consulting / Agency\", \"Product\", \"Product\", \"Product\", \"Product\", \"Product\", \"Startup\", \"Consulting / Agency\", \"Startup\", \"Consulting / Agency\", \"Product\", \"Product\", \"Startup\", \"Product\", \"Product\", \"Product\", \"Startup\", \"Product\", \"Consulting / Agency\", \"Startup\", \"Consulting / Agency\", \"Consulting / Agency\", \"Consulting / Agency\", \"Product\", \"Product\", \"Startup\", \"Product\", \"Product\", \"Startup\", \"Product\", \"Product\", \"Startup\", \"Consulting / Agency\", \"Product\", \"Product\", \"Product\", \"Product\", \"Startup\", \"Startup\", \"Consulting / Agency\", \"Product\", \"Product\", \"Startup\", \"Product\", \"Product\", \"Product\", \"Startup\", \"Startup\", \"Product\", \"Product\", \"Startup\", \"Product\", \"Product\", \"Product\", \"Product\", \"Product\", \"Startup\", \"Product\", \"Product\", \"Product\", \"Product\", \"Product\", \"Product\", \"Product\", \"Product\", \"Product\", \"Product\", \"Startup\", \"Product\", \"Product\", \"Startup\", \"Bodyshop / Outsource\", \"Startup\", \"Consulting / Agency\", \"Startup\", \"Product\", \"Product\", \"Product\", \"Startup\", \"Product\", \"Consulting / Agency\", \"Product\", \"Product\", \"Product\", \"Consulting / Agency\", \"Startup\", \"Product\", \"Startup\", \"Consulting / Agency\", \"Startup\", \"Product\", \"Product\", \"Product\", \"Consulting / Agency\", \"Product\", \"Product\", \"Product\", \"Consulting / Agency\", \"Consulting / Agency\", \"Product\", \"Product\", \"Product\", \"Product\", \"Product\", \"Consulting / Agency\", \"Product\", \"Product\", \"Consulting / Agency\", \"Product\", \"Product\", \"Product\", \"Startup\", \"Product\", \"Product\", \"Consulting / Agency\", \"Product\", \"Product\", \"Product\", \"Product\", \"Product\", \"Product\", \"Product\", \"Product\", \"Product\", \"Product\", \"Product\", \"Startup\", \"Product\", \"Product\", \"Product\", \"Product\", \"Product\", \"Product\", \"Consulting / Agency\", \"Product\", \"Bodyshop / Outsource\", \"Product\", \"Product\", \"Startup\", \"Product\", \"Product\", \"Consulting / Agency\", \"Product\", \"Product\", \"Consulting / Agency\", \"Product\", \"Startup\", \"Product\", \"Startup\", \"Startup\", \"Product\", \"Consulting / Agency\", \"Startup\", \"Product\", \"Consulting / Agency\", \"Consulting / Agency\", \"Product\", \"Product\", \"Product\", \"Product\", \"Product\", \"Product\", \"Startup\", \"Product\", \"Product\", \"Product\", \"Startup\", \"Product\", \"Product\", \"Startup\", \"Product\", \"Startup\", \"Product\", \"Product\", \"Consulting / Agency\", \"Product\", \"Product\", \"Startup\", \"Product\", \"Product\", \"Consulting / Agency\", \"Product\", \"Product\", \"Product\", \"Product\", \"Product\", \"Startup\", \"Startup\", \"Product\", \"Product\", \"Consulting / Agency\", \"Product\", \"Startup\", \"Consulting / Agency\", \"Bodyshop / Outsource\", \"Startup\", \"Startup\", \"Product\", \"Product\", \"Product\", \"Startup\", \"Startup\", \"Product\", \"Startup\", \"Product\", \"Product\", \"Bank\", \"Product\", \"Bodyshop / Outsource\", \"Product\", \"Startup\", \"University\", \"Product\", \"Product\", \"Product\", \"Product\", \"Product\", \"Product\", \"Startup\", \"Product\", \"Product\", \"Product\", \"Bodyshop / Outsource\", \"Startup\", \"Product\", \"Product\", \"Product\", \"Product\", \"Product\", \"Startup\", \"Product\", \"Product\", \"Product\", \"Startup\", \"Bodyshop / Outsource\", \"Product\", \"Product\", \"Startup\", \"Product\", \"Product\", \"Product\", \"Product\", \"Product\", \"Product\", \"Product\", \"Bodyshop / Outsource\", \"Consulting / Agency\", \"Product\", \"Product\", \"Product\", \"Product\", \"Product\", \"Product\", \"Product\", \"Startup\", \"Product\", \"Product\", \"Consulting / Agency\", \"Consulting / Agency\", \"Product\", \"Product\", \"Startup\", \"Consulting / Agency\", \"Startup\", \"Consulting / Agency\", \"Product\", \"Bodyshop / Outsource\", \"Product\", \"Product\", \"Product\", \"Product\", \"Bodyshop / Outsource\", \"Product\", \"Bodyshop / Outsource\", \"Bodyshop / Outsource\", \"Product\", \"Product\", \"Product\", \"Bank\", \"Consulting / Agency\", \"Startup\", \"Product\", \"Product\", \"Product\", \"Product\", \"Product\", \"Product\", \"Product\", \"Product\", \"Product\", \"Product\", \"Product\", \"Product\", \"Product\", \"Product\", \"Bank\", \"Product\", \"Product\", \"Product\", \"Startup\", \"Consulting / Agency\", \"Startup\", \"Product\", \"Product\", \"Product\", \"Product\", \"Consulting / Agency\", \"Consulting / Agency\", \"Startup\", \"Product\", \"Product\", \"Consulting / Agency\", \"Product\", \"Consulting / Agency\", \"Product\", \"Bank\", \"Product\", \"Startup\", \"Consulting / Agency\", \"Product\", \"Product\", \"Product\", \"University\", \"Startup\", \"Product\", \"Startup\", \"Product\", \"Product\", \"Product\", \"Product\", \"Startup\", \"Product\", \"Product\", \"Product\", \"Startup\", \"Startup\", \"Product\", \"Product\", \"Product\", \"Startup\", \"Consulting / Agency\", \"Consulting / Agency\", \"Product\", \"Product\", \"Startup\", \"Product\", \"Product\", \"Product\", \"Product\", \"Product\", \"Consulting / Agency\", \"Startup\", \"Consulting / Agency\", \"Consulting / Agency\", \"Startup\", \"Bodyshop / Outsource\", \"Product\", \"Startup\", \"Product\", \"Startup\", \"Product\", \"Consulting / Agency\", \"Product\", \"Product\", \"Product\", \"Product\", \"Product\", \"Startup\", \"Consulting / Agency\", \"Startup\", \"Product\", \"Product\", \"Product\", \"Consulting / Agency\", \"Product\", \"Product\", \"Product\", \"Product\", \"Startup\", \"Product\", \"Product\", \"Product\", \"Product\", \"Product\", \"Startup\", \"Product\", \"Startup\", \"Startup\", \"Product\", \"Bodyshop / Outsource\", \"Product\", \"Product\", \"Product\", \"Startup\", \"Product\", \"Startup\", \"Product\", \"Product\", \"Product\", \"Product\", \"Product\", \"Product\", \"Product\", \"Bodyshop / Outsource\", \"Product\", \"Product\", \"Product\", \"Consulting / Agency\", \"Startup\", \"Product\", \"University\", \"Product\", \"Bodyshop / Outsource\", \"Product\", \"Product\", \"Product\", \"Product\", \"Product\", \"Product\", \"Product\", \"Product\", \"Product\", \"Startup\", \"Product\", \"Consulting / Agency\", \"University\", \"Product\", \"Startup\", \"Product\", \"Startup\", \"Product\", \"Startup\", \"Product\", \"Product\", \"Consulting / Agency\", \"Product\", \"Startup\", \"Product\", \"Product\", \"Product\", \"Product\", \"Outsource\", \"Product\", \"Product\", \"Startup\", \"Product\", \"Product\", \"Product\", \"Product\", \"Product\", \"Product\", \"Product\", \"Product\", \"Bodyshop / Outsource\", \"Product\", \"Product\", \"Product\", \"Product\", \"Product\", \"Product\", \"Product\", \"Product\", \"Consulting / Agency\", \"Product\", \"Product\", \"Product\", \"University\", \"Consulting / Agency\", \"Consulting / Agency\", \"Consulting / Agency\", \"Product\", \"Consulting / Agency\", \"Product\", \"Consulting / Agency\", \"Startup\", \"Product\", \"Product\", \"Bank\", \"Product\", \"Product\", \"Consulting / Agency\", \"Startup\", \"Product\", \"Product\", \"Product\", \"Product\", \"Product\", \"Bank\", \"Product\", \"Product\", \"Consulting / Agency\"], \"legendgroup\": \"\", \"name\": \"\", \"showlegend\": true, \"textinfo\": \"label+percent\", \"type\": \"pie\"}],\n",
              "                        {\"legend\": {\"itemclick\": false, \"tracegroupgap\": 0}, \"margin\": {\"t\": 60}, \"template\": {\"data\": {\"bar\": [{\"error_x\": {\"color\": \"#2a3f5f\"}, \"error_y\": {\"color\": \"#2a3f5f\"}, \"marker\": {\"line\": {\"color\": \"#E5ECF6\", \"width\": 0.5}}, \"type\": \"bar\"}], \"barpolar\": [{\"marker\": {\"line\": {\"color\": \"#E5ECF6\", \"width\": 0.5}}, \"type\": \"barpolar\"}], \"carpet\": [{\"aaxis\": {\"endlinecolor\": \"#2a3f5f\", \"gridcolor\": \"white\", \"linecolor\": \"white\", \"minorgridcolor\": \"white\", \"startlinecolor\": \"#2a3f5f\"}, \"baxis\": {\"endlinecolor\": \"#2a3f5f\", \"gridcolor\": \"white\", \"linecolor\": \"white\", \"minorgridcolor\": \"white\", \"startlinecolor\": \"#2a3f5f\"}, \"type\": \"carpet\"}], \"choropleth\": [{\"colorbar\": {\"outlinewidth\": 0, \"ticks\": \"\"}, \"type\": \"choropleth\"}], \"contour\": [{\"colorbar\": {\"outlinewidth\": 0, \"ticks\": \"\"}, \"colorscale\": [[0.0, \"#0d0887\"], [0.1111111111111111, \"#46039f\"], [0.2222222222222222, \"#7201a8\"], [0.3333333333333333, \"#9c179e\"], [0.4444444444444444, \"#bd3786\"], [0.5555555555555556, \"#d8576b\"], [0.6666666666666666, \"#ed7953\"], [0.7777777777777778, \"#fb9f3a\"], [0.8888888888888888, \"#fdca26\"], [1.0, \"#f0f921\"]], \"type\": \"contour\"}], \"contourcarpet\": [{\"colorbar\": {\"outlinewidth\": 0, \"ticks\": \"\"}, \"type\": \"contourcarpet\"}], \"heatmap\": [{\"colorbar\": {\"outlinewidth\": 0, \"ticks\": \"\"}, \"colorscale\": [[0.0, \"#0d0887\"], [0.1111111111111111, \"#46039f\"], [0.2222222222222222, \"#7201a8\"], [0.3333333333333333, \"#9c179e\"], [0.4444444444444444, \"#bd3786\"], [0.5555555555555556, \"#d8576b\"], [0.6666666666666666, \"#ed7953\"], [0.7777777777777778, \"#fb9f3a\"], [0.8888888888888888, \"#fdca26\"], [1.0, \"#f0f921\"]], \"type\": \"heatmap\"}], \"heatmapgl\": [{\"colorbar\": {\"outlinewidth\": 0, \"ticks\": \"\"}, \"colorscale\": [[0.0, \"#0d0887\"], [0.1111111111111111, \"#46039f\"], [0.2222222222222222, \"#7201a8\"], [0.3333333333333333, \"#9c179e\"], [0.4444444444444444, \"#bd3786\"], [0.5555555555555556, \"#d8576b\"], [0.6666666666666666, \"#ed7953\"], [0.7777777777777778, \"#fb9f3a\"], [0.8888888888888888, \"#fdca26\"], [1.0, \"#f0f921\"]], \"type\": \"heatmapgl\"}], \"histogram\": [{\"marker\": {\"colorbar\": {\"outlinewidth\": 0, \"ticks\": \"\"}}, \"type\": \"histogram\"}], \"histogram2d\": [{\"colorbar\": {\"outlinewidth\": 0, \"ticks\": \"\"}, \"colorscale\": [[0.0, \"#0d0887\"], [0.1111111111111111, \"#46039f\"], [0.2222222222222222, \"#7201a8\"], [0.3333333333333333, \"#9c179e\"], [0.4444444444444444, \"#bd3786\"], [0.5555555555555556, \"#d8576b\"], [0.6666666666666666, \"#ed7953\"], [0.7777777777777778, \"#fb9f3a\"], [0.8888888888888888, \"#fdca26\"], [1.0, \"#f0f921\"]], \"type\": \"histogram2d\"}], \"histogram2dcontour\": [{\"colorbar\": {\"outlinewidth\": 0, \"ticks\": \"\"}, \"colorscale\": [[0.0, \"#0d0887\"], [0.1111111111111111, \"#46039f\"], [0.2222222222222222, \"#7201a8\"], [0.3333333333333333, \"#9c179e\"], [0.4444444444444444, \"#bd3786\"], [0.5555555555555556, \"#d8576b\"], [0.6666666666666666, \"#ed7953\"], [0.7777777777777778, \"#fb9f3a\"], [0.8888888888888888, \"#fdca26\"], [1.0, \"#f0f921\"]], \"type\": \"histogram2dcontour\"}], \"mesh3d\": [{\"colorbar\": {\"outlinewidth\": 0, \"ticks\": \"\"}, \"type\": \"mesh3d\"}], \"parcoords\": [{\"line\": {\"colorbar\": {\"outlinewidth\": 0, \"ticks\": \"\"}}, \"type\": \"parcoords\"}], \"pie\": [{\"automargin\": true, \"type\": \"pie\"}], \"scatter\": [{\"marker\": {\"colorbar\": {\"outlinewidth\": 0, \"ticks\": \"\"}}, \"type\": \"scatter\"}], \"scatter3d\": [{\"line\": {\"colorbar\": {\"outlinewidth\": 0, \"ticks\": \"\"}}, \"marker\": {\"colorbar\": {\"outlinewidth\": 0, \"ticks\": \"\"}}, \"type\": \"scatter3d\"}], \"scattercarpet\": [{\"marker\": {\"colorbar\": {\"outlinewidth\": 0, \"ticks\": \"\"}}, \"type\": \"scattercarpet\"}], \"scattergeo\": [{\"marker\": {\"colorbar\": {\"outlinewidth\": 0, \"ticks\": \"\"}}, \"type\": \"scattergeo\"}], \"scattergl\": [{\"marker\": {\"colorbar\": {\"outlinewidth\": 0, \"ticks\": \"\"}}, \"type\": \"scattergl\"}], \"scattermapbox\": [{\"marker\": {\"colorbar\": {\"outlinewidth\": 0, \"ticks\": \"\"}}, \"type\": \"scattermapbox\"}], \"scatterpolar\": [{\"marker\": {\"colorbar\": {\"outlinewidth\": 0, \"ticks\": \"\"}}, \"type\": \"scatterpolar\"}], \"scatterpolargl\": [{\"marker\": {\"colorbar\": {\"outlinewidth\": 0, \"ticks\": \"\"}}, \"type\": \"scatterpolargl\"}], \"scatterternary\": [{\"marker\": {\"colorbar\": {\"outlinewidth\": 0, \"ticks\": \"\"}}, \"type\": \"scatterternary\"}], \"surface\": [{\"colorbar\": {\"outlinewidth\": 0, \"ticks\": \"\"}, \"colorscale\": [[0.0, \"#0d0887\"], [0.1111111111111111, \"#46039f\"], [0.2222222222222222, \"#7201a8\"], [0.3333333333333333, \"#9c179e\"], [0.4444444444444444, \"#bd3786\"], [0.5555555555555556, \"#d8576b\"], [0.6666666666666666, \"#ed7953\"], [0.7777777777777778, \"#fb9f3a\"], [0.8888888888888888, \"#fdca26\"], [1.0, \"#f0f921\"]], \"type\": \"surface\"}], \"table\": [{\"cells\": {\"fill\": {\"color\": \"#EBF0F8\"}, \"line\": {\"color\": \"white\"}}, \"header\": {\"fill\": {\"color\": \"#C8D4E3\"}, \"line\": {\"color\": \"white\"}}, \"type\": \"table\"}]}, \"layout\": {\"annotationdefaults\": {\"arrowcolor\": \"#2a3f5f\", \"arrowhead\": 0, \"arrowwidth\": 1}, \"coloraxis\": {\"colorbar\": {\"outlinewidth\": 0, \"ticks\": \"\"}}, \"colorscale\": {\"diverging\": [[0, \"#8e0152\"], [0.1, \"#c51b7d\"], [0.2, \"#de77ae\"], [0.3, \"#f1b6da\"], [0.4, \"#fde0ef\"], [0.5, \"#f7f7f7\"], [0.6, \"#e6f5d0\"], [0.7, \"#b8e186\"], [0.8, \"#7fbc41\"], [0.9, \"#4d9221\"], [1, \"#276419\"]], \"sequential\": [[0.0, \"#0d0887\"], [0.1111111111111111, \"#46039f\"], [0.2222222222222222, \"#7201a8\"], [0.3333333333333333, \"#9c179e\"], [0.4444444444444444, \"#bd3786\"], [0.5555555555555556, \"#d8576b\"], [0.6666666666666666, \"#ed7953\"], [0.7777777777777778, \"#fb9f3a\"], [0.8888888888888888, \"#fdca26\"], [1.0, \"#f0f921\"]], \"sequentialminus\": [[0.0, \"#0d0887\"], [0.1111111111111111, \"#46039f\"], [0.2222222222222222, \"#7201a8\"], [0.3333333333333333, \"#9c179e\"], [0.4444444444444444, \"#bd3786\"], [0.5555555555555556, \"#d8576b\"], [0.6666666666666666, \"#ed7953\"], [0.7777777777777778, \"#fb9f3a\"], [0.8888888888888888, \"#fdca26\"], [1.0, \"#f0f921\"]]}, \"colorway\": [\"#636efa\", \"#EF553B\", \"#00cc96\", \"#ab63fa\", \"#FFA15A\", \"#19d3f3\", \"#FF6692\", \"#B6E880\", \"#FF97FF\", \"#FECB52\"], \"font\": {\"color\": \"#2a3f5f\"}, \"geo\": {\"bgcolor\": \"white\", \"lakecolor\": \"white\", \"landcolor\": \"#E5ECF6\", \"showlakes\": true, \"showland\": true, \"subunitcolor\": \"white\"}, \"hoverlabel\": {\"align\": \"left\"}, \"hovermode\": \"closest\", \"mapbox\": {\"style\": \"light\"}, \"paper_bgcolor\": \"white\", \"plot_bgcolor\": \"#E5ECF6\", \"polar\": {\"angularaxis\": {\"gridcolor\": \"white\", \"linecolor\": \"white\", \"ticks\": \"\"}, \"bgcolor\": \"#E5ECF6\", \"radialaxis\": {\"gridcolor\": \"white\", \"linecolor\": \"white\", \"ticks\": \"\"}}, \"scene\": {\"xaxis\": {\"backgroundcolor\": \"#E5ECF6\", \"gridcolor\": \"white\", \"gridwidth\": 2, \"linecolor\": \"white\", \"showbackground\": true, \"ticks\": \"\", \"zerolinecolor\": \"white\"}, \"yaxis\": {\"backgroundcolor\": \"#E5ECF6\", \"gridcolor\": \"white\", \"gridwidth\": 2, \"linecolor\": \"white\", \"showbackground\": true, \"ticks\": \"\", \"zerolinecolor\": \"white\"}, \"zaxis\": {\"backgroundcolor\": \"#E5ECF6\", \"gridcolor\": \"white\", \"gridwidth\": 2, \"linecolor\": \"white\", \"showbackground\": true, \"ticks\": \"\", \"zerolinecolor\": \"white\"}}, \"shapedefaults\": {\"line\": {\"color\": \"#2a3f5f\"}}, \"ternary\": {\"aaxis\": {\"gridcolor\": \"white\", \"linecolor\": \"white\", \"ticks\": \"\"}, \"baxis\": {\"gridcolor\": \"white\", \"linecolor\": \"white\", \"ticks\": \"\"}, \"bgcolor\": \"#E5ECF6\", \"caxis\": {\"gridcolor\": \"white\", \"linecolor\": \"white\", \"ticks\": \"\"}}, \"title\": {\"x\": 0.05}, \"xaxis\": {\"automargin\": true, \"gridcolor\": \"white\", \"linecolor\": \"white\", \"ticks\": \"\", \"title\": {\"standoff\": 15}, \"zerolinecolor\": \"white\", \"zerolinewidth\": 2}, \"yaxis\": {\"automargin\": true, \"gridcolor\": \"white\", \"linecolor\": \"white\", \"ticks\": \"\", \"title\": {\"standoff\": 15}, \"zerolinecolor\": \"white\", \"zerolinewidth\": 2}}}},\n",
              "                        {\"responsive\": true}\n",
              "                    ).then(function(){\n",
              "                            \n",
              "var gd = document.getElementById('4b882fff-e2cd-4469-b60e-17289affc046');\n",
              "var x = new MutationObserver(function (mutations, observer) {{\n",
              "        var display = window.getComputedStyle(gd).display;\n",
              "        if (!display || display === 'none') {{\n",
              "            console.log([gd, 'removed!']);\n",
              "            Plotly.purge(gd);\n",
              "            observer.disconnect();\n",
              "        }}\n",
              "}});\n",
              "\n",
              "// Listen for the removal of the full notebook cells\n",
              "var notebookContainer = gd.closest('#notebook-container');\n",
              "if (notebookContainer) {{\n",
              "    x.observe(notebookContainer, {childList: true});\n",
              "}}\n",
              "\n",
              "// Listen for the clearing of the current output cell\n",
              "var outputEl = gd.closest('.output');\n",
              "if (outputEl) {{\n",
              "    x.observe(outputEl, {childList: true});\n",
              "}}\n",
              "\n",
              "                        })\n",
              "                };\n",
              "                \n",
              "            </script>\n",
              "        </div>\n",
              "</body>\n",
              "</html>"
            ]
          },
          "metadata": {
            "tags": []
          }
        }
      ]
    },
    {
      "cell_type": "markdown",
      "metadata": {
        "id": "U7LIC1e3KsgU"
      },
      "source": [
        "**Observation**\n",
        "1.  Consulting / Agency companies are not more popular than Startups; startup comands 18.1% whereas consulting agency is 11.7% of the market share.\n",
        "\n",
        "\n"
      ]
    },
    {
      "cell_type": "code",
      "metadata": {
        "id": "I5catuUKPg7b"
      },
      "source": [
        "#4b. Create a line plot of the Total years of experience vs the current salary\n",
        "#(taking the median salary for each of the different experience years) of the year 2018.\n",
        "#\n",
        "#importing the required libraries\n",
        "from chart_studio.plotly import plot, iplot\n",
        "from plotly.offline import iplot\n"
      ],
      "execution_count": null,
      "outputs": []
    },
    {
      "cell_type": "code",
      "metadata": {
        "id": "FOo2nF7EUjqk"
      },
      "source": [
        "#grouping by years_of_experience against current_salary variable \n",
        "data_lineplot18 = data_18_clean.groupby(['years_of_experience'],as_index=False)['current_salary'].median()\n",
        "#\n",
        "#ploting the line plot 1 for 2018 dataset\n",
        "# Creating trace1\n",
        "trace1 = go.Scatter(\n",
        "                    x = data_lineplot18['years_of_experience'],\n",
        "                    y = data_lineplot18['current_salary'],\n",
        "                    mode = \"lines\",\n",
        "                    name = \"2018\",\n",
        "                    marker = dict(color = 'red'),\n",
        "                    text= data_18_clean['company_type'])"
      ],
      "execution_count": null,
      "outputs": []
    },
    {
      "cell_type": "code",
      "metadata": {
        "colab": {
          "base_uri": "https://localhost:8080/",
          "height": 542
        },
        "id": "jWRva7xgzp8W",
        "outputId": "f5f40663-81a4-404d-ec24-682841758c3e"
      },
      "source": [
        "#line plot\n",
        "data = [trace1]\n",
        "layout = dict(title = 'years_of_experience vs the current_salary',\n",
        "              xaxis= dict(title= 'years_of_experience',ticklen= 5,zeroline= False)\n",
        "             )\n",
        "fig = dict(data = data, layout = layout)\n",
        "iplot(fig)"
      ],
      "execution_count": null,
      "outputs": [
        {
          "output_type": "display_data",
          "data": {
            "text/html": [
              "<html>\n",
              "<head><meta charset=\"utf-8\" /></head>\n",
              "<body>\n",
              "    <div>\n",
              "            <script src=\"https://cdnjs.cloudflare.com/ajax/libs/mathjax/2.7.5/MathJax.js?config=TeX-AMS-MML_SVG\"></script><script type=\"text/javascript\">if (window.MathJax) {MathJax.Hub.Config({SVG: {font: \"STIX-Web\"}});}</script>\n",
              "                <script type=\"text/javascript\">window.PlotlyConfig = {MathJaxConfig: 'local'};</script>\n",
              "        <script src=\"https://cdn.plot.ly/plotly-latest.min.js\"></script>    \n",
              "            <div id=\"795dc20f-3b15-4d29-8c9e-a22e9ceeedad\" class=\"plotly-graph-div\" style=\"height:525px; width:100%;\"></div>\n",
              "            <script type=\"text/javascript\">\n",
              "                \n",
              "                    window.PLOTLYENV=window.PLOTLYENV || {};\n",
              "                    \n",
              "                if (document.getElementById(\"795dc20f-3b15-4d29-8c9e-a22e9ceeedad\")) {\n",
              "                    Plotly.newPlot(\n",
              "                        '795dc20f-3b15-4d29-8c9e-a22e9ceeedad',\n",
              "                        [{\"marker\": {\"color\": \"red\"}, \"mode\": \"lines\", \"name\": \"2018\", \"text\": [\"Product\", \"Product\", \"Product\", \"Product\", \"Ecom retailer\", \"Insurance\", \"Product\", \"Product\", \"Startup\", \"Agency\", \"Product\", \"Product\", \"Startup\", \"Product\", \"Product\", \"Startup\", \"Product\", \"Product\", \"Agency\", \"Startup\", \"Big Tech\", \"Startup\", \"Product\", \"Consultancy\", \"Agency\", \"Product\", \"Product\", \"Product\", \"Product\", \"Product\", \"Corporation\", \"Startup\", \"Product\", \"Product\", \"Product\", \"Startup\", \"Product\", \"Product\", \"Product\", \"Product\", \"Product\", \"Startup\", \"Product\", \"Product\", \"Product\", \"Product\", \"Product\", \"Product\", \"Product\", \"Product\", \"Startup\", \"Product\", \"Agency\", \"Startup\", \"Product\", \"Startup\", \"Product\", \"Consultancy\", \"Product\", \"Product\", \"Product\", \"Product\", \"Product\", \"Product\", \"Agency\", \"Product\", \"Product\", \"Agency\", \"Product\", \"Product\", \"Startup\", \"Product\", \"Product\", \"Agency\", \"Agency\", \"Product\", \"Product\", \"Startup\", \"Startup\", \"Product\", \"Product\", \"Startup\", \"Product\", \"Product\", \"Product\", \"Startup\", \"Startup\", \"Product\", \"Product\", \"Startup\", \"Agency\", \"Startup\", \"Product\", \"Product\", \"Product\", \"Outsource\", \"Startup\", \"Product\", \"Product\", \"Startup\", \"Agency\", \"Product\", \"Agency\", \"Product\", \"Startup\", \"Product\", \"Product\", \"Product\", \"Product\", \"Product\", \"Startup\", \"Startup\", \"Product\", \"Product\", \"Product\", \"Product\", \"Startup\", \"Startup\", \"Product\", \"Product\", \"Product\", \"Product\", \"Product\", \"Product\", \"Startup\", \"Agency\", \"Product\", \"Startup\", \"Product\", \"Product\", \"Product\", \"Startup\", \"Product\", \"Product\", \"Startup\", \"Industry\", \"Product\", \"E-Commerce firm\", \"Product\", \"Product\", \"Startup\", \"Product\", \"Product\", \"Product\", \"Product\", \"Product\", \"Product\", \"Startup\", \"Product\", \"Product\", \"Product\", \"Product\", \"Startup\", \"Startup\", \"Product\", \"Product\", \"Startup\", \"Product\", \"Product\", \"Product\", \"Startup\", \"Startup\", \"Product\", \"Product\", \"Product\", \"Product\", \"Product\", \"Product\", \"Consulting\", \"Startup\", \"Product\", \"Startup\", \"Product\", \"Product\", \"Agency\", \"Product\", \"Internal development for a non-IT company\", \"Startup\", \"Startup\", \"Product\", \"Product\", \"Product\", \"Product\", \"Product\", \"Product\", \"Agency\", \"Product\", \"Startup\", \"Product\", \"Startup\", \"Agency\", \"Startup\", \"Personaldienstleister\", \"Startup\", \"Product\", \"Startup\", \"Product\", \"Startup\", \"Product\", \"Product\", \"Startup\", \"Product\", \"Agency\", \"Agency\", \"Product\", \"Product\", \"Product\", \"Startup\", \"Product\", \"Startup\", \"Product\", \"Product\", \"Product\", \"Startup\", \"Product\", \"Agency\", \"Startup\", \"Product\", \"Startup\", \"ipo\", \"Product\", \"e-commerce\", \"Product\", \"Startup\", \"Product\", \"Product\", \"Outsource\", \"Product\", \"Product\", \"Startup\", \"Product\", \"Product\", \"Startup\", \"Product\", \"Product\", \"Product\", \"Product\", \"Product\", \"Startup\", \"Startup\", \"Product\", \"Product\", \"Product\", \"Product\", \"Product\", \"Product\", \"Startup\", \"Product\", \"Product\", \"Product\", \"Product\", \"Product\", \"Product\", \"Product\", \"Product\", \"Product\", \"Agency\", \"Startup\", \"Product\", \"Product\", \"Agency\", \"Product\", \"Product\", \"Product\", \"Product\", \"Agency\", \"Startup\", \"Startup\", \"Product\", \"Product\", \"Product\", \"Product\", \"Product\", \"Product\", \"Startup\", \"Product\", \"Startup\", \"Product\", \"Product\", \"Agency\", \"Product\", \"Product\", \"Startup\", \"Product\", \"Startup\", \"Product\", \"Product\", \"Product\", \"Startup\", \"Product\", \"Startup\", \"Agency\", \"Product and Projects\", \"Product\", \"Product\", \"Product\", \"Startup\", \"E-Commerce\", \"Product\", \"Development\", \"Product\", \"Product\", \"Outsource\", \"Product\", \"Product\", \"Startup\", \"Startup\", \"Product\", \"Startup\", \"Product\", \"Product\", \"Product\", \"Product\", \"Startup\", \"Product\", \"Product\", \"Product\", \"Product\", \"Agency\", \"Product\", \"Product\", \"Product\", \"Product\", \"Product\", \"Startup\", \"Startup\", \"Product\", \"Product\", \"Product\", \"Product\", \"Product\", \"Product\", \"Product\", \"Product\", \"Startup\", \"Product\", \"Product\", \"Product\", \"Startup\", \"Product\", \"Product\", \"Product\", \"Product\", \"Startup\", \"Product\", \"Product\", \"Startup\", \"Product\", \"Product\", \"Product\", \"Agency\", \"Agency\", \"Product\", \"Startup\", \"Agency\", \"Product\", \"Startup\", \"Startup\", \"Product\", \"Product\", \"Consulting Company\", \"Startup\", \"Product\", \"Product\", \"Product\", \"Product\", \"Startup\", \"Product\", \"Product\", \"Startup\", \"Product\", \"Product\", \"Agency\", \"Startup\", \"Startup\", \"Agency\", \"Product\", \"Product\", \"Startup\", \"IT Dienstleistungen \", \"Product\", \"Product\", \"Agency\", \"Product\", \"Startup\", \"Product\", \"Product\", \"Agency\", \"Agency\", \"Product\", \"Manufacturing\", \"Product\", \"Startup\", \"Product\", \"Startup\", \"Product\", \"Stock market \", \"Product\", \"telecom operator\", \"Product\", \"Product\", \"Ecommerce\", \"Startup\", \"Startup\", \"Product\", \"Consulting\", \"Product\", \"Startup\", \"Product\", \"Agency\", \"Product\", \"Product\", \"Agency\", \"Product\", \"Product\", \"Startup\", \"Product\", \"Product\", \"Product\", \"Product\", \"Startup\", \"Product\", \"Product\", \"Startup\", \"Product\", \"Product\", \"Product\", \"Startup\", \"Consulting\", \"Outsourcing\", \"Startup\", \"Product\", \"Product\", \"Agency\", \"Product\", \"Agency\", \"Startup\", \"Product\", \"Product\", \"Product\", \"Product\", \"Product\", \"Outsorce\", \"Product\", \"Product\", \"Product\", \"Product\", \"Product\", \"Product\", \"Product\", \"Startup\", \"Product\", \"Agency\", \"Outsource\", \"Product\", \"Product\", \"Product\", \"Product\", \"consulting\", \"Startup\", \"Product\", \"Product\", \"Product\", \"Product\", \"Outsource\", \"Agency\", \"Product\", \"Product\", \"Agency\", \"Product\", \"GmbH\", \"Product\", \"Product\", \"Product\", \"Startup\", \"Startup\", \"Product\", \"Startup\", \"Product\", \"Startup\", \"Corporation\", \"Product\", \"Product\", \"Product\", \"Agency\", \"Product\", \"Product\", \"Product\", \"Product\", \"Product\", \"Product\", \"IT Consulting \", \"Startup\", \"Product\", \"Product\", \"Product\", \"Product\", \"Product\", \"Product\", \"Startup\", \"Product\", \"Product\", \"Agency\", \"Product\", \"Product\", \"Product\", \"Product\", \"Product\", \"Product\", \"Startup\", \"Agency\", \"Startup\", \"Product\", \"Product\", \"Product\", \"Startup\", \"Startup\", \"Product\", \"Product\", \"Agency\", \"Startup\", \"Startup\", \"Startup\", \"Startup\", \"Product\", \"Product\", \"Product\", \"IT Consultancy \", \"Product\", \"Agency\", \"Startup\", \"Product\", \"Product\", \"Product\", \"Product\", \"Startup\", \"Product\", \"Product\", \"Product\", \"Product\", \"Product\", \"Product\", \"Agency\", \"Product\", \"IT Service Provider\", \"Product\", \"Startup\", \"Product\", \"Product\", \"Agency\", \"Product\", \"Product\", \"non-IT, manufacturing\", \"Bank \", \"Insurance\", \"Product\", \"Product\", \"Product\", \"IT-Beratung\", \"Product\", \"Startup\", \"Startup\", \"Product\", \"Startup\", \"Product\", \"Consulting\", \"Startup\", \"Product\", \"Product\", \"Startup\", \"Product\", \"Agency\", \"Product\", \"Product\", \"Startup\", \"Startup\", \"Technology Consulting\", \"Startup\", \"Agency\", \"Product\", \"Startup\", \"Product\", \"outsource\", \"Product\", \"IT Consultants\", \"Product\", \"Agency\", \"Agency\", \"Agency\", \"Agency\", \"Product\", \"Product\", \"Product\", \"Startup\", \"Product\", \"Consulting\", \"Hochschule/university\", \"Product\", \"Product\", \"Product\", \"ISP\", \"Product\", \"Product\", \"Product\", \"Product\", \"Startup\", \"Product\", \"Product\", \"Product\", \"Product\", \"Product\", \"Product\", \"Product\", \"Product\", \"Agency\", \"Product\", \"Product\", \"Product\", \"Product\", \"Product\", \"Agency\", \"Product\", \"Product\", \"Product\", \"Product\", \"Product\", \"Product\", \"Startup\", \"Product\", \"Product\", \"Product\", \"Product\", \"Product\", \"Agency\", \"Fin Tech\", \"Agency\", \"Startup\", \"Product\", \"Outsourcing\", \"Product\", \"Startup\", \"Product\", \"Product\", \"Outsourcing\", \"Product\", \"Startup\", \"Product\", \"Blockchain technology\", \"Retail\", \"Startup\", \"Agency\", \"Product\", \"Product\", \"Product\", \"Product\", \"Agency\", \"Startup\", \"Consult\", \"Startup\", \"Product\", \"Product\", \"Agency\", \"Agency\", \"Product\", \"Product\", \"Product\", \"Product\", \"Product\", \"Product\", \"Product\", \"Product\", \"Agency\", \"Startup\", \"Product\", \"Product\", \"Product\", \"Agency\", \"Product\", \"Product\", \"Product\", \"Agency\", \"Product\", \"Project-based software development\", \"Product\", \"Product\", \"Product\", \"Automotive\", \"Product\", \"Product\", \"Product\", \"Startup\", \"Product\", \"Startup\", \"Product\", \"Product\", \"Automotive\", \"Product\", \"Product\", \"Product\", \"Product\", \"Startup\", \"Product\", \"Product\", \"Startup\", \"Product\", \"OEM\", \"Consulting (banking)\", \"Product\", \"Agency\", \"Startup\", \"Product\", \"IT Consulting\", \"Agency\", \"Product\", \"Agency\", \"Product\", \"Product\", \"Product\", \"Product\", \"Product\", \"Startup\", \"Product\", \"Product\", \"Product\", \"Startup\", \"Product\", \"Product\", \"Product\", \"Product\", \"Agency\", \"Product\", \"Product\", \"Agency\", \"Product\", \"Agency\", \"Product\", \"Product\", \"Product\", \"Product\", \"Agency\", \"Agency\", \"Product\", \"Product\", \"Product\"], \"type\": \"scatter\", \"x\": [0.0, 0.5, 1.0, 1.5, 2.0, 2.5, 3.0, 4.0, 4.5, 5.0, 6.0, 7.0, 7.5, 8.0, 8.548497267759563, 9.0, 10.0, 11.0, 12.0, 13.0, 14.0, 15.0, 16.0, 17.0, 18.0, 19.0, 20.0, 21.0, 25.0, 30.0, 38.0], \"y\": [50000.0, 46000.0, 47000.0, 58000.0, 51000.0, 50000.0, 55555.0, 60000.0, 39150.0, 60000.0, 63000.0, 68000.0, 65000.0, 70000.0, 70000.0, 70000.0, 70000.0, 71000.0, 71000.0, 73500.0, 73000.0, 68000.0, 90500.0, 80000.0, 72500.0, 84000.0, 80000.0, 90000.0, 109000.0, 64000.0, 58000.0]}],\n",
              "                        {\"template\": {\"data\": {\"bar\": [{\"error_x\": {\"color\": \"#2a3f5f\"}, \"error_y\": {\"color\": \"#2a3f5f\"}, \"marker\": {\"line\": {\"color\": \"#E5ECF6\", \"width\": 0.5}}, \"type\": \"bar\"}], \"barpolar\": [{\"marker\": {\"line\": {\"color\": \"#E5ECF6\", \"width\": 0.5}}, \"type\": \"barpolar\"}], \"carpet\": [{\"aaxis\": {\"endlinecolor\": \"#2a3f5f\", \"gridcolor\": \"white\", \"linecolor\": \"white\", \"minorgridcolor\": \"white\", \"startlinecolor\": \"#2a3f5f\"}, \"baxis\": {\"endlinecolor\": \"#2a3f5f\", \"gridcolor\": \"white\", \"linecolor\": \"white\", \"minorgridcolor\": \"white\", \"startlinecolor\": \"#2a3f5f\"}, \"type\": \"carpet\"}], \"choropleth\": [{\"colorbar\": {\"outlinewidth\": 0, \"ticks\": \"\"}, \"type\": \"choropleth\"}], \"contour\": [{\"colorbar\": {\"outlinewidth\": 0, \"ticks\": \"\"}, \"colorscale\": [[0.0, \"#0d0887\"], [0.1111111111111111, \"#46039f\"], [0.2222222222222222, \"#7201a8\"], [0.3333333333333333, \"#9c179e\"], [0.4444444444444444, \"#bd3786\"], [0.5555555555555556, \"#d8576b\"], [0.6666666666666666, \"#ed7953\"], [0.7777777777777778, \"#fb9f3a\"], [0.8888888888888888, \"#fdca26\"], [1.0, \"#f0f921\"]], \"type\": \"contour\"}], \"contourcarpet\": [{\"colorbar\": {\"outlinewidth\": 0, \"ticks\": \"\"}, \"type\": \"contourcarpet\"}], \"heatmap\": [{\"colorbar\": {\"outlinewidth\": 0, \"ticks\": \"\"}, \"colorscale\": [[0.0, \"#0d0887\"], [0.1111111111111111, \"#46039f\"], [0.2222222222222222, \"#7201a8\"], [0.3333333333333333, \"#9c179e\"], [0.4444444444444444, \"#bd3786\"], [0.5555555555555556, \"#d8576b\"], [0.6666666666666666, \"#ed7953\"], [0.7777777777777778, \"#fb9f3a\"], [0.8888888888888888, \"#fdca26\"], [1.0, \"#f0f921\"]], \"type\": \"heatmap\"}], \"heatmapgl\": [{\"colorbar\": {\"outlinewidth\": 0, \"ticks\": \"\"}, \"colorscale\": [[0.0, \"#0d0887\"], [0.1111111111111111, \"#46039f\"], [0.2222222222222222, \"#7201a8\"], [0.3333333333333333, \"#9c179e\"], [0.4444444444444444, \"#bd3786\"], [0.5555555555555556, \"#d8576b\"], [0.6666666666666666, \"#ed7953\"], [0.7777777777777778, \"#fb9f3a\"], [0.8888888888888888, \"#fdca26\"], [1.0, \"#f0f921\"]], \"type\": \"heatmapgl\"}], \"histogram\": [{\"marker\": {\"colorbar\": {\"outlinewidth\": 0, \"ticks\": \"\"}}, \"type\": \"histogram\"}], \"histogram2d\": [{\"colorbar\": {\"outlinewidth\": 0, \"ticks\": \"\"}, \"colorscale\": [[0.0, \"#0d0887\"], [0.1111111111111111, \"#46039f\"], [0.2222222222222222, \"#7201a8\"], [0.3333333333333333, \"#9c179e\"], [0.4444444444444444, \"#bd3786\"], [0.5555555555555556, \"#d8576b\"], [0.6666666666666666, \"#ed7953\"], [0.7777777777777778, \"#fb9f3a\"], [0.8888888888888888, \"#fdca26\"], [1.0, \"#f0f921\"]], \"type\": \"histogram2d\"}], \"histogram2dcontour\": [{\"colorbar\": {\"outlinewidth\": 0, \"ticks\": \"\"}, \"colorscale\": [[0.0, \"#0d0887\"], [0.1111111111111111, \"#46039f\"], [0.2222222222222222, \"#7201a8\"], [0.3333333333333333, \"#9c179e\"], [0.4444444444444444, \"#bd3786\"], [0.5555555555555556, \"#d8576b\"], [0.6666666666666666, \"#ed7953\"], [0.7777777777777778, \"#fb9f3a\"], [0.8888888888888888, \"#fdca26\"], [1.0, \"#f0f921\"]], \"type\": \"histogram2dcontour\"}], \"mesh3d\": [{\"colorbar\": {\"outlinewidth\": 0, \"ticks\": \"\"}, \"type\": \"mesh3d\"}], \"parcoords\": [{\"line\": {\"colorbar\": {\"outlinewidth\": 0, \"ticks\": \"\"}}, \"type\": \"parcoords\"}], \"pie\": [{\"automargin\": true, \"type\": \"pie\"}], \"scatter\": [{\"marker\": {\"colorbar\": {\"outlinewidth\": 0, \"ticks\": \"\"}}, \"type\": \"scatter\"}], \"scatter3d\": [{\"line\": {\"colorbar\": {\"outlinewidth\": 0, \"ticks\": \"\"}}, \"marker\": {\"colorbar\": {\"outlinewidth\": 0, \"ticks\": \"\"}}, \"type\": \"scatter3d\"}], \"scattercarpet\": [{\"marker\": {\"colorbar\": {\"outlinewidth\": 0, \"ticks\": \"\"}}, \"type\": \"scattercarpet\"}], \"scattergeo\": [{\"marker\": {\"colorbar\": {\"outlinewidth\": 0, \"ticks\": \"\"}}, \"type\": \"scattergeo\"}], \"scattergl\": [{\"marker\": {\"colorbar\": {\"outlinewidth\": 0, \"ticks\": \"\"}}, \"type\": \"scattergl\"}], \"scattermapbox\": [{\"marker\": {\"colorbar\": {\"outlinewidth\": 0, \"ticks\": \"\"}}, \"type\": \"scattermapbox\"}], \"scatterpolar\": [{\"marker\": {\"colorbar\": {\"outlinewidth\": 0, \"ticks\": \"\"}}, \"type\": \"scatterpolar\"}], \"scatterpolargl\": [{\"marker\": {\"colorbar\": {\"outlinewidth\": 0, \"ticks\": \"\"}}, \"type\": \"scatterpolargl\"}], \"scatterternary\": [{\"marker\": {\"colorbar\": {\"outlinewidth\": 0, \"ticks\": \"\"}}, \"type\": \"scatterternary\"}], \"surface\": [{\"colorbar\": {\"outlinewidth\": 0, \"ticks\": \"\"}, \"colorscale\": [[0.0, \"#0d0887\"], [0.1111111111111111, \"#46039f\"], [0.2222222222222222, \"#7201a8\"], [0.3333333333333333, \"#9c179e\"], [0.4444444444444444, \"#bd3786\"], [0.5555555555555556, \"#d8576b\"], [0.6666666666666666, \"#ed7953\"], [0.7777777777777778, \"#fb9f3a\"], [0.8888888888888888, \"#fdca26\"], [1.0, \"#f0f921\"]], \"type\": \"surface\"}], \"table\": [{\"cells\": {\"fill\": {\"color\": \"#EBF0F8\"}, \"line\": {\"color\": \"white\"}}, \"header\": {\"fill\": {\"color\": \"#C8D4E3\"}, \"line\": {\"color\": \"white\"}}, \"type\": \"table\"}]}, \"layout\": {\"annotationdefaults\": {\"arrowcolor\": \"#2a3f5f\", \"arrowhead\": 0, \"arrowwidth\": 1}, \"coloraxis\": {\"colorbar\": {\"outlinewidth\": 0, \"ticks\": \"\"}}, \"colorscale\": {\"diverging\": [[0, \"#8e0152\"], [0.1, \"#c51b7d\"], [0.2, \"#de77ae\"], [0.3, \"#f1b6da\"], [0.4, \"#fde0ef\"], [0.5, \"#f7f7f7\"], [0.6, \"#e6f5d0\"], [0.7, \"#b8e186\"], [0.8, \"#7fbc41\"], [0.9, \"#4d9221\"], [1, \"#276419\"]], \"sequential\": [[0.0, \"#0d0887\"], [0.1111111111111111, \"#46039f\"], [0.2222222222222222, \"#7201a8\"], [0.3333333333333333, \"#9c179e\"], [0.4444444444444444, \"#bd3786\"], [0.5555555555555556, \"#d8576b\"], [0.6666666666666666, \"#ed7953\"], [0.7777777777777778, \"#fb9f3a\"], [0.8888888888888888, \"#fdca26\"], [1.0, \"#f0f921\"]], \"sequentialminus\": [[0.0, \"#0d0887\"], [0.1111111111111111, \"#46039f\"], [0.2222222222222222, \"#7201a8\"], [0.3333333333333333, \"#9c179e\"], [0.4444444444444444, \"#bd3786\"], [0.5555555555555556, \"#d8576b\"], [0.6666666666666666, \"#ed7953\"], [0.7777777777777778, \"#fb9f3a\"], [0.8888888888888888, \"#fdca26\"], [1.0, \"#f0f921\"]]}, \"colorway\": [\"#636efa\", \"#EF553B\", \"#00cc96\", \"#ab63fa\", \"#FFA15A\", \"#19d3f3\", \"#FF6692\", \"#B6E880\", \"#FF97FF\", \"#FECB52\"], \"font\": {\"color\": \"#2a3f5f\"}, \"geo\": {\"bgcolor\": \"white\", \"lakecolor\": \"white\", \"landcolor\": \"#E5ECF6\", \"showlakes\": true, \"showland\": true, \"subunitcolor\": \"white\"}, \"hoverlabel\": {\"align\": \"left\"}, \"hovermode\": \"closest\", \"mapbox\": {\"style\": \"light\"}, \"paper_bgcolor\": \"white\", \"plot_bgcolor\": \"#E5ECF6\", \"polar\": {\"angularaxis\": {\"gridcolor\": \"white\", \"linecolor\": \"white\", \"ticks\": \"\"}, \"bgcolor\": \"#E5ECF6\", \"radialaxis\": {\"gridcolor\": \"white\", \"linecolor\": \"white\", \"ticks\": \"\"}}, \"scene\": {\"xaxis\": {\"backgroundcolor\": \"#E5ECF6\", \"gridcolor\": \"white\", \"gridwidth\": 2, \"linecolor\": \"white\", \"showbackground\": true, \"ticks\": \"\", \"zerolinecolor\": \"white\"}, \"yaxis\": {\"backgroundcolor\": \"#E5ECF6\", \"gridcolor\": \"white\", \"gridwidth\": 2, \"linecolor\": \"white\", \"showbackground\": true, \"ticks\": \"\", \"zerolinecolor\": \"white\"}, \"zaxis\": {\"backgroundcolor\": \"#E5ECF6\", \"gridcolor\": \"white\", \"gridwidth\": 2, \"linecolor\": \"white\", \"showbackground\": true, \"ticks\": \"\", \"zerolinecolor\": \"white\"}}, \"shapedefaults\": {\"line\": {\"color\": \"#2a3f5f\"}}, \"ternary\": {\"aaxis\": {\"gridcolor\": \"white\", \"linecolor\": \"white\", \"ticks\": \"\"}, \"baxis\": {\"gridcolor\": \"white\", \"linecolor\": \"white\", \"ticks\": \"\"}, \"bgcolor\": \"#E5ECF6\", \"caxis\": {\"gridcolor\": \"white\", \"linecolor\": \"white\", \"ticks\": \"\"}}, \"title\": {\"x\": 0.05}, \"xaxis\": {\"automargin\": true, \"gridcolor\": \"white\", \"linecolor\": \"white\", \"ticks\": \"\", \"title\": {\"standoff\": 15}, \"zerolinecolor\": \"white\", \"zerolinewidth\": 2}, \"yaxis\": {\"automargin\": true, \"gridcolor\": \"white\", \"linecolor\": \"white\", \"ticks\": \"\", \"title\": {\"standoff\": 15}, \"zerolinecolor\": \"white\", \"zerolinewidth\": 2}}}, \"title\": {\"text\": \"years_of_experience vs the current_salary\"}, \"xaxis\": {\"ticklen\": 5, \"title\": {\"text\": \"years_of_experience\"}, \"zeroline\": false}},\n",
              "                        {\"responsive\": true}\n",
              "                    ).then(function(){\n",
              "                            \n",
              "var gd = document.getElementById('795dc20f-3b15-4d29-8c9e-a22e9ceeedad');\n",
              "var x = new MutationObserver(function (mutations, observer) {{\n",
              "        var display = window.getComputedStyle(gd).display;\n",
              "        if (!display || display === 'none') {{\n",
              "            console.log([gd, 'removed!']);\n",
              "            Plotly.purge(gd);\n",
              "            observer.disconnect();\n",
              "        }}\n",
              "}});\n",
              "\n",
              "// Listen for the removal of the full notebook cells\n",
              "var notebookContainer = gd.closest('#notebook-container');\n",
              "if (notebookContainer) {{\n",
              "    x.observe(notebookContainer, {childList: true});\n",
              "}}\n",
              "\n",
              "// Listen for the clearing of the current output cell\n",
              "var outputEl = gd.closest('.output');\n",
              "if (outputEl) {{\n",
              "    x.observe(outputEl, {childList: true});\n",
              "}}\n",
              "\n",
              "                        })\n",
              "                };\n",
              "                \n",
              "            </script>\n",
              "        </div>\n",
              "</body>\n",
              "</html>"
            ]
          },
          "metadata": {
            "tags": []
          }
        }
      ]
    },
    {
      "cell_type": "code",
      "metadata": {
        "id": "WV5O2UigWFZS",
        "colab": {
          "base_uri": "https://localhost:8080/",
          "height": 542
        },
        "outputId": "b04c8059-bfa2-4bf3-d47c-bcf5f5e22c10"
      },
      "source": [
        "#4c. Now, create the above plot again and add 2 more line plots to the same graph, \n",
        "#that display the Total years of experience vs the median Yearly brutto salary (without bonus and stocks) \n",
        "#of the year 2019 and 2020\n",
        "#\n",
        "#grouping the 2019 data\n",
        "data_lineplot19 = data_19_clean.groupby(['years_of_experience'],as_index=False)['yearly_brutto_salary_without_bonus_and_stocks'].median()\n",
        "#\n",
        "#ploting the line plot for 2019 dataset.\n",
        "#\n",
        "# Creating trace2\n",
        "trace2 = go.Scatter(\n",
        "                    x = data_lineplot19['years_of_experience'],\n",
        "                    y = data_lineplot19['yearly_brutto_salary_without_bonus_and_stocks'],\n",
        "                    mode = \"lines+markers\",\n",
        "                    name = \"2019\",\n",
        "                    marker = dict(color = 'green'),\n",
        "                    text= data_19_clean['company_type'])\n",
        "#\n",
        "# plotting 2020 dataset\n",
        "data_lineplot20 = data_20_clean.groupby(['total_years_of_experience'],as_index=False)['yearly_brutto_salary_without_bonus_and_stocks_in_eur'].median()\n",
        "trace3 = go.Scatter(\n",
        "                    x = data_lineplot20['total_years_of_experience'],\n",
        "                    y = data_lineplot20['yearly_brutto_salary_without_bonus_and_stocks_in_eur'],\n",
        "                    mode = \"lines+markers\",\n",
        "                    name = \"2020\",\n",
        "                    marker = dict(color = 'black'),\n",
        "                    text= data_20_clean['company_type'])\n",
        "\n",
        "data = [trace1, trace2,trace3]\n",
        "layout = dict(title = 'years_of_experience vs yearly_brutto_salary_without_bonus_and_stocks for 2018, 2019,and 2019 dataset',\n",
        "              xaxis= dict(title= 'years_of_experience',ticklen= 5,zeroline= False)\n",
        "             )\n",
        "fig = dict(data = data, layout = layout)\n",
        "iplot(fig)"
      ],
      "execution_count": null,
      "outputs": [
        {
          "output_type": "display_data",
          "data": {
            "text/html": [
              "<html>\n",
              "<head><meta charset=\"utf-8\" /></head>\n",
              "<body>\n",
              "    <div>\n",
              "            <script src=\"https://cdnjs.cloudflare.com/ajax/libs/mathjax/2.7.5/MathJax.js?config=TeX-AMS-MML_SVG\"></script><script type=\"text/javascript\">if (window.MathJax) {MathJax.Hub.Config({SVG: {font: \"STIX-Web\"}});}</script>\n",
              "                <script type=\"text/javascript\">window.PlotlyConfig = {MathJaxConfig: 'local'};</script>\n",
              "        <script src=\"https://cdn.plot.ly/plotly-latest.min.js\"></script>    \n",
              "            <div id=\"57b5cb97-a2f2-4d82-bcbf-31bff28a62a8\" class=\"plotly-graph-div\" style=\"height:525px; width:100%;\"></div>\n",
              "            <script type=\"text/javascript\">\n",
              "                \n",
              "                    window.PLOTLYENV=window.PLOTLYENV || {};\n",
              "                    \n",
              "                if (document.getElementById(\"57b5cb97-a2f2-4d82-bcbf-31bff28a62a8\")) {\n",
              "                    Plotly.newPlot(\n",
              "                        '57b5cb97-a2f2-4d82-bcbf-31bff28a62a8',\n",
              "                        [{\"marker\": {\"color\": \"red\"}, \"mode\": \"lines\", \"name\": \"2018\", \"text\": [\"Product\", \"Product\", \"Product\", \"Product\", \"Ecom retailer\", \"Insurance\", \"Product\", \"Product\", \"Startup\", \"Agency\", \"Product\", \"Product\", \"Startup\", \"Product\", \"Product\", \"Startup\", \"Product\", \"Product\", \"Agency\", \"Startup\", \"Big Tech\", \"Startup\", \"Product\", \"Consultancy\", \"Agency\", \"Product\", \"Product\", \"Product\", \"Product\", \"Product\", \"Corporation\", \"Startup\", \"Product\", \"Product\", \"Product\", \"Startup\", \"Product\", \"Product\", \"Product\", \"Product\", \"Product\", \"Startup\", \"Product\", \"Product\", \"Product\", \"Product\", \"Product\", \"Product\", \"Product\", \"Product\", \"Startup\", \"Product\", \"Agency\", \"Startup\", \"Product\", \"Startup\", \"Product\", \"Consultancy\", \"Product\", \"Product\", \"Product\", \"Product\", \"Product\", \"Product\", \"Agency\", \"Product\", \"Product\", \"Agency\", \"Product\", \"Product\", \"Startup\", \"Product\", \"Product\", \"Agency\", \"Agency\", \"Product\", \"Product\", \"Startup\", \"Startup\", \"Product\", \"Product\", \"Startup\", \"Product\", \"Product\", \"Product\", \"Startup\", \"Startup\", \"Product\", \"Product\", \"Startup\", \"Agency\", \"Startup\", \"Product\", \"Product\", \"Product\", \"Outsource\", \"Startup\", \"Product\", \"Product\", \"Startup\", \"Agency\", \"Product\", \"Agency\", \"Product\", \"Startup\", \"Product\", \"Product\", \"Product\", \"Product\", \"Product\", \"Startup\", \"Startup\", \"Product\", \"Product\", \"Product\", \"Product\", \"Startup\", \"Startup\", \"Product\", \"Product\", \"Product\", \"Product\", \"Product\", \"Product\", \"Startup\", \"Agency\", \"Product\", \"Startup\", \"Product\", \"Product\", \"Product\", \"Startup\", \"Product\", \"Product\", \"Startup\", \"Industry\", \"Product\", \"E-Commerce firm\", \"Product\", \"Product\", \"Startup\", \"Product\", \"Product\", \"Product\", \"Product\", \"Product\", \"Product\", \"Startup\", \"Product\", \"Product\", \"Product\", \"Product\", \"Startup\", \"Startup\", \"Product\", \"Product\", \"Startup\", \"Product\", \"Product\", \"Product\", \"Startup\", \"Startup\", \"Product\", \"Product\", \"Product\", \"Product\", \"Product\", \"Product\", \"Consulting\", \"Startup\", \"Product\", \"Startup\", \"Product\", \"Product\", \"Agency\", \"Product\", \"Internal development for a non-IT company\", \"Startup\", \"Startup\", \"Product\", \"Product\", \"Product\", \"Product\", \"Product\", \"Product\", \"Agency\", \"Product\", \"Startup\", \"Product\", \"Startup\", \"Agency\", \"Startup\", \"Personaldienstleister\", \"Startup\", \"Product\", \"Startup\", \"Product\", \"Startup\", \"Product\", \"Product\", \"Startup\", \"Product\", \"Agency\", \"Agency\", \"Product\", \"Product\", \"Product\", \"Startup\", \"Product\", \"Startup\", \"Product\", \"Product\", \"Product\", \"Startup\", \"Product\", \"Agency\", \"Startup\", \"Product\", \"Startup\", \"ipo\", \"Product\", \"e-commerce\", \"Product\", \"Startup\", \"Product\", \"Product\", \"Outsource\", \"Product\", \"Product\", \"Startup\", \"Product\", \"Product\", \"Startup\", \"Product\", \"Product\", \"Product\", \"Product\", \"Product\", \"Startup\", \"Startup\", \"Product\", \"Product\", \"Product\", \"Product\", \"Product\", \"Product\", \"Startup\", \"Product\", \"Product\", \"Product\", \"Product\", \"Product\", \"Product\", \"Product\", \"Product\", \"Product\", \"Agency\", \"Startup\", \"Product\", \"Product\", \"Agency\", \"Product\", \"Product\", \"Product\", \"Product\", \"Agency\", \"Startup\", \"Startup\", \"Product\", \"Product\", \"Product\", \"Product\", \"Product\", \"Product\", \"Startup\", \"Product\", \"Startup\", \"Product\", \"Product\", \"Agency\", \"Product\", \"Product\", \"Startup\", \"Product\", \"Startup\", \"Product\", \"Product\", \"Product\", \"Startup\", \"Product\", \"Startup\", \"Agency\", \"Product and Projects\", \"Product\", \"Product\", \"Product\", \"Startup\", \"E-Commerce\", \"Product\", \"Development\", \"Product\", \"Product\", \"Outsource\", \"Product\", \"Product\", \"Startup\", \"Startup\", \"Product\", \"Startup\", \"Product\", \"Product\", \"Product\", \"Product\", \"Startup\", \"Product\", \"Product\", \"Product\", \"Product\", \"Agency\", \"Product\", \"Product\", \"Product\", \"Product\", \"Product\", \"Startup\", \"Startup\", \"Product\", \"Product\", \"Product\", \"Product\", \"Product\", \"Product\", \"Product\", \"Product\", \"Startup\", \"Product\", \"Product\", \"Product\", \"Startup\", \"Product\", \"Product\", \"Product\", \"Product\", \"Startup\", \"Product\", \"Product\", \"Startup\", \"Product\", \"Product\", \"Product\", \"Agency\", \"Agency\", \"Product\", \"Startup\", \"Agency\", \"Product\", \"Startup\", \"Startup\", \"Product\", \"Product\", \"Consulting Company\", \"Startup\", \"Product\", \"Product\", \"Product\", \"Product\", \"Startup\", \"Product\", \"Product\", \"Startup\", \"Product\", \"Product\", \"Agency\", \"Startup\", \"Startup\", \"Agency\", \"Product\", \"Product\", \"Startup\", \"IT Dienstleistungen \", \"Product\", \"Product\", \"Agency\", \"Product\", \"Startup\", \"Product\", \"Product\", \"Agency\", \"Agency\", \"Product\", \"Manufacturing\", \"Product\", \"Startup\", \"Product\", \"Startup\", \"Product\", \"Stock market \", \"Product\", \"telecom operator\", \"Product\", \"Product\", \"Ecommerce\", \"Startup\", \"Startup\", \"Product\", \"Consulting\", \"Product\", \"Startup\", \"Product\", \"Agency\", \"Product\", \"Product\", \"Agency\", \"Product\", \"Product\", \"Startup\", \"Product\", \"Product\", \"Product\", \"Product\", \"Startup\", \"Product\", \"Product\", \"Startup\", \"Product\", \"Product\", \"Product\", \"Startup\", \"Consulting\", \"Outsourcing\", \"Startup\", \"Product\", \"Product\", \"Agency\", \"Product\", \"Agency\", \"Startup\", \"Product\", \"Product\", \"Product\", \"Product\", \"Product\", \"Outsorce\", \"Product\", \"Product\", \"Product\", \"Product\", \"Product\", \"Product\", \"Product\", \"Startup\", \"Product\", \"Agency\", \"Outsource\", \"Product\", \"Product\", \"Product\", \"Product\", \"consulting\", \"Startup\", \"Product\", \"Product\", \"Product\", \"Product\", \"Outsource\", \"Agency\", \"Product\", \"Product\", \"Agency\", \"Product\", \"GmbH\", \"Product\", \"Product\", \"Product\", \"Startup\", \"Startup\", \"Product\", \"Startup\", \"Product\", \"Startup\", \"Corporation\", \"Product\", \"Product\", \"Product\", \"Agency\", \"Product\", \"Product\", \"Product\", \"Product\", \"Product\", \"Product\", \"IT Consulting \", \"Startup\", \"Product\", \"Product\", \"Product\", \"Product\", \"Product\", \"Product\", \"Startup\", \"Product\", \"Product\", \"Agency\", \"Product\", \"Product\", \"Product\", \"Product\", \"Product\", \"Product\", \"Startup\", \"Agency\", \"Startup\", \"Product\", \"Product\", \"Product\", \"Startup\", \"Startup\", \"Product\", \"Product\", \"Agency\", \"Startup\", \"Startup\", \"Startup\", \"Startup\", \"Product\", \"Product\", \"Product\", \"IT Consultancy \", \"Product\", \"Agency\", \"Startup\", \"Product\", \"Product\", \"Product\", \"Product\", \"Startup\", \"Product\", \"Product\", \"Product\", \"Product\", \"Product\", \"Product\", \"Agency\", \"Product\", \"IT Service Provider\", \"Product\", \"Startup\", \"Product\", \"Product\", \"Agency\", \"Product\", \"Product\", \"non-IT, manufacturing\", \"Bank \", \"Insurance\", \"Product\", \"Product\", \"Product\", \"IT-Beratung\", \"Product\", \"Startup\", \"Startup\", \"Product\", \"Startup\", \"Product\", \"Consulting\", \"Startup\", \"Product\", \"Product\", \"Startup\", \"Product\", \"Agency\", \"Product\", \"Product\", \"Startup\", \"Startup\", \"Technology Consulting\", \"Startup\", \"Agency\", \"Product\", \"Startup\", \"Product\", \"outsource\", \"Product\", \"IT Consultants\", \"Product\", \"Agency\", \"Agency\", \"Agency\", \"Agency\", \"Product\", \"Product\", \"Product\", \"Startup\", \"Product\", \"Consulting\", \"Hochschule/university\", \"Product\", \"Product\", \"Product\", \"ISP\", \"Product\", \"Product\", \"Product\", \"Product\", \"Startup\", \"Product\", \"Product\", \"Product\", \"Product\", \"Product\", \"Product\", \"Product\", \"Product\", \"Agency\", \"Product\", \"Product\", \"Product\", \"Product\", \"Product\", \"Agency\", \"Product\", \"Product\", \"Product\", \"Product\", \"Product\", \"Product\", \"Startup\", \"Product\", \"Product\", \"Product\", \"Product\", \"Product\", \"Agency\", \"Fin Tech\", \"Agency\", \"Startup\", \"Product\", \"Outsourcing\", \"Product\", \"Startup\", \"Product\", \"Product\", \"Outsourcing\", \"Product\", \"Startup\", \"Product\", \"Blockchain technology\", \"Retail\", \"Startup\", \"Agency\", \"Product\", \"Product\", \"Product\", \"Product\", \"Agency\", \"Startup\", \"Consult\", \"Startup\", \"Product\", \"Product\", \"Agency\", \"Agency\", \"Product\", \"Product\", \"Product\", \"Product\", \"Product\", \"Product\", \"Product\", \"Product\", \"Agency\", \"Startup\", \"Product\", \"Product\", \"Product\", \"Agency\", \"Product\", \"Product\", \"Product\", \"Agency\", \"Product\", \"Project-based software development\", \"Product\", \"Product\", \"Product\", \"Automotive\", \"Product\", \"Product\", \"Product\", \"Startup\", \"Product\", \"Startup\", \"Product\", \"Product\", \"Automotive\", \"Product\", \"Product\", \"Product\", \"Product\", \"Startup\", \"Product\", \"Product\", \"Startup\", \"Product\", \"OEM\", \"Consulting (banking)\", \"Product\", \"Agency\", \"Startup\", \"Product\", \"IT Consulting\", \"Agency\", \"Product\", \"Agency\", \"Product\", \"Product\", \"Product\", \"Product\", \"Product\", \"Startup\", \"Product\", \"Product\", \"Product\", \"Startup\", \"Product\", \"Product\", \"Product\", \"Product\", \"Agency\", \"Product\", \"Product\", \"Agency\", \"Product\", \"Agency\", \"Product\", \"Product\", \"Product\", \"Product\", \"Agency\", \"Agency\", \"Product\", \"Product\", \"Product\"], \"type\": \"scatter\", \"x\": [0.0, 0.5, 1.0, 1.5, 2.0, 2.5, 3.0, 4.0, 4.5, 5.0, 6.0, 7.0, 7.5, 8.0, 8.548497267759563, 9.0, 10.0, 11.0, 12.0, 13.0, 14.0, 15.0, 16.0, 17.0, 18.0, 19.0, 20.0, 21.0, 25.0, 30.0, 38.0], \"y\": [50000.0, 46000.0, 47000.0, 58000.0, 51000.0, 50000.0, 55555.0, 60000.0, 39150.0, 60000.0, 63000.0, 68000.0, 65000.0, 70000.0, 70000.0, 70000.0, 70000.0, 71000.0, 71000.0, 73500.0, 73000.0, 68000.0, 90500.0, 80000.0, 72500.0, 84000.0, 80000.0, 90000.0, 109000.0, 64000.0, 58000.0]}, {\"marker\": {\"color\": \"green\"}, \"mode\": \"lines+markers\", \"name\": \"2019\", \"text\": [\"Startup\", \"Product\", \"Startup\", \"Product\", \"Product\", \"Product\", \"Startup\", \"Product\", \"Product\", \"Product\", \"Startup\", \"Product\", \"Startup\", \"Product\", \"Startup\", \"Startup\", \"Product\", \"Product\", \"Product\", \"Product\", \"Startup\", \"Product\", \"Product\", \"Product\", \"Product\", \"Product\", \"Product\", \"Consulting / Agency\", \"Product\", \"Product\", \"Product\", \"Consulting / Agency\", \"Startup\", \"Product\", \"Product\", \"Product\", \"Product\", \"Startup\", \"Product\", \"Product\", \"Startup\", \"Product\", \"Product\", \"Startup\", \"Startup\", \"Product\", \"Product\", \"Consulting / Agency\", \"Startup\", \"Product\", \"Startup\", \"Consulting / Agency\", \"Startup\", \"Startup\", \"Product\", \"Consulting / Agency\", \"Product\", \"Startup\", \"Startup\", \"Startup\", \"Product\", \"Product\", \"Product\", \"Product\", \"Startup\", \"Product\", \"Product\", \"Startup\", \"Consulting / Agency\", \"Product\", \"Product\", \"Consulting / Agency\", \"Product\", \"Product\", \"Startup\", \"Product\", \"Product\", \"Product\", \"Product\", \"Product\", \"Startup\", \"Product\", \"Product\", \"Product\", \"Consulting / Agency\", \"Product\", \"Startup\", \"Product\", \"Product\", \"Product\", \"Startup\", \"Consulting / Agency\", \"Product\", \"Startup\", \"Product\", \"Startup\", \"Product\", \"Product\", \"Product\", \"Product\", \"Product\", \"Consulting / Agency\", \"Startup\", \"Product\", \"Consulting / Agency\", \"Startup\", \"Product\", \"Product\", \"Consulting / Agency\", \"Product\", \"Product\", \"Consulting / Agency\", \"Startup\", \"Startup\", \"Consulting / Agency\", \"Product\", \"Product\", \"Bodyshop / Outsource\", \"Product\", \"Product\", \"Product\", \"Product\", \"Product\", \"Product\", \"Product\", \"Consulting / Agency\", \"Product\", \"Product\", \"Product\", \"Product\", \"Product\", \"Bodyshop / Outsource\", \"Startup\", \"Product\", \"Consulting / Agency\", \"Bodyshop / Outsource\", \"Consulting / Agency\", \"Product\", \"Product\", \"Consulting / Agency\", \"Product\", \"Product\", \"Startup\", \"Product\", \"Product\", \"Product\", \"Product\", \"Product\", \"Product\", \"Consulting / Agency\", \"Product\", \"Product\", \"Product\", \"Product\", \"Product\", \"Product\", \"Product\", \"Product\", \"Product\", \"Product\", \"Product\", \"Consulting / Agency\", \"Startup\", \"Product\", \"Product\", \"Consulting / Agency\", \"Product\", \"Product\", \"Startup\", \"Startup\", \"Product\", \"Product\", \"Product\", \"Product\", \"Product\", \"Product\", \"Product\", \"Product\", \"Product\", \"Consulting / Agency\", \"Product\", \"Product\", \"Consulting / Agency\", \"Product\", \"Consulting / Agency\", \"Product\", \"Product\", \"Product\", \"Product\", \"Product\", \"Product\", \"Product\", \"Product\", \"Product\", \"Product\", \"Consulting / Agency\", \"Product\", \"Product\", \"Startup\", \"Product\", \"Consulting / Agency\", \"Product\", \"Product\", \"Product\", \"Consulting / Agency\", \"Product\", \"Product\", \"Product\", \"Product\", \"Product\", \"Product\", \"Product\", \"Product\", \"Product\", \"Product\", \"Product\", \"Product\", \"Product\", \"Product\", \"Product\", \"Product\", \"Product\", \"Startup\", \"Product\", \"Bodyshop / Outsource\", \"Product\", \"Startup\", \"Consulting / Agency\", \"Product\", \"Consulting / Agency\", \"Product\", \"Bodyshop / Outsource\", \"Product\", \"Startup\", \"Startup\", \"Consulting / Agency\", \"Startup\", \"Product\", \"Product\", \"Bodyshop / Outsource\", \"Product\", \"Startup\", \"Product\", \"Product\", \"Consulting / Agency\", \"Product\", \"Product\", \"Product\", \"Product\", \"Product\", \"Product\", \"Product\", \"Product\", \"Product\", \"Product\", \"Startup\", \"Product\", \"Product\", \"Product\", \"Startup\", \"Startup\", \"Product\", \"Product\", \"Product\", \"Product\", \"Startup\", \"Product\", \"Startup\", \"Bodyshop / Outsource\", \"Product\", \"Consulting / Agency\", \"Product\", \"Product\", \"Consulting / Agency\", \"Product\", \"Startup\", \"Product\", \"Product\", \"Product\", \"Product\", \"Product\", \"Product\", \"Product\", \"Product\", \"Startup\", \"Product\", \"Product\", \"Product\", \"Startup\", \"Product\", \"Product\", \"Product\", \"Consulting / Agency\", \"Bodyshop / Outsource\", \"Product\", \"Product\", \"Product\", \"Consulting / Agency\", \"Product\", \"Product\", \"Product\", \"Product\", \"Product\", \"Startup\", \"Product\", \"Product\", \"Product\", \"Startup\", \"Consulting / Agency\", \"Startup\", \"Product\", \"Product\", \"Product\", \"Startup\", \"Product\", \"Product\", \"Startup\", \"Product\", \"Product\", \"Product\", \"Product\", \"Product\", \"Product\", \"Product\", \"Startup\", \"Product\", \"Product\", \"Product\", \"Consulting / Agency\", \"Product\", \"Product\", \"Product\", \"Startup\", \"Startup\", \"Product\", \"Product\", \"Product\", \"Product\", \"Product\", \"Product\", \"Product\", \"Product\", \"Product\", \"Product\", \"Startup\", \"Product\", \"Bodyshop / Outsource\", \"Product\", \"Startup\", \"Product\", \"Product\", \"Product\", \"Product\", \"Consulting / Agency\", \"Product\", \"Product\", \"Product\", \"Product\", \"Product\", \"Startup\", \"Startup\", \"Product\", \"Product\", \"Product\", \"Product\", \"Product\", \"Startup\", \"Product\", \"Product\", \"Startup\", \"Product\", \"Consulting / Agency\", \"Startup\", \"Consulting / Agency\", \"Product\", \"Product\", \"Product\", \"Bodyshop / Outsource\", \"Product\", \"Bodyshop / Outsource\", \"Product\", \"Startup\", \"Product\", \"Product\", \"Startup\", \"Product\", \"Startup\", \"Startup\", \"Product\", \"Startup\", \"Product\", \"Product\", \"Product\", \"Product\", \"Product\", \"Product\", \"Consulting / Agency\", \"Startup\", \"Product\", \"Product\", \"Product\", \"Product\", \"Product\", \"Startup\", \"Consulting / Agency\", \"Product\", \"Product\", \"Startup\", \"Product\", \"Product\", \"Product\", \"Product\", \"Product\", \"Product\", \"Product\", \"Product\", \"Startup\", \"Product\", \"Startup\", \"Consulting / Agency\", \"Consulting / Agency\", \"Product\", \"Product\", \"Consulting / Agency\", \"Consulting / Agency\", \"Consulting / Agency\", \"Product\", \"Product\", \"Startup\", \"Product\", \"Product\", \"Product\", \"Bodyshop / Outsource\", \"Product\", \"Product\", \"Consulting / Agency\", \"Startup\", \"Product\", \"Startup\", \"Startup\", \"Startup\", \"Consulting / Agency\", \"Consulting / Agency\", \"Product\", \"Product\", \"Product\", \"Startup\", \"Product\", \"Startup\", \"Startup\", \"Startup\", \"Product\", \"Consulting / Agency\", \"Consulting / Agency\", \"Startup\", \"Product\", \"Product\", \"Product\", \"University\", \"Bodyshop / Outsource\", \"Product\", \"Product\", \"Product\", \"Startup\", \"Product\", \"Bodyshop / Outsource\", \"Product\", \"Product\", \"Product\", \"Product\", \"Consulting / Agency\", \"Startup\", \"Product\", \"Product\", \"Product\", \"Product\", \"Consulting / Agency\", \"Startup\", \"Product\", \"Startup\", \"Product\", \"Product\", \"Product\", \"Product\", \"Product\", \"Startup\", \"Product\", \"Product\", \"Startup\", \"Consulting / Agency\", \"Product\", \"Product\", \"Consulting / Agency\", \"Product\", \"Product\", \"Product\", \"Product\", \"Product\", \"Startup\", \"Consulting / Agency\", \"Startup\", \"Consulting / Agency\", \"Product\", \"Product\", \"Startup\", \"Product\", \"Product\", \"Product\", \"Startup\", \"Product\", \"Consulting / Agency\", \"Startup\", \"Consulting / Agency\", \"Consulting / Agency\", \"Consulting / Agency\", \"Product\", \"Product\", \"Startup\", \"Product\", \"Product\", \"Startup\", \"Product\", \"Product\", \"Startup\", \"Consulting / Agency\", \"Product\", \"Product\", \"Product\", \"Product\", \"Startup\", \"Startup\", \"Consulting / Agency\", \"Product\", \"Product\", \"Startup\", \"Product\", \"Product\", \"Product\", \"Startup\", \"Startup\", \"Product\", \"Product\", \"Startup\", \"Product\", \"Product\", \"Product\", \"Product\", \"Product\", \"Startup\", \"Product\", \"Product\", \"Product\", \"Product\", \"Product\", \"Product\", \"Product\", \"Product\", \"Product\", \"Product\", \"Startup\", \"Product\", \"Product\", \"Startup\", \"Bodyshop / Outsource\", \"Startup\", \"Consulting / Agency\", \"Startup\", \"Product\", \"Product\", \"Product\", \"Startup\", \"Product\", \"Consulting / Agency\", \"Product\", \"Product\", \"Product\", \"Consulting / Agency\", \"Startup\", \"Product\", \"Startup\", \"Consulting / Agency\", \"Startup\", \"Product\", \"Product\", \"Product\", \"Consulting / Agency\", \"Product\", \"Product\", \"Product\", \"Consulting / Agency\", \"Consulting / Agency\", \"Product\", \"Product\", \"Product\", \"Product\", \"Product\", \"Consulting / Agency\", \"Product\", \"Product\", \"Consulting / Agency\", \"Product\", \"Product\", \"Product\", \"Startup\", \"Product\", \"Product\", \"Consulting / Agency\", \"Product\", \"Product\", \"Product\", \"Product\", \"Product\", \"Product\", \"Product\", \"Product\", \"Product\", \"Product\", \"Product\", \"Startup\", \"Product\", \"Product\", \"Product\", \"Product\", \"Product\", \"Product\", \"Consulting / Agency\", \"Product\", \"Bodyshop / Outsource\", \"Product\", \"Product\", \"Startup\", \"Product\", \"Product\", \"Consulting / Agency\", \"Product\", \"Product\", \"Consulting / Agency\", \"Product\", \"Startup\", \"Product\", \"Startup\", \"Startup\", \"Product\", \"Consulting / Agency\", \"Startup\", \"Product\", \"Consulting / Agency\", \"Consulting / Agency\", \"Product\", \"Product\", \"Product\", \"Product\", \"Product\", \"Product\", \"Startup\", \"Product\", \"Product\", \"Product\", \"Startup\", \"Product\", \"Product\", \"Startup\", \"Product\", \"Startup\", \"Product\", \"Product\", \"Consulting / Agency\", \"Product\", \"Product\", \"Startup\", \"Product\", \"Product\", \"Consulting / Agency\", \"Product\", \"Product\", \"Product\", \"Product\", \"Product\", \"Startup\", \"Startup\", \"Product\", \"Product\", \"Consulting / Agency\", \"Product\", \"Startup\", \"Consulting / Agency\", \"Bodyshop / Outsource\", \"Startup\", \"Startup\", \"Product\", \"Product\", \"Product\", \"Startup\", \"Startup\", \"Product\", \"Startup\", \"Product\", \"Product\", \"Bank\", \"Product\", \"Bodyshop / Outsource\", \"Product\", \"Startup\", \"University\", \"Product\", \"Product\", \"Product\", \"Product\", \"Product\", \"Product\", \"Startup\", \"Product\", \"Product\", \"Product\", \"Bodyshop / Outsource\", \"Startup\", \"Product\", \"Product\", \"Product\", \"Product\", \"Product\", \"Startup\", \"Product\", \"Product\", \"Product\", \"Startup\", \"Bodyshop / Outsource\", \"Product\", \"Product\", \"Startup\", \"Product\", \"Product\", \"Product\", \"Product\", \"Product\", \"Product\", \"Product\", \"Bodyshop / Outsource\", \"Consulting / Agency\", \"Product\", \"Product\", \"Product\", \"Product\", \"Product\", \"Product\", \"Product\", \"Startup\", \"Product\", \"Product\", \"Consulting / Agency\", \"Consulting / Agency\", \"Product\", \"Product\", \"Startup\", \"Consulting / Agency\", \"Startup\", \"Consulting / Agency\", \"Product\", \"Bodyshop / Outsource\", \"Product\", \"Product\", \"Product\", \"Product\", \"Bodyshop / Outsource\", \"Product\", \"Bodyshop / Outsource\", \"Bodyshop / Outsource\", \"Product\", \"Product\", \"Product\", \"Bank\", \"Consulting / Agency\", \"Startup\", \"Product\", \"Product\", \"Product\", \"Product\", \"Product\", \"Product\", \"Product\", \"Product\", \"Product\", \"Product\", \"Product\", \"Product\", \"Product\", \"Product\", \"Bank\", \"Product\", \"Product\", \"Product\", \"Startup\", \"Consulting / Agency\", \"Startup\", \"Product\", \"Product\", \"Product\", \"Product\", \"Consulting / Agency\", \"Consulting / Agency\", \"Startup\", \"Product\", \"Product\", \"Consulting / Agency\", \"Product\", \"Consulting / Agency\", \"Product\", \"Bank\", \"Product\", \"Startup\", \"Consulting / Agency\", \"Product\", \"Product\", \"Product\", \"University\", \"Startup\", \"Product\", \"Startup\", \"Product\", \"Product\", \"Product\", \"Product\", \"Startup\", \"Product\", \"Product\", \"Product\", \"Startup\", \"Startup\", \"Product\", \"Product\", \"Product\", \"Startup\", \"Consulting / Agency\", \"Consulting / Agency\", \"Product\", \"Product\", \"Startup\", \"Product\", \"Product\", \"Product\", \"Product\", \"Product\", \"Consulting / Agency\", \"Startup\", \"Consulting / Agency\", \"Consulting / Agency\", \"Startup\", \"Bodyshop / Outsource\", \"Product\", \"Startup\", \"Product\", \"Startup\", \"Product\", \"Consulting / Agency\", \"Product\", \"Product\", \"Product\", \"Product\", \"Product\", \"Startup\", \"Consulting / Agency\", \"Startup\", \"Product\", \"Product\", \"Product\", \"Consulting / Agency\", \"Product\", \"Product\", \"Product\", \"Product\", \"Startup\", \"Product\", \"Product\", \"Product\", \"Product\", \"Product\", \"Startup\", \"Product\", \"Startup\", \"Startup\", \"Product\", \"Bodyshop / Outsource\", \"Product\", \"Product\", \"Product\", \"Startup\", \"Product\", \"Startup\", \"Product\", \"Product\", \"Product\", \"Product\", \"Product\", \"Product\", \"Product\", \"Bodyshop / Outsource\", \"Product\", \"Product\", \"Product\", \"Consulting / Agency\", \"Startup\", \"Product\", \"University\", \"Product\", \"Bodyshop / Outsource\", \"Product\", \"Product\", \"Product\", \"Product\", \"Product\", \"Product\", \"Product\", \"Product\", \"Product\", \"Startup\", \"Product\", \"Consulting / Agency\", \"University\", \"Product\", \"Startup\", \"Product\", \"Startup\", \"Product\", \"Startup\", \"Product\", \"Product\", \"Consulting / Agency\", \"Product\", \"Startup\", \"Product\", \"Product\", \"Product\", \"Product\", \"Outsource\", \"Product\", \"Product\", \"Startup\", \"Product\", \"Product\", \"Product\", \"Product\", \"Product\", \"Product\", \"Product\", \"Product\", \"Bodyshop / Outsource\", \"Product\", \"Product\", \"Product\", \"Product\", \"Product\", \"Product\", \"Product\", \"Product\", \"Consulting / Agency\", \"Product\", \"Product\", \"Product\", \"University\", \"Consulting / Agency\", \"Consulting / Agency\", \"Consulting / Agency\", \"Product\", \"Consulting / Agency\", \"Product\", \"Consulting / Agency\", \"Startup\", \"Product\", \"Product\", \"Bank\", \"Product\", \"Product\", \"Consulting / Agency\", \"Startup\", \"Product\", \"Product\", \"Product\", \"Product\", \"Product\", \"Bank\", \"Product\", \"Product\", \"Consulting / Agency\"], \"type\": \"scatter\", \"x\": [0, 1, 2, 3, 4, 5, 6, 7, 8, 9, 10, 11, 12, 13, 14, 15, 16, 17, 18, 19, 20, 22, 24, 25, 28, 30], \"y\": [55000.0, 45600.0, 52250.0, 55000.0, 62000.0, 65000.0, 68000.0, 67000.0, 74500.0, 74000.0, 76000.0, 75000.0, 77700.0, 70000.0, 80000.0, 75000.0, 73500.0, 75000.0, 82500.0, 73000.0, 78000.0, 100500.0, 115000.0, 79800.0, 110000.0, 60000.0]}, {\"marker\": {\"color\": \"black\"}, \"mode\": \"lines+markers\", \"name\": \"2020\", \"text\": [\"Product\", \"Product\", \"Product\", \"Startup\", \"Product\", \"Startup\", \"Product\", \"Product\", \"Product\", \"Product\", \"Consulting / Agency\", \"Product\", \"Product\", \"Startup\", \"Product\", \"Consulting / Agency\", \"Product\", \"Startup\", \"Product\", \"Product\", \"Product\", \"Product\", \"Product\", \"Product\", \"Product\", \"Product\", \"Product\", \"Media\", \"Product\", \"Product\", \"Product\", \"Startup\", \"Startup\", \"Startup\", \"Product\", \"Product\", \"Product\", \"Product\", \"Startup\", \"Startup\", \"Product\", \"Product\", \"Product\", \"Product\", \"Product\", \"Product\", \"Product\", \"Product\", \"Product\", \"Startup\", \"Product\", \"Startup\", \"Product\", \"Product\", \"Product\", \"Product\", \"Product\", \"Product\", \"Product\", \"Consulting / Agency\", \"Product\", \"Product\", \"Product\", \"Consulting / Agency\", \"Product\", \"Consulting / Agency\", \"Product\", \"Personal Ltd\", \"Startup\", \"Startup\", \"Product\", \"Consulting / Agency\", \"Product\", \"Startup\", \"Product\", \"Product\", \"Consulting / Agency\", \"Startup\", \"Product\", \"Product\", \"Startup\", \"Product\", \"Product\", \"Product\", \"Product\", \"Startup\", \"Product\", \"Startup\", \"Product\", \"Product\", \"Product\", \"Product\", \"Product\", \"Consulting / Agency\", \"Product\", \"Product\", \"Product\", \"Product\", \"Product\", \"Product\", \"Product\", \"Product\", \"Startup\", \"Product\", \"Startup\", \"Product\", \"Product\", \"Product\", \"Product\", \"Product\", \"Startup\", \"Product\", \"Product\", \"Startup\", \"Product\", \"Product\", \"Product\", \"Consulting / Agency\", \"Product\", \"Product\", \"Product\", \"Startup\", \"Product\", \"Product\", \"Product\", \"Startup\", \"Product\", \"Startup\", \"Product\", \"Startup\", \"Consulting / Agency\", \"Product\", \"Product\", \"Product\", \"Product\", \"Product\", \"Product\", \"Startup\", \"Product\", \"Product\", \"Cloud\", \"Product\", \"Startup\", \"Product\", \"Product\", \"Product\", \"Product\", \"Consulting / Agency\", \"Product\", \"Startup\", \"Product\", \"Startup\", \"Beh\\u00f6rde\", \"Product\", \"Product\", \"Product\", \"Product\", \"Product\", \"Consulting / Agency\", \"Consulting / Agency\", \"Product\", \"Startup\", \"Product\", \"Startup\", \"Startup\", \"Product\", \"Startup\", \"Consulting / Agency\", \"Product\", \"Product\", \"Consulting / Agency\", \"Startup\", \"Product\", \"Product\", \"Product\", \"Startup\", \"Product\", \"Product\", \"Startup\", \"Product\", \"Product\", \"Product\", \"Construction\", \"Product\", \"Product\", \"Product\", \"Product\", \"Product\", \"Product\", \"Startup\", \"Product\", \"Consulting / Agency\", \"Product\", \"Product\", \"Product\", \"Product\", \"Product\", \"Product\", \"Product\", \"Product\", \"Product\", \"Product\", \"Startup\", \"Consulting / Agency\", \"Product\", \"Big commercial\", \"Product\", \"Product\", \"Product\", \"Product\", \"Product\", \"Startup\", \"Product\", \"Startup\", \"Product\", \"Product\", \"Product\", \"Product\", \"Product\", \"Consulting / Agency\", \"Product\", \"Product\", \"Startup\", \"Product\", \"Consulting / Agency\", \"Product\", \"Product\", \"Consulting / Agency\", \"Consulting / Agency\", \"Consulting / Agency\", \"Product\", \"Product\", \"Product\", \"Product\", \"Outsorce\", \"Product\", \"Product\", \"Product\", \"Product\", \"Product\", \"Product\", \"Startup\", \"Consulting / Agency\", \"Bank \", \"Product\", \"Consulting / Agency\", \"Fintech\", \"Automotive\", \"Product\", \"Product\", \"Consulting / Agency\", \"Product\", \"Startup\", \"Consulting / Agency\", \"Product\", \"Startup\", \"Product\", \"Bank\", \"Product\", \"Startup\", \"Product\", \"Startup\", \"Product\", \"Startup\", \"Product\", \"Product\", \"Product\", \"Consulting / Agency\", \"Product\", \"IT Department of established business\", \"Product\", \"Startup\", \"Startup\", \"Product\", \"Telecommunications\", \"Product\", \"Product\", \"Product\", \"Startup\", \"Product\", \"Product\", \"Consulting / Agency\", \"Product\", \"Product\", \"Product\", \"Startup\", \"Startup\", \"Product\", \"Product\", \"Product\", \"Product\", \"Media\", \"Startup\", \"Product\", \"Product\", \"Product\", \"Product\", \"Product\", \"Product\", \"Product\", \"Product\", \"Product\", \"Product\", \"E-commerce\", \"Startup\", \"Product\", \"Startup\", \"Product\", \"Product\", \"Product\", \"Product\", \"Product\", \"Product\", \"Startup\", \"Product\", \"Consulting / Agency\", \"Product\", \"Product\", \"Product\", \"Product\", \"Product\", \"Product\", \"Product\", \"Product\", \"Consulting / Agency\", \"Product\", \"Product\", \"Product\", \"Product\", \"Product\", \"Bank\", \"Startup\", \"Product\", \"Product\", \"Product\", \"Product\", \"Startup\", \"Product\", \"Product\", \"Consulting / Agency\", \"Startup\", \"Consulting / Agency\", \"Consulting / Agency\", \"Product\", \"Product\", \"Product\", \"Systemhaus\", \"Consulting / Agency\", \"Product\", \"Product\", \"Product\", \"Product\", \"Product\", \"Product\", \"Consulting / Agency\", \"Product\", \"Product\", \"Product\", \"Consulting / Agency\", \"Product\", \"Startup\", \"Product\", \"Startup\", \"University\", \"Product\", \"Product\", \"Product\", \"Product\", \"Consulting / Agency\", \"Product\", \"Consulting / Agency\", \"Product\", \"Product\", \"Startup\", \"Product\", \"Product\", \"Product\", \"Product\", \"Startup\", \"Consulting / Agency\", \"Product\", \"Product\", \"Consulting / Agency\", \"Startup\", \"Product\", \"Startup\", \"Product\", \"Startup\", \"Startup\", \"Consulting / Agency\", \"Product\", \"Product\", \"Product\", \"Startup\", \"Product\", \"consumer goods\", \"Startup\", \"Product\", \"Product\", \"Product\", \"IT-Outsourcing\", \"Product\", \"Product\", \"Product\", \"Product\", \"Startup\", \"Product\", \"Product\", \"Product\", \"Startup\", \"Product\", \"Startup\", \"Product\", \"Product\", \"Startup\", \"Product\", \"Startup\", \"Product\", \"Product\", \"Startup\", \"Product\", \"Product\", \"Startup\", \"Consulting / Agency\", \"Product\", \"Startup\", \"Startup\", \"Product\", \"Product\", \"Startup\", \"Product\", \"Product\", \"Startup\", \"Product\", \"Startup\", \"Product\", \"Product\", \"Product\", \"Product\", \"Product\", \"Game Company\", \"Product\", \"Product\", \"Product\", \"Product\", \"Startup\", \"Consulting / Agency\", \"Startup\", \"Product\", \"Product\", \"Consulting / Agency\", \"Product\", \"Product\", \"Financial \", \"Product\", \"Product\", \"Startup\", \"Product\", \"Startup\", \"Product\", \"Consulting / Agency\", \"Consulting / Agency\", \"Product\", \"Product\", \"Product\", \"Product\", \"Consulting / Agency\", \"E-commerce\", \"Product\", \"Startup\", \"Product\", \"Product\", \"Product\", \"Startup\", \"Corporation\", \"Startup\", \"Product\", \"Product\", \"Product\", \"Product\", \"Publishing and Technology\", \"Product\", \"Startup\", \"Startup\", \"Startup\", \"Product\", \"Product\", \"Product\", \"Startup\", \"Product\", \"Startup\", \"Product\", \"Product\", \"Startup\", \"Startup\", \"Startup\", \"Consulting / Agency\", \"Consulting / Agency\", \"Startup\", \"Product\", \"Startup\", \"Product\", \"Market Research \", \"Consulting / Agency\", \"Startup\", \"Consulting / Agency\", \"Consulting / Agency\", \"Startup\", \"Product\", \"Product\", \"Product\", \"Consulting / Agency\", \"Product\", \"Product\", \"Product\", \"Startup\", \"e-commerce\", \"Product\", \"Product\", \"Product\", \"Product\", \"Startup\", \"Product\", \"Product\", \"Product\", \"Product\", \"Product\", \"Product\", \"Product\", \"SaaS\", \"Startup\", \"Product\", \"Product\", \"Startup\", \"Startup\", \"Startup\", \"Product\", \"Product\", \"Product\", \"Startup\", \"Consulting / Agency\", \"Consulting / Agency\", \"Startup\", \"Startup\", \"Startup\", \"Product\", \"Product\", \"Product\", \"Product\", \"Product\", \"Product\", \"Product\", \"Startup\", \"Product\", \"Startup\", \"Product\", \"Startup\", \"Startup\", \"Product\", \"Product\", \"Product\", \"Product\", \"Product\", \"Product\", \"Consulting / Agency\", \"Product\", \"Startup\", \"Publisher\", \"Product\", \"Startup\", \"Consulting / Agency\", \"E-commerce\", \"Startup\", \"Product\", \"Consulting / Agency\", \"Startup\", \"Product\", \"Startup\", \"Product\", \"Product\", \"Product\", \"Startup\", \"Product\", \"University\", \"Product\", \"Product\", \"Product\", \"Product\", \"Product\", \"Startup\", \"Product\", \"Product\", \"Product\", \"Product\", \"Energy \", \"Startup\", \"Product\", \"Product\", \"Product\", \"Product\", \"Product\", \"Product\", \"Startup\", \"Product\", \"Product\", \"Product\", \"Startup\", \"Startup\", \"Startup\", \"Product\", \"Startup\", \"Product\", \"Product\", \"Product\", \"Product\", \"Product\", \"Enterprise\", \"Product\", \"Product\", \"Startup\", \"Product\", \"Product\", \"Product\", \"Product\", \"Consulting / Agency\", \"Consulting / Agency\", \"Product\", \"Product\", \"Startup\", \"Consulting / Agency\", \"Bloody enterprise\", \"service\", \"Startup\", \"Product\", \"Product\", \"Startup\", \"Consulting / Agency\", \"Concern\", \"Startup\", \"Product\", \"Consulting / Agency\", \"Product\", \"Product\", \"Product\", \"Product\", \"Product\", \"Startup\", \"Product\", \"Product\", \"Product\", \"Utilities\", \"Product\", \"Product\", \"Product\", \"Startup\", \"Product\", \"Bank\", \"Product\", \"Product\", \"Product\", \"Product\", \"Product\", \"Product\", \"Product\", \"Startup\", \"Product\", \"Product\", \"Product\", \"Consulting / Agency\", \"Product\", \"Product\", \"Product\", \"Product\", \"Product\", \"Product\", \"Product\", \"Product\", \"Product\", \"Product\", \"Product\", \"Product\", \"Startup\", \"Consulting / Agency\", \"Product\", \"Product\", \"Product\", \"Corporation\", \"Startup\", \"Product\", \"Product\", \"Product\", \"Consulting / Agency\", \"Product\", \"Product\", \"Startup\", \"Product\", \"Product\", \"Product\", \"Product\", \"Startup\", \"Consulting / Agency\", \"Product\", \"Product\", \"Product\", \"Product\", \"Product\", \"Startup\", \"Product\", \"Product\", \"Product\", \"Insurance\", \"Consulting / Agency\", \"Startup\", \"Consulting / Agency\", \"Startup\", \"Product\", \"Product\", \"Product\", \"Consulting / Agency\", \"Product\", \"Product\", \"Product\", \"Product\", \"Consulting / Agency\", \"Product\", \"Product\", \"Consulting / Agency\", \"Product\", \"Product\", \"Product\", \"Startup\", \"Product\", \"Startup\", \"Product\", \"Startup\", \"Product\", \"Consulting / Agency\", \"Product\", \"Startup\", \"Startup\", \"Product\", \"Startup\", \"Product\", \"Science Institute \", \"Product\", \"Research institute\", \"Startup\", \"Product\", \"Startup\", \"Product\", \"Product\", \"Product\", \"Product\", \"Startup\", \"Product\", \"Product\", \"Startup\", \"Product\", \"Product\", \"Retail\", \"Consulting / Agency\", \"Startup\", \"Consulting / Agency\", \"Product\", \"Startup\", \"Product\", \"Product\", \"Product\", \"Product\", \"Ecommerce\", \"Consulting / Agency\", \"Product\", \"Product\", \"Startup\", \"Product\", \"Product\", \"Product\", \"E-Commerce\", \"Product\", \"Product\", \"Product\", \"Product\", \"Product\", \"Product\", \"Product\", \"Startup\", \"Startup\", \"Product\", \"Product\", \"Product\", \"Startup\", \"Product\", \"Product\", \"Consulting / Agency\", \"Startup\", \"Consulting / Agency\", \"Product\", \"Product\", \"Product\", \"Product\", \"Product\", \"Consulting / Agency\", \"Product\", \"Product\", \"Product\", \"Startup\", \"Product\", \"Product\", \"Product\", \"Product\", \"Product\", \"Product\", \"Product\", \"Product\", \"Product\", \"Startup\", \"Product\", \"Consulting / Agency\", \"Startup\", \"Product\", \"Product\", \"Startup\", \"Product\", \"Consulting / Agency\", \"Product\", \"Consulting / Agency\", \"Product\", \"Product\", \"Startup\", \"Product\", \"Consulting / Agency\", \"Startup\", \"Product\", \"Product\", \"Consulting / Agency\", \"Product\", \"Consulting / Agency\", \"Consulting / Agency\", \"Startup\", \"Consulting / Agency\", \"Product\", \"Product\", \"Product\", \"Consulting / Agency\", \"Semiconductor\", \"Startup\", \"Product\", \"Media\", \"Product\", \"Product\", \"Product\", \"Consulting / Agency\", \"Product\", \"Startup\", \"Consulting / Agency\", \"Startup\", \"Consulting / Agency\", \"Consulting / Agency\", \"Product\", \"Startup\", \"Product\", \"Product\", \"Product\", \"Product\", \"Product\", \"Consulting / Agency\", \"Product\", \"Product\", \"Product\", \"Startup\", \"Consulting / Agency\", \"Product\", \"Product\", \"Consulting / Agency\", \"Product\", \"Product\", \"Consulting / Agency\", \"Product\", \"Startup\", \"Product\", \"Startup\", \"Product\", \"Product\", \"Consulting / Agency\", \"Automotive \", \"Startup\", \"Product\", \"Product\", \"Product\", \"Product\", \"Startup\", \"Product\", \"Consulting / Agency\", \"Product\", \"Product\", \"Product\", \"Startup\", \"Product\", \"Utilities\", \"Consulting / Agency\", \"Product\", \"Institute\", \"Startup\", \"Product\", \"Product\", \"Product\", \"Startup\", \"Product\", \"Startup\", \"Startup\", \"Finance\", \"Product\", \"Consulting / Agency\", \"Product\", \"Fintech\", \"Product\", \"Handel \", \"Consulting and Product\", \"Consulting / Agency\", \"Consulting / Agency\", \"Product\", \"Product\", \"Product\", \"Product\", \"Startup\", \"Product\", \"Product\", \"Consulting / Agency\", \"Product\", \"Startup\", \"Startup\", \"Startup\", \"Product\", \"Consulting / Agency\", \"Startup\", \"Product\", \"Consulting / Agency\", \"Education\", \"Product\", \"Product\", \"Product\", \"Startup\", \"Product\", \"Product\", \"Consulting / Agency\", \"Product\", \"Product\", \"Product\", \"Startup\", \"Startup\", \"Consulting / Agency\", \"Product\", \"Startup\", \"Consulting / Agency\", \"Startup\", \"Startup\", \"Pharma\", \"Product\", \"Product\", \"Startup\", \"Startup\", \"Startup\", \"Full-time position in Education, part-time position in at a data startup\", \"Product\", \"Startup\", \"Startup\", \"Startup\", \"Startup\", \"Startup\", \"Startup\", \"Product\", \"Startup\", \"Product\", \"Startup\", \"Product\", \"Startup\", \"Product\", \"Product\", \"Product\", \"Startup\", \"Product\", \"Bank\", \"Corporation \", \"Product\", \"Product\", \"Product\", \"Startup\", \"Product\", \"Product\", \"Product\", \"Transport & Logistics\", \"Product\", \"Product\", \"Product\", \"Consulting / Agency\", \"Product\", \"Product\", \"Product\", \"Product\", \"Product\", \"Product\", \"Startup\", \"Consulting / Agency\", \"Product\", \"Product\", \"Product\", \"Biergarten \", \"Product\", \"Startup\", \"Product\", \"Product\", \"Product\", \"Product\", \"Non-tech retail\", \"Product\", \"Product\", \"Consulting / Agency\", \"Startup\", \"Product\", \"Consulting / Agency\", \"Startup\", \"Finance\", \"Product\", \"Product\", \"Research\", \"Product\", \"Product\", \"Consulting / Agency\", \"Product\", \"Product\", \"Product\", \"Product\", \"Product\", \"Product\", \"Product\", \"Startup\", \"Product\", \"Product\", \"Startup\", \"Product\", \"Product\", \"Product\", \"Product\", \"Product\", \"Product\", \"Startup\", \"Product\", \"Product\", \"Product\", \"Startup\", \"Startup\", \"Product\", \"Startup\", \"Consulting / Agency\", \"Product\", \"Startup\", \"Startup\", \"Product\", \"Consulting / Agency\", \"Product\", \"Product\", \"Startup\", \"Consulting / Agency\", \"Product\", \"Product\", \"Product\", \"corporate incubator\", \"Startup\", \"Product\", \"Consulting / Agency\", \"Consulting / Agency\", \"Multinational \", \"Product\", \"Product\", \"Startup\", \"Product\", \"Product\", \"Startup\", \"Product\", \"Product\", \"Industry\", \"Consulting / Agency\", \"Product\", \"Consulting / Agency\", \"Product\", \"Startup\", \"Bank\", \"Product\", \"Product\", \"Product\", \"Consulting / Agency\", \"Product\", \"Product\", \"Product\", \"Product\", \"Startup\", \"Consulting / Agency\", \"Product\", \"Product\", \"Product\", \"Product\", \"Consulting / Agency\", \"Product\", \"Product\", \"Product\", \"Product\", \"FAANG\", \"Consulting / Agency\", \"Consulting / Agency\", \"Product\", \"Startup\", \"Product\", \"Product\", \"Consulting / Agency\", \"Product\", \"Product\", \"Consulting / Agency\", \"Product\", \"Startup\", \"Startup\", \"Product\", \"Consulting / Agency\", \"Product\", \"Old industry\", \"Product\", \"Product\", \"Product\", \"Consulting / Agency\", \"Product\", \"Product\", \"Product\", \"Product\", \"Startup\", \"Product\", \"Product\", \"Startup\", \"Startup\", \"Product\", \"Startup\", \"Startup\", \"Startup\", \"Consulting / Agency\", \"Product\", \"Product\", \"Startup\", \"Product\", \"Startup\", \"Product\", \"Product\", \"Product\", \"Product\", \"Consulting / Agency\", \"Product\", \"Product\", \"Product\", \"Startup\", \"Product\", \"Startup\", \"Product\", \"Product\", \"Product\", \"Product\", \"Product\", \"Product\", \"Product\", \"Product\", \"Product\", \"Consulting / Agency\", \"Consulting / Agency\", \"Product\", \"Startup\", \"Product\", \"Product\", \"Startup\", \"Product\", \"Product\", \"Consulting / Agency\", \"Consulting / Agency\", \"Startup\", \"Consulting / Agency\", \"Product\", \"Consulting / Agency\", \"Startup\", \"Consulting / Agency\", \"Consulting / Agency\", \"Startup\", \"Product\", \"Product\", \"Outsourse\", \"Startup\", \"Product\", \"Product\", \"Product\", \"Product\", \"Startup\", \"Product\", \"Product\", \"Product\", \"Product\", \"Product\", \"Product\", \"Startup\", \"Product\", \"Product\", \"Startup\", \"Product\", \"Product\", \"Consulting / Agency\", \"freelance\", \"Startup\", \"Product\", \"Consulting / Agency\", \"Startup\", \"Product\", \"Product\", \"Product\", \"Product\", \"Consulting / Agency\", \"Product\", \"Product\", \"Product\", \"Product\", \"Product\", \"Product\", \"Product\", \"Product\", \"Product\", \"Product\", \"Startup\", \"Product\", \"Product\", \"Startup\", \"Product\", \"Product\", \"eCommerce\", \"Product\", \"Startup\"], \"type\": \"scatter\", \"x\": [\"0\", \"0.8\", \"1\", \"1 (as QA Engineer) / 11 in total\", \"1,5\", \"1.5\", \"10\", \"11\", \"12\", \"13\", \"14\", \"15\", \"15, thereof 8 as CTO\", \"16\", \"17\", \"18\", \"19\", \"2\", \"2,5\", \"2.5\", \"20\", \"21\", \"22\", \"23\", \"24\", \"25\", \"26\", \"27\", \"28\", \"29\", \"3\", \"3.5\", \"30\", \"31\", \"4\", \"4.5\", \"40\", \"5\", \"5.5\", \"6\", \"6 (not as a data scientist, but as a lab scientist)\", \"6.5\", \"7\", \"7.5\", \"8\", \"9\", \"less than year\"], \"y\": [48000.0, 29750.0, 48000.0, 60000.0, 48000.0, 53925.0, 75000.0, 75000.0, 75000.0, 83000.0, 80000.0, 77500.0, 150000.0, 83000.0, 76000.0, 85500.0, 87000.0, 50000.0, 40000.0, 60000.0, 80000.0, 80000.0, 70000.0, 100000.0, 130000.0, 75000.0, 93000.0, 73500.0, 78500.0, 28800.0, 57000.0, 62500.0, 64500.0, 110000.0, 60000.0, 67500.0, 70000.0, 65000.0, 48000.0, 67750.0, 57000.0, 58000.0, 70000.0, 68000.0, 68000.0, 74000.0, 16320.0]}],\n",
              "                        {\"template\": {\"data\": {\"bar\": [{\"error_x\": {\"color\": \"#2a3f5f\"}, \"error_y\": {\"color\": \"#2a3f5f\"}, \"marker\": {\"line\": {\"color\": \"#E5ECF6\", \"width\": 0.5}}, \"type\": \"bar\"}], \"barpolar\": [{\"marker\": {\"line\": {\"color\": \"#E5ECF6\", \"width\": 0.5}}, \"type\": \"barpolar\"}], \"carpet\": [{\"aaxis\": {\"endlinecolor\": \"#2a3f5f\", \"gridcolor\": \"white\", \"linecolor\": \"white\", \"minorgridcolor\": \"white\", \"startlinecolor\": \"#2a3f5f\"}, \"baxis\": {\"endlinecolor\": \"#2a3f5f\", \"gridcolor\": \"white\", \"linecolor\": \"white\", \"minorgridcolor\": \"white\", \"startlinecolor\": \"#2a3f5f\"}, \"type\": \"carpet\"}], \"choropleth\": [{\"colorbar\": {\"outlinewidth\": 0, \"ticks\": \"\"}, \"type\": \"choropleth\"}], \"contour\": [{\"colorbar\": {\"outlinewidth\": 0, \"ticks\": \"\"}, \"colorscale\": [[0.0, \"#0d0887\"], [0.1111111111111111, \"#46039f\"], [0.2222222222222222, \"#7201a8\"], [0.3333333333333333, \"#9c179e\"], [0.4444444444444444, \"#bd3786\"], [0.5555555555555556, \"#d8576b\"], [0.6666666666666666, \"#ed7953\"], [0.7777777777777778, \"#fb9f3a\"], [0.8888888888888888, \"#fdca26\"], [1.0, \"#f0f921\"]], \"type\": \"contour\"}], \"contourcarpet\": [{\"colorbar\": {\"outlinewidth\": 0, \"ticks\": \"\"}, \"type\": \"contourcarpet\"}], \"heatmap\": [{\"colorbar\": {\"outlinewidth\": 0, \"ticks\": \"\"}, \"colorscale\": [[0.0, \"#0d0887\"], [0.1111111111111111, \"#46039f\"], [0.2222222222222222, \"#7201a8\"], [0.3333333333333333, \"#9c179e\"], [0.4444444444444444, \"#bd3786\"], [0.5555555555555556, \"#d8576b\"], [0.6666666666666666, \"#ed7953\"], [0.7777777777777778, \"#fb9f3a\"], [0.8888888888888888, \"#fdca26\"], [1.0, \"#f0f921\"]], \"type\": \"heatmap\"}], \"heatmapgl\": [{\"colorbar\": {\"outlinewidth\": 0, \"ticks\": \"\"}, \"colorscale\": [[0.0, \"#0d0887\"], [0.1111111111111111, \"#46039f\"], [0.2222222222222222, \"#7201a8\"], [0.3333333333333333, \"#9c179e\"], [0.4444444444444444, \"#bd3786\"], [0.5555555555555556, \"#d8576b\"], [0.6666666666666666, \"#ed7953\"], [0.7777777777777778, \"#fb9f3a\"], [0.8888888888888888, \"#fdca26\"], [1.0, \"#f0f921\"]], \"type\": \"heatmapgl\"}], \"histogram\": [{\"marker\": {\"colorbar\": {\"outlinewidth\": 0, \"ticks\": \"\"}}, \"type\": \"histogram\"}], \"histogram2d\": [{\"colorbar\": {\"outlinewidth\": 0, \"ticks\": \"\"}, \"colorscale\": [[0.0, \"#0d0887\"], [0.1111111111111111, \"#46039f\"], [0.2222222222222222, \"#7201a8\"], [0.3333333333333333, \"#9c179e\"], [0.4444444444444444, \"#bd3786\"], [0.5555555555555556, \"#d8576b\"], [0.6666666666666666, \"#ed7953\"], [0.7777777777777778, \"#fb9f3a\"], [0.8888888888888888, \"#fdca26\"], [1.0, \"#f0f921\"]], \"type\": \"histogram2d\"}], \"histogram2dcontour\": [{\"colorbar\": {\"outlinewidth\": 0, \"ticks\": \"\"}, \"colorscale\": [[0.0, \"#0d0887\"], [0.1111111111111111, \"#46039f\"], [0.2222222222222222, \"#7201a8\"], [0.3333333333333333, \"#9c179e\"], [0.4444444444444444, \"#bd3786\"], [0.5555555555555556, \"#d8576b\"], [0.6666666666666666, \"#ed7953\"], [0.7777777777777778, \"#fb9f3a\"], [0.8888888888888888, \"#fdca26\"], [1.0, \"#f0f921\"]], \"type\": \"histogram2dcontour\"}], \"mesh3d\": [{\"colorbar\": {\"outlinewidth\": 0, \"ticks\": \"\"}, \"type\": \"mesh3d\"}], \"parcoords\": [{\"line\": {\"colorbar\": {\"outlinewidth\": 0, \"ticks\": \"\"}}, \"type\": \"parcoords\"}], \"pie\": [{\"automargin\": true, \"type\": \"pie\"}], \"scatter\": [{\"marker\": {\"colorbar\": {\"outlinewidth\": 0, \"ticks\": \"\"}}, \"type\": \"scatter\"}], \"scatter3d\": [{\"line\": {\"colorbar\": {\"outlinewidth\": 0, \"ticks\": \"\"}}, \"marker\": {\"colorbar\": {\"outlinewidth\": 0, \"ticks\": \"\"}}, \"type\": \"scatter3d\"}], \"scattercarpet\": [{\"marker\": {\"colorbar\": {\"outlinewidth\": 0, \"ticks\": \"\"}}, \"type\": \"scattercarpet\"}], \"scattergeo\": [{\"marker\": {\"colorbar\": {\"outlinewidth\": 0, \"ticks\": \"\"}}, \"type\": \"scattergeo\"}], \"scattergl\": [{\"marker\": {\"colorbar\": {\"outlinewidth\": 0, \"ticks\": \"\"}}, \"type\": \"scattergl\"}], \"scattermapbox\": [{\"marker\": {\"colorbar\": {\"outlinewidth\": 0, \"ticks\": \"\"}}, \"type\": \"scattermapbox\"}], \"scatterpolar\": [{\"marker\": {\"colorbar\": {\"outlinewidth\": 0, \"ticks\": \"\"}}, \"type\": \"scatterpolar\"}], \"scatterpolargl\": [{\"marker\": {\"colorbar\": {\"outlinewidth\": 0, \"ticks\": \"\"}}, \"type\": \"scatterpolargl\"}], \"scatterternary\": [{\"marker\": {\"colorbar\": {\"outlinewidth\": 0, \"ticks\": \"\"}}, \"type\": \"scatterternary\"}], \"surface\": [{\"colorbar\": {\"outlinewidth\": 0, \"ticks\": \"\"}, \"colorscale\": [[0.0, \"#0d0887\"], [0.1111111111111111, \"#46039f\"], [0.2222222222222222, \"#7201a8\"], [0.3333333333333333, \"#9c179e\"], [0.4444444444444444, \"#bd3786\"], [0.5555555555555556, \"#d8576b\"], [0.6666666666666666, \"#ed7953\"], [0.7777777777777778, \"#fb9f3a\"], [0.8888888888888888, \"#fdca26\"], [1.0, \"#f0f921\"]], \"type\": \"surface\"}], \"table\": [{\"cells\": {\"fill\": {\"color\": \"#EBF0F8\"}, \"line\": {\"color\": \"white\"}}, \"header\": {\"fill\": {\"color\": \"#C8D4E3\"}, \"line\": {\"color\": \"white\"}}, \"type\": \"table\"}]}, \"layout\": {\"annotationdefaults\": {\"arrowcolor\": \"#2a3f5f\", \"arrowhead\": 0, \"arrowwidth\": 1}, \"coloraxis\": {\"colorbar\": {\"outlinewidth\": 0, \"ticks\": \"\"}}, \"colorscale\": {\"diverging\": [[0, \"#8e0152\"], [0.1, \"#c51b7d\"], [0.2, \"#de77ae\"], [0.3, \"#f1b6da\"], [0.4, \"#fde0ef\"], [0.5, \"#f7f7f7\"], [0.6, \"#e6f5d0\"], [0.7, \"#b8e186\"], [0.8, \"#7fbc41\"], [0.9, \"#4d9221\"], [1, \"#276419\"]], \"sequential\": [[0.0, \"#0d0887\"], [0.1111111111111111, \"#46039f\"], [0.2222222222222222, \"#7201a8\"], [0.3333333333333333, \"#9c179e\"], [0.4444444444444444, \"#bd3786\"], [0.5555555555555556, \"#d8576b\"], [0.6666666666666666, \"#ed7953\"], [0.7777777777777778, \"#fb9f3a\"], [0.8888888888888888, \"#fdca26\"], [1.0, \"#f0f921\"]], \"sequentialminus\": [[0.0, \"#0d0887\"], [0.1111111111111111, \"#46039f\"], [0.2222222222222222, \"#7201a8\"], [0.3333333333333333, \"#9c179e\"], [0.4444444444444444, \"#bd3786\"], [0.5555555555555556, \"#d8576b\"], [0.6666666666666666, \"#ed7953\"], [0.7777777777777778, \"#fb9f3a\"], [0.8888888888888888, \"#fdca26\"], [1.0, \"#f0f921\"]]}, \"colorway\": [\"#636efa\", \"#EF553B\", \"#00cc96\", \"#ab63fa\", \"#FFA15A\", \"#19d3f3\", \"#FF6692\", \"#B6E880\", \"#FF97FF\", \"#FECB52\"], \"font\": {\"color\": \"#2a3f5f\"}, \"geo\": {\"bgcolor\": \"white\", \"lakecolor\": \"white\", \"landcolor\": \"#E5ECF6\", \"showlakes\": true, \"showland\": true, \"subunitcolor\": \"white\"}, \"hoverlabel\": {\"align\": \"left\"}, \"hovermode\": \"closest\", \"mapbox\": {\"style\": \"light\"}, \"paper_bgcolor\": \"white\", \"plot_bgcolor\": \"#E5ECF6\", \"polar\": {\"angularaxis\": {\"gridcolor\": \"white\", \"linecolor\": \"white\", \"ticks\": \"\"}, \"bgcolor\": \"#E5ECF6\", \"radialaxis\": {\"gridcolor\": \"white\", \"linecolor\": \"white\", \"ticks\": \"\"}}, \"scene\": {\"xaxis\": {\"backgroundcolor\": \"#E5ECF6\", \"gridcolor\": \"white\", \"gridwidth\": 2, \"linecolor\": \"white\", \"showbackground\": true, \"ticks\": \"\", \"zerolinecolor\": \"white\"}, \"yaxis\": {\"backgroundcolor\": \"#E5ECF6\", \"gridcolor\": \"white\", \"gridwidth\": 2, \"linecolor\": \"white\", \"showbackground\": true, \"ticks\": \"\", \"zerolinecolor\": \"white\"}, \"zaxis\": {\"backgroundcolor\": \"#E5ECF6\", \"gridcolor\": \"white\", \"gridwidth\": 2, \"linecolor\": \"white\", \"showbackground\": true, \"ticks\": \"\", \"zerolinecolor\": \"white\"}}, \"shapedefaults\": {\"line\": {\"color\": \"#2a3f5f\"}}, \"ternary\": {\"aaxis\": {\"gridcolor\": \"white\", \"linecolor\": \"white\", \"ticks\": \"\"}, \"baxis\": {\"gridcolor\": \"white\", \"linecolor\": \"white\", \"ticks\": \"\"}, \"bgcolor\": \"#E5ECF6\", \"caxis\": {\"gridcolor\": \"white\", \"linecolor\": \"white\", \"ticks\": \"\"}}, \"title\": {\"x\": 0.05}, \"xaxis\": {\"automargin\": true, \"gridcolor\": \"white\", \"linecolor\": \"white\", \"ticks\": \"\", \"title\": {\"standoff\": 15}, \"zerolinecolor\": \"white\", \"zerolinewidth\": 2}, \"yaxis\": {\"automargin\": true, \"gridcolor\": \"white\", \"linecolor\": \"white\", \"ticks\": \"\", \"title\": {\"standoff\": 15}, \"zerolinecolor\": \"white\", \"zerolinewidth\": 2}}}, \"title\": {\"text\": \"years_of_experience vs yearly_brutto_salary_without_bonus_and_stocks for 2018, 2019,and 2019 dataset\"}, \"xaxis\": {\"ticklen\": 5, \"title\": {\"text\": \"years_of_experience\"}, \"zeroline\": false}},\n",
              "                        {\"responsive\": true}\n",
              "                    ).then(function(){\n",
              "                            \n",
              "var gd = document.getElementById('57b5cb97-a2f2-4d82-bcbf-31bff28a62a8');\n",
              "var x = new MutationObserver(function (mutations, observer) {{\n",
              "        var display = window.getComputedStyle(gd).display;\n",
              "        if (!display || display === 'none') {{\n",
              "            console.log([gd, 'removed!']);\n",
              "            Plotly.purge(gd);\n",
              "            observer.disconnect();\n",
              "        }}\n",
              "}});\n",
              "\n",
              "// Listen for the removal of the full notebook cells\n",
              "var notebookContainer = gd.closest('#notebook-container');\n",
              "if (notebookContainer) {{\n",
              "    x.observe(notebookContainer, {childList: true});\n",
              "}}\n",
              "\n",
              "// Listen for the clearing of the current output cell\n",
              "var outputEl = gd.closest('.output');\n",
              "if (outputEl) {{\n",
              "    x.observe(outputEl, {childList: true});\n",
              "}}\n",
              "\n",
              "                        })\n",
              "                };\n",
              "                \n",
              "            </script>\n",
              "        </div>\n",
              "</body>\n",
              "</html>"
            ]
          },
          "metadata": {
            "tags": []
          }
        }
      ]
    },
    {
      "cell_type": "code",
      "metadata": {
        "colab": {
          "base_uri": "https://localhost:8080/"
        },
        "id": "IyWRbdZtS9_V",
        "outputId": "53bce3d3-68a7-4e02-89d7-58ecfd48d367"
      },
      "source": [
        "#Create a bar chart to analyse the popularity of the main technology/ programming languages amongst the respondents in the year 2020. \n",
        "#Which technology is the most popular?\n",
        "data_20_clean[\"your_main_technology_/_programming_language\"].value_counts().sort_values(ascending=False).head()\n",
        "\n",
        "\n"
      ],
      "execution_count": null,
      "outputs": [
        {
          "output_type": "execute_result",
          "data": {
            "text/plain": [
              "Java          302\n",
              "Python        161\n",
              "PHP            55\n",
              "C++            38\n",
              "JavaScript     33\n",
              "Name: your_main_technology_/_programming_language, dtype: int64"
            ]
          },
          "metadata": {
            "tags": []
          },
          "execution_count": 565
        }
      ]
    },
    {
      "cell_type": "code",
      "metadata": {
        "colab": {
          "base_uri": "https://localhost:8080/",
          "height": 542
        },
        "id": "-B57hDi4VWyc",
        "outputId": "b799f30a-e924-4ccb-d4b7-2471ab0cb0d5"
      },
      "source": [
        "#plotting barchart for the 5 most popular languages\n",
        "barchart = px.bar(data_frame=data_20_clean,\n",
        "                  x=['Java', 'Python', 'PHP', 'C++', 'JavaScript'],\n",
        "                  y = data_20_clean[\"your_main_technology_/_programming_language\"].value_counts().sort_values(ascending=False).head())\n",
        "pio.show(barchart)"
      ],
      "execution_count": null,
      "outputs": [
        {
          "output_type": "display_data",
          "data": {
            "text/html": [
              "<html>\n",
              "<head><meta charset=\"utf-8\" /></head>\n",
              "<body>\n",
              "    <div>\n",
              "            <script src=\"https://cdnjs.cloudflare.com/ajax/libs/mathjax/2.7.5/MathJax.js?config=TeX-AMS-MML_SVG\"></script><script type=\"text/javascript\">if (window.MathJax) {MathJax.Hub.Config({SVG: {font: \"STIX-Web\"}});}</script>\n",
              "                <script type=\"text/javascript\">window.PlotlyConfig = {MathJaxConfig: 'local'};</script>\n",
              "        <script src=\"https://cdn.plot.ly/plotly-latest.min.js\"></script>    \n",
              "            <div id=\"f2c698cf-0375-4a0b-a86b-68c9e79be3c7\" class=\"plotly-graph-div\" style=\"height:525px; width:100%;\"></div>\n",
              "            <script type=\"text/javascript\">\n",
              "                \n",
              "                    window.PLOTLYENV=window.PLOTLYENV || {};\n",
              "                    \n",
              "                if (document.getElementById(\"f2c698cf-0375-4a0b-a86b-68c9e79be3c7\")) {\n",
              "                    Plotly.newPlot(\n",
              "                        'f2c698cf-0375-4a0b-a86b-68c9e79be3c7',\n",
              "                        [{\"alignmentgroup\": \"True\", \"hoverlabel\": {\"namelength\": 0}, \"hovertemplate\": \"x=%{x}<br>y=%{y}\", \"legendgroup\": \"\", \"marker\": {\"color\": \"#636efa\"}, \"name\": \"\", \"offsetgroup\": \"\", \"orientation\": \"v\", \"showlegend\": false, \"textposition\": \"auto\", \"type\": \"bar\", \"x\": [\"Java\", \"Python\", \"PHP\", \"C++\", \"JavaScript\"], \"xaxis\": \"x\", \"y\": [302, 161, 55, 38, 33], \"yaxis\": \"y\"}],\n",
              "                        {\"barmode\": \"relative\", \"legend\": {\"tracegroupgap\": 0}, \"margin\": {\"t\": 60}, \"template\": {\"data\": {\"bar\": [{\"error_x\": {\"color\": \"#2a3f5f\"}, \"error_y\": {\"color\": \"#2a3f5f\"}, \"marker\": {\"line\": {\"color\": \"#E5ECF6\", \"width\": 0.5}}, \"type\": \"bar\"}], \"barpolar\": [{\"marker\": {\"line\": {\"color\": \"#E5ECF6\", \"width\": 0.5}}, \"type\": \"barpolar\"}], \"carpet\": [{\"aaxis\": {\"endlinecolor\": \"#2a3f5f\", \"gridcolor\": \"white\", \"linecolor\": \"white\", \"minorgridcolor\": \"white\", \"startlinecolor\": \"#2a3f5f\"}, \"baxis\": {\"endlinecolor\": \"#2a3f5f\", \"gridcolor\": \"white\", \"linecolor\": \"white\", \"minorgridcolor\": \"white\", \"startlinecolor\": \"#2a3f5f\"}, \"type\": \"carpet\"}], \"choropleth\": [{\"colorbar\": {\"outlinewidth\": 0, \"ticks\": \"\"}, \"type\": \"choropleth\"}], \"contour\": [{\"colorbar\": {\"outlinewidth\": 0, \"ticks\": \"\"}, \"colorscale\": [[0.0, \"#0d0887\"], [0.1111111111111111, \"#46039f\"], [0.2222222222222222, \"#7201a8\"], [0.3333333333333333, \"#9c179e\"], [0.4444444444444444, \"#bd3786\"], [0.5555555555555556, \"#d8576b\"], [0.6666666666666666, \"#ed7953\"], [0.7777777777777778, \"#fb9f3a\"], [0.8888888888888888, \"#fdca26\"], [1.0, \"#f0f921\"]], \"type\": \"contour\"}], \"contourcarpet\": [{\"colorbar\": {\"outlinewidth\": 0, \"ticks\": \"\"}, \"type\": \"contourcarpet\"}], \"heatmap\": [{\"colorbar\": {\"outlinewidth\": 0, \"ticks\": \"\"}, \"colorscale\": [[0.0, \"#0d0887\"], [0.1111111111111111, \"#46039f\"], [0.2222222222222222, \"#7201a8\"], [0.3333333333333333, \"#9c179e\"], [0.4444444444444444, \"#bd3786\"], [0.5555555555555556, \"#d8576b\"], [0.6666666666666666, \"#ed7953\"], [0.7777777777777778, \"#fb9f3a\"], [0.8888888888888888, \"#fdca26\"], [1.0, \"#f0f921\"]], \"type\": \"heatmap\"}], \"heatmapgl\": [{\"colorbar\": {\"outlinewidth\": 0, \"ticks\": \"\"}, \"colorscale\": [[0.0, \"#0d0887\"], [0.1111111111111111, \"#46039f\"], [0.2222222222222222, \"#7201a8\"], [0.3333333333333333, \"#9c179e\"], [0.4444444444444444, \"#bd3786\"], [0.5555555555555556, \"#d8576b\"], [0.6666666666666666, \"#ed7953\"], [0.7777777777777778, \"#fb9f3a\"], [0.8888888888888888, \"#fdca26\"], [1.0, \"#f0f921\"]], \"type\": \"heatmapgl\"}], \"histogram\": [{\"marker\": {\"colorbar\": {\"outlinewidth\": 0, \"ticks\": \"\"}}, \"type\": \"histogram\"}], \"histogram2d\": [{\"colorbar\": {\"outlinewidth\": 0, \"ticks\": \"\"}, \"colorscale\": [[0.0, \"#0d0887\"], [0.1111111111111111, \"#46039f\"], [0.2222222222222222, \"#7201a8\"], [0.3333333333333333, \"#9c179e\"], [0.4444444444444444, \"#bd3786\"], [0.5555555555555556, \"#d8576b\"], [0.6666666666666666, \"#ed7953\"], [0.7777777777777778, \"#fb9f3a\"], [0.8888888888888888, \"#fdca26\"], [1.0, \"#f0f921\"]], \"type\": \"histogram2d\"}], \"histogram2dcontour\": [{\"colorbar\": {\"outlinewidth\": 0, \"ticks\": \"\"}, \"colorscale\": [[0.0, \"#0d0887\"], [0.1111111111111111, \"#46039f\"], [0.2222222222222222, \"#7201a8\"], [0.3333333333333333, \"#9c179e\"], [0.4444444444444444, \"#bd3786\"], [0.5555555555555556, \"#d8576b\"], [0.6666666666666666, \"#ed7953\"], [0.7777777777777778, \"#fb9f3a\"], [0.8888888888888888, \"#fdca26\"], [1.0, \"#f0f921\"]], \"type\": \"histogram2dcontour\"}], \"mesh3d\": [{\"colorbar\": {\"outlinewidth\": 0, \"ticks\": \"\"}, \"type\": \"mesh3d\"}], \"parcoords\": [{\"line\": {\"colorbar\": {\"outlinewidth\": 0, \"ticks\": \"\"}}, \"type\": \"parcoords\"}], \"pie\": [{\"automargin\": true, \"type\": \"pie\"}], \"scatter\": [{\"marker\": {\"colorbar\": {\"outlinewidth\": 0, \"ticks\": \"\"}}, \"type\": \"scatter\"}], \"scatter3d\": [{\"line\": {\"colorbar\": {\"outlinewidth\": 0, \"ticks\": \"\"}}, \"marker\": {\"colorbar\": {\"outlinewidth\": 0, \"ticks\": \"\"}}, \"type\": \"scatter3d\"}], \"scattercarpet\": [{\"marker\": {\"colorbar\": {\"outlinewidth\": 0, \"ticks\": \"\"}}, \"type\": \"scattercarpet\"}], \"scattergeo\": [{\"marker\": {\"colorbar\": {\"outlinewidth\": 0, \"ticks\": \"\"}}, \"type\": \"scattergeo\"}], \"scattergl\": [{\"marker\": {\"colorbar\": {\"outlinewidth\": 0, \"ticks\": \"\"}}, \"type\": \"scattergl\"}], \"scattermapbox\": [{\"marker\": {\"colorbar\": {\"outlinewidth\": 0, \"ticks\": \"\"}}, \"type\": \"scattermapbox\"}], \"scatterpolar\": [{\"marker\": {\"colorbar\": {\"outlinewidth\": 0, \"ticks\": \"\"}}, \"type\": \"scatterpolar\"}], \"scatterpolargl\": [{\"marker\": {\"colorbar\": {\"outlinewidth\": 0, \"ticks\": \"\"}}, \"type\": \"scatterpolargl\"}], \"scatterternary\": [{\"marker\": {\"colorbar\": {\"outlinewidth\": 0, \"ticks\": \"\"}}, \"type\": \"scatterternary\"}], \"surface\": [{\"colorbar\": {\"outlinewidth\": 0, \"ticks\": \"\"}, \"colorscale\": [[0.0, \"#0d0887\"], [0.1111111111111111, \"#46039f\"], [0.2222222222222222, \"#7201a8\"], [0.3333333333333333, \"#9c179e\"], [0.4444444444444444, \"#bd3786\"], [0.5555555555555556, \"#d8576b\"], [0.6666666666666666, \"#ed7953\"], [0.7777777777777778, \"#fb9f3a\"], [0.8888888888888888, \"#fdca26\"], [1.0, \"#f0f921\"]], \"type\": \"surface\"}], \"table\": [{\"cells\": {\"fill\": {\"color\": \"#EBF0F8\"}, \"line\": {\"color\": \"white\"}}, \"header\": {\"fill\": {\"color\": \"#C8D4E3\"}, \"line\": {\"color\": \"white\"}}, \"type\": \"table\"}]}, \"layout\": {\"annotationdefaults\": {\"arrowcolor\": \"#2a3f5f\", \"arrowhead\": 0, \"arrowwidth\": 1}, \"coloraxis\": {\"colorbar\": {\"outlinewidth\": 0, \"ticks\": \"\"}}, \"colorscale\": {\"diverging\": [[0, \"#8e0152\"], [0.1, \"#c51b7d\"], [0.2, \"#de77ae\"], [0.3, \"#f1b6da\"], [0.4, \"#fde0ef\"], [0.5, \"#f7f7f7\"], [0.6, \"#e6f5d0\"], [0.7, \"#b8e186\"], [0.8, \"#7fbc41\"], [0.9, \"#4d9221\"], [1, \"#276419\"]], \"sequential\": [[0.0, \"#0d0887\"], [0.1111111111111111, \"#46039f\"], [0.2222222222222222, \"#7201a8\"], [0.3333333333333333, \"#9c179e\"], [0.4444444444444444, \"#bd3786\"], [0.5555555555555556, \"#d8576b\"], [0.6666666666666666, \"#ed7953\"], [0.7777777777777778, \"#fb9f3a\"], [0.8888888888888888, \"#fdca26\"], [1.0, \"#f0f921\"]], \"sequentialminus\": [[0.0, \"#0d0887\"], [0.1111111111111111, \"#46039f\"], [0.2222222222222222, \"#7201a8\"], [0.3333333333333333, \"#9c179e\"], [0.4444444444444444, \"#bd3786\"], [0.5555555555555556, \"#d8576b\"], [0.6666666666666666, \"#ed7953\"], [0.7777777777777778, \"#fb9f3a\"], [0.8888888888888888, \"#fdca26\"], [1.0, \"#f0f921\"]]}, \"colorway\": [\"#636efa\", \"#EF553B\", \"#00cc96\", \"#ab63fa\", \"#FFA15A\", \"#19d3f3\", \"#FF6692\", \"#B6E880\", \"#FF97FF\", \"#FECB52\"], \"font\": {\"color\": \"#2a3f5f\"}, \"geo\": {\"bgcolor\": \"white\", \"lakecolor\": \"white\", \"landcolor\": \"#E5ECF6\", \"showlakes\": true, \"showland\": true, \"subunitcolor\": \"white\"}, \"hoverlabel\": {\"align\": \"left\"}, \"hovermode\": \"closest\", \"mapbox\": {\"style\": \"light\"}, \"paper_bgcolor\": \"white\", \"plot_bgcolor\": \"#E5ECF6\", \"polar\": {\"angularaxis\": {\"gridcolor\": \"white\", \"linecolor\": \"white\", \"ticks\": \"\"}, \"bgcolor\": \"#E5ECF6\", \"radialaxis\": {\"gridcolor\": \"white\", \"linecolor\": \"white\", \"ticks\": \"\"}}, \"scene\": {\"xaxis\": {\"backgroundcolor\": \"#E5ECF6\", \"gridcolor\": \"white\", \"gridwidth\": 2, \"linecolor\": \"white\", \"showbackground\": true, \"ticks\": \"\", \"zerolinecolor\": \"white\"}, \"yaxis\": {\"backgroundcolor\": \"#E5ECF6\", \"gridcolor\": \"white\", \"gridwidth\": 2, \"linecolor\": \"white\", \"showbackground\": true, \"ticks\": \"\", \"zerolinecolor\": \"white\"}, \"zaxis\": {\"backgroundcolor\": \"#E5ECF6\", \"gridcolor\": \"white\", \"gridwidth\": 2, \"linecolor\": \"white\", \"showbackground\": true, \"ticks\": \"\", \"zerolinecolor\": \"white\"}}, \"shapedefaults\": {\"line\": {\"color\": \"#2a3f5f\"}}, \"ternary\": {\"aaxis\": {\"gridcolor\": \"white\", \"linecolor\": \"white\", \"ticks\": \"\"}, \"baxis\": {\"gridcolor\": \"white\", \"linecolor\": \"white\", \"ticks\": \"\"}, \"bgcolor\": \"#E5ECF6\", \"caxis\": {\"gridcolor\": \"white\", \"linecolor\": \"white\", \"ticks\": \"\"}}, \"title\": {\"x\": 0.05}, \"xaxis\": {\"automargin\": true, \"gridcolor\": \"white\", \"linecolor\": \"white\", \"ticks\": \"\", \"title\": {\"standoff\": 15}, \"zerolinecolor\": \"white\", \"zerolinewidth\": 2}, \"yaxis\": {\"automargin\": true, \"gridcolor\": \"white\", \"linecolor\": \"white\", \"ticks\": \"\", \"title\": {\"standoff\": 15}, \"zerolinecolor\": \"white\", \"zerolinewidth\": 2}}}, \"xaxis\": {\"anchor\": \"y\", \"domain\": [0.0, 1.0], \"title\": {\"text\": \"x\"}}, \"yaxis\": {\"anchor\": \"x\", \"domain\": [0.0, 1.0], \"title\": {\"text\": \"y\"}}},\n",
              "                        {\"responsive\": true}\n",
              "                    ).then(function(){\n",
              "                            \n",
              "var gd = document.getElementById('f2c698cf-0375-4a0b-a86b-68c9e79be3c7');\n",
              "var x = new MutationObserver(function (mutations, observer) {{\n",
              "        var display = window.getComputedStyle(gd).display;\n",
              "        if (!display || display === 'none') {{\n",
              "            console.log([gd, 'removed!']);\n",
              "            Plotly.purge(gd);\n",
              "            observer.disconnect();\n",
              "        }}\n",
              "}});\n",
              "\n",
              "// Listen for the removal of the full notebook cells\n",
              "var notebookContainer = gd.closest('#notebook-container');\n",
              "if (notebookContainer) {{\n",
              "    x.observe(notebookContainer, {childList: true});\n",
              "}}\n",
              "\n",
              "// Listen for the clearing of the current output cell\n",
              "var outputEl = gd.closest('.output');\n",
              "if (outputEl) {{\n",
              "    x.observe(outputEl, {childList: true});\n",
              "}}\n",
              "\n",
              "                        })\n",
              "                };\n",
              "                \n",
              "            </script>\n",
              "        </div>\n",
              "</body>\n",
              "</html>"
            ]
          },
          "metadata": {
            "tags": []
          }
        }
      ]
    },
    {
      "cell_type": "markdown",
      "metadata": {
        "id": "OLaO2P3cZV_J"
      },
      "source": [
        "**observation**: these are the 5 most popular languages."
      ]
    },
    {
      "cell_type": "code",
      "metadata": {
        "colab": {
          "base_uri": "https://localhost:8080/",
          "height": 542
        },
        "id": "vPWhbkP0W06E",
        "outputId": "07cdd789-6ce1-4777-df07-47f200fdcc31"
      },
      "source": [
        "#plotting barchart for the 5 most popular languages\n",
        "barchart = px.bar(data_frame=data_20_clean,\n",
        "                  x=['Java', 'Python', 'PHP', 'C++', 'JavaScript'],\n",
        "                  y = data_20_clean[\"your_main_technology_/_programming_language\"].value_counts().sort_values(ascending=False).tail())\n",
        "pio.show(barchart)"
      ],
      "execution_count": null,
      "outputs": [
        {
          "output_type": "display_data",
          "data": {
            "text/html": [
              "<html>\n",
              "<head><meta charset=\"utf-8\" /></head>\n",
              "<body>\n",
              "    <div>\n",
              "            <script src=\"https://cdnjs.cloudflare.com/ajax/libs/mathjax/2.7.5/MathJax.js?config=TeX-AMS-MML_SVG\"></script><script type=\"text/javascript\">if (window.MathJax) {MathJax.Hub.Config({SVG: {font: \"STIX-Web\"}});}</script>\n",
              "                <script type=\"text/javascript\">window.PlotlyConfig = {MathJaxConfig: 'local'};</script>\n",
              "        <script src=\"https://cdn.plot.ly/plotly-latest.min.js\"></script>    \n",
              "            <div id=\"06ba0aac-5d46-4d50-9b88-1e406e3027b3\" class=\"plotly-graph-div\" style=\"height:525px; width:100%;\"></div>\n",
              "            <script type=\"text/javascript\">\n",
              "                \n",
              "                    window.PLOTLYENV=window.PLOTLYENV || {};\n",
              "                    \n",
              "                if (document.getElementById(\"06ba0aac-5d46-4d50-9b88-1e406e3027b3\")) {\n",
              "                    Plotly.newPlot(\n",
              "                        '06ba0aac-5d46-4d50-9b88-1e406e3027b3',\n",
              "                        [{\"alignmentgroup\": \"True\", \"hoverlabel\": {\"namelength\": 0}, \"hovertemplate\": \"x=%{x}<br>y=%{y}\", \"legendgroup\": \"\", \"marker\": {\"color\": \"#636efa\"}, \"name\": \"\", \"offsetgroup\": \"\", \"orientation\": \"v\", \"showlegend\": false, \"textposition\": \"auto\", \"type\": \"bar\", \"x\": [\"Java\", \"Python\", \"PHP\", \"C++\", \"JavaScript\"], \"xaxis\": \"x\", \"y\": [1, 1, 1, 1, 1], \"yaxis\": \"y\"}],\n",
              "                        {\"barmode\": \"relative\", \"legend\": {\"tracegroupgap\": 0}, \"margin\": {\"t\": 60}, \"template\": {\"data\": {\"bar\": [{\"error_x\": {\"color\": \"#2a3f5f\"}, \"error_y\": {\"color\": \"#2a3f5f\"}, \"marker\": {\"line\": {\"color\": \"#E5ECF6\", \"width\": 0.5}}, \"type\": \"bar\"}], \"barpolar\": [{\"marker\": {\"line\": {\"color\": \"#E5ECF6\", \"width\": 0.5}}, \"type\": \"barpolar\"}], \"carpet\": [{\"aaxis\": {\"endlinecolor\": \"#2a3f5f\", \"gridcolor\": \"white\", \"linecolor\": \"white\", \"minorgridcolor\": \"white\", \"startlinecolor\": \"#2a3f5f\"}, \"baxis\": {\"endlinecolor\": \"#2a3f5f\", \"gridcolor\": \"white\", \"linecolor\": \"white\", \"minorgridcolor\": \"white\", \"startlinecolor\": \"#2a3f5f\"}, \"type\": \"carpet\"}], \"choropleth\": [{\"colorbar\": {\"outlinewidth\": 0, \"ticks\": \"\"}, \"type\": \"choropleth\"}], \"contour\": [{\"colorbar\": {\"outlinewidth\": 0, \"ticks\": \"\"}, \"colorscale\": [[0.0, \"#0d0887\"], [0.1111111111111111, \"#46039f\"], [0.2222222222222222, \"#7201a8\"], [0.3333333333333333, \"#9c179e\"], [0.4444444444444444, \"#bd3786\"], [0.5555555555555556, \"#d8576b\"], [0.6666666666666666, \"#ed7953\"], [0.7777777777777778, \"#fb9f3a\"], [0.8888888888888888, \"#fdca26\"], [1.0, \"#f0f921\"]], \"type\": \"contour\"}], \"contourcarpet\": [{\"colorbar\": {\"outlinewidth\": 0, \"ticks\": \"\"}, \"type\": \"contourcarpet\"}], \"heatmap\": [{\"colorbar\": {\"outlinewidth\": 0, \"ticks\": \"\"}, \"colorscale\": [[0.0, \"#0d0887\"], [0.1111111111111111, \"#46039f\"], [0.2222222222222222, \"#7201a8\"], [0.3333333333333333, \"#9c179e\"], [0.4444444444444444, \"#bd3786\"], [0.5555555555555556, \"#d8576b\"], [0.6666666666666666, \"#ed7953\"], [0.7777777777777778, \"#fb9f3a\"], [0.8888888888888888, \"#fdca26\"], [1.0, \"#f0f921\"]], \"type\": \"heatmap\"}], \"heatmapgl\": [{\"colorbar\": {\"outlinewidth\": 0, \"ticks\": \"\"}, \"colorscale\": [[0.0, \"#0d0887\"], [0.1111111111111111, \"#46039f\"], [0.2222222222222222, \"#7201a8\"], [0.3333333333333333, \"#9c179e\"], [0.4444444444444444, \"#bd3786\"], [0.5555555555555556, \"#d8576b\"], [0.6666666666666666, \"#ed7953\"], [0.7777777777777778, \"#fb9f3a\"], [0.8888888888888888, \"#fdca26\"], [1.0, \"#f0f921\"]], \"type\": \"heatmapgl\"}], \"histogram\": [{\"marker\": {\"colorbar\": {\"outlinewidth\": 0, \"ticks\": \"\"}}, \"type\": \"histogram\"}], \"histogram2d\": [{\"colorbar\": {\"outlinewidth\": 0, \"ticks\": \"\"}, \"colorscale\": [[0.0, \"#0d0887\"], [0.1111111111111111, \"#46039f\"], [0.2222222222222222, \"#7201a8\"], [0.3333333333333333, \"#9c179e\"], [0.4444444444444444, \"#bd3786\"], [0.5555555555555556, \"#d8576b\"], [0.6666666666666666, \"#ed7953\"], [0.7777777777777778, \"#fb9f3a\"], [0.8888888888888888, \"#fdca26\"], [1.0, \"#f0f921\"]], \"type\": \"histogram2d\"}], \"histogram2dcontour\": [{\"colorbar\": {\"outlinewidth\": 0, \"ticks\": \"\"}, \"colorscale\": [[0.0, \"#0d0887\"], [0.1111111111111111, \"#46039f\"], [0.2222222222222222, \"#7201a8\"], [0.3333333333333333, \"#9c179e\"], [0.4444444444444444, \"#bd3786\"], [0.5555555555555556, \"#d8576b\"], [0.6666666666666666, \"#ed7953\"], [0.7777777777777778, \"#fb9f3a\"], [0.8888888888888888, \"#fdca26\"], [1.0, \"#f0f921\"]], \"type\": \"histogram2dcontour\"}], \"mesh3d\": [{\"colorbar\": {\"outlinewidth\": 0, \"ticks\": \"\"}, \"type\": \"mesh3d\"}], \"parcoords\": [{\"line\": {\"colorbar\": {\"outlinewidth\": 0, \"ticks\": \"\"}}, \"type\": \"parcoords\"}], \"pie\": [{\"automargin\": true, \"type\": \"pie\"}], \"scatter\": [{\"marker\": {\"colorbar\": {\"outlinewidth\": 0, \"ticks\": \"\"}}, \"type\": \"scatter\"}], \"scatter3d\": [{\"line\": {\"colorbar\": {\"outlinewidth\": 0, \"ticks\": \"\"}}, \"marker\": {\"colorbar\": {\"outlinewidth\": 0, \"ticks\": \"\"}}, \"type\": \"scatter3d\"}], \"scattercarpet\": [{\"marker\": {\"colorbar\": {\"outlinewidth\": 0, \"ticks\": \"\"}}, \"type\": \"scattercarpet\"}], \"scattergeo\": [{\"marker\": {\"colorbar\": {\"outlinewidth\": 0, \"ticks\": \"\"}}, \"type\": \"scattergeo\"}], \"scattergl\": [{\"marker\": {\"colorbar\": {\"outlinewidth\": 0, \"ticks\": \"\"}}, \"type\": \"scattergl\"}], \"scattermapbox\": [{\"marker\": {\"colorbar\": {\"outlinewidth\": 0, \"ticks\": \"\"}}, \"type\": \"scattermapbox\"}], \"scatterpolar\": [{\"marker\": {\"colorbar\": {\"outlinewidth\": 0, \"ticks\": \"\"}}, \"type\": \"scatterpolar\"}], \"scatterpolargl\": [{\"marker\": {\"colorbar\": {\"outlinewidth\": 0, \"ticks\": \"\"}}, \"type\": \"scatterpolargl\"}], \"scatterternary\": [{\"marker\": {\"colorbar\": {\"outlinewidth\": 0, \"ticks\": \"\"}}, \"type\": \"scatterternary\"}], \"surface\": [{\"colorbar\": {\"outlinewidth\": 0, \"ticks\": \"\"}, \"colorscale\": [[0.0, \"#0d0887\"], [0.1111111111111111, \"#46039f\"], [0.2222222222222222, \"#7201a8\"], [0.3333333333333333, \"#9c179e\"], [0.4444444444444444, \"#bd3786\"], [0.5555555555555556, \"#d8576b\"], [0.6666666666666666, \"#ed7953\"], [0.7777777777777778, \"#fb9f3a\"], [0.8888888888888888, \"#fdca26\"], [1.0, \"#f0f921\"]], \"type\": \"surface\"}], \"table\": [{\"cells\": {\"fill\": {\"color\": \"#EBF0F8\"}, \"line\": {\"color\": \"white\"}}, \"header\": {\"fill\": {\"color\": \"#C8D4E3\"}, \"line\": {\"color\": \"white\"}}, \"type\": \"table\"}]}, \"layout\": {\"annotationdefaults\": {\"arrowcolor\": \"#2a3f5f\", \"arrowhead\": 0, \"arrowwidth\": 1}, \"coloraxis\": {\"colorbar\": {\"outlinewidth\": 0, \"ticks\": \"\"}}, \"colorscale\": {\"diverging\": [[0, \"#8e0152\"], [0.1, \"#c51b7d\"], [0.2, \"#de77ae\"], [0.3, \"#f1b6da\"], [0.4, \"#fde0ef\"], [0.5, \"#f7f7f7\"], [0.6, \"#e6f5d0\"], [0.7, \"#b8e186\"], [0.8, \"#7fbc41\"], [0.9, \"#4d9221\"], [1, \"#276419\"]], \"sequential\": [[0.0, \"#0d0887\"], [0.1111111111111111, \"#46039f\"], [0.2222222222222222, \"#7201a8\"], [0.3333333333333333, \"#9c179e\"], [0.4444444444444444, \"#bd3786\"], [0.5555555555555556, \"#d8576b\"], [0.6666666666666666, \"#ed7953\"], [0.7777777777777778, \"#fb9f3a\"], [0.8888888888888888, \"#fdca26\"], [1.0, \"#f0f921\"]], \"sequentialminus\": [[0.0, \"#0d0887\"], [0.1111111111111111, \"#46039f\"], [0.2222222222222222, \"#7201a8\"], [0.3333333333333333, \"#9c179e\"], [0.4444444444444444, \"#bd3786\"], [0.5555555555555556, \"#d8576b\"], [0.6666666666666666, \"#ed7953\"], [0.7777777777777778, \"#fb9f3a\"], [0.8888888888888888, \"#fdca26\"], [1.0, \"#f0f921\"]]}, \"colorway\": [\"#636efa\", \"#EF553B\", \"#00cc96\", \"#ab63fa\", \"#FFA15A\", \"#19d3f3\", \"#FF6692\", \"#B6E880\", \"#FF97FF\", \"#FECB52\"], \"font\": {\"color\": \"#2a3f5f\"}, \"geo\": {\"bgcolor\": \"white\", \"lakecolor\": \"white\", \"landcolor\": \"#E5ECF6\", \"showlakes\": true, \"showland\": true, \"subunitcolor\": \"white\"}, \"hoverlabel\": {\"align\": \"left\"}, \"hovermode\": \"closest\", \"mapbox\": {\"style\": \"light\"}, \"paper_bgcolor\": \"white\", \"plot_bgcolor\": \"#E5ECF6\", \"polar\": {\"angularaxis\": {\"gridcolor\": \"white\", \"linecolor\": \"white\", \"ticks\": \"\"}, \"bgcolor\": \"#E5ECF6\", \"radialaxis\": {\"gridcolor\": \"white\", \"linecolor\": \"white\", \"ticks\": \"\"}}, \"scene\": {\"xaxis\": {\"backgroundcolor\": \"#E5ECF6\", \"gridcolor\": \"white\", \"gridwidth\": 2, \"linecolor\": \"white\", \"showbackground\": true, \"ticks\": \"\", \"zerolinecolor\": \"white\"}, \"yaxis\": {\"backgroundcolor\": \"#E5ECF6\", \"gridcolor\": \"white\", \"gridwidth\": 2, \"linecolor\": \"white\", \"showbackground\": true, \"ticks\": \"\", \"zerolinecolor\": \"white\"}, \"zaxis\": {\"backgroundcolor\": \"#E5ECF6\", \"gridcolor\": \"white\", \"gridwidth\": 2, \"linecolor\": \"white\", \"showbackground\": true, \"ticks\": \"\", \"zerolinecolor\": \"white\"}}, \"shapedefaults\": {\"line\": {\"color\": \"#2a3f5f\"}}, \"ternary\": {\"aaxis\": {\"gridcolor\": \"white\", \"linecolor\": \"white\", \"ticks\": \"\"}, \"baxis\": {\"gridcolor\": \"white\", \"linecolor\": \"white\", \"ticks\": \"\"}, \"bgcolor\": \"#E5ECF6\", \"caxis\": {\"gridcolor\": \"white\", \"linecolor\": \"white\", \"ticks\": \"\"}}, \"title\": {\"x\": 0.05}, \"xaxis\": {\"automargin\": true, \"gridcolor\": \"white\", \"linecolor\": \"white\", \"ticks\": \"\", \"title\": {\"standoff\": 15}, \"zerolinecolor\": \"white\", \"zerolinewidth\": 2}, \"yaxis\": {\"automargin\": true, \"gridcolor\": \"white\", \"linecolor\": \"white\", \"ticks\": \"\", \"title\": {\"standoff\": 15}, \"zerolinecolor\": \"white\", \"zerolinewidth\": 2}}}, \"xaxis\": {\"anchor\": \"y\", \"domain\": [0.0, 1.0], \"title\": {\"text\": \"x\"}}, \"yaxis\": {\"anchor\": \"x\", \"domain\": [0.0, 1.0], \"title\": {\"text\": \"y\"}}},\n",
              "                        {\"responsive\": true}\n",
              "                    ).then(function(){\n",
              "                            \n",
              "var gd = document.getElementById('06ba0aac-5d46-4d50-9b88-1e406e3027b3');\n",
              "var x = new MutationObserver(function (mutations, observer) {{\n",
              "        var display = window.getComputedStyle(gd).display;\n",
              "        if (!display || display === 'none') {{\n",
              "            console.log([gd, 'removed!']);\n",
              "            Plotly.purge(gd);\n",
              "            observer.disconnect();\n",
              "        }}\n",
              "}});\n",
              "\n",
              "// Listen for the removal of the full notebook cells\n",
              "var notebookContainer = gd.closest('#notebook-container');\n",
              "if (notebookContainer) {{\n",
              "    x.observe(notebookContainer, {childList: true});\n",
              "}}\n",
              "\n",
              "// Listen for the clearing of the current output cell\n",
              "var outputEl = gd.closest('.output');\n",
              "if (outputEl) {{\n",
              "    x.observe(outputEl, {childList: true});\n",
              "}}\n",
              "\n",
              "                        })\n",
              "                };\n",
              "                \n",
              "            </script>\n",
              "        </div>\n",
              "</body>\n",
              "</html>"
            ]
          },
          "metadata": {
            "tags": []
          }
        }
      ]
    },
    {
      "cell_type": "markdown",
      "metadata": {
        "id": "b4jIZgZ1ZoSz"
      },
      "source": [
        "**observation**: these are the least popular languages. "
      ]
    },
    {
      "cell_type": "code",
      "metadata": {
        "colab": {
          "base_uri": "https://localhost:8080/",
          "height": 542
        },
        "id": "L4uR_y3STl7b",
        "outputId": "4d2ebe33-8a00-4dbd-b502-c7573e82b96b"
      },
      "source": [
        "#Create a pie plot indicating the gender ratio of the respondents in the year 2020\n",
        "#\n",
        "fig = px.pie(data_20_clean, values= None, names ='gender', hole=0.2)\n",
        "fig.update_traces(textinfo=\"label+percent\", insidetextfont= dict(color=\"white\"))\n",
        "fig.update_layout(legend = {\"itemclick\": False})\n",
        "fig.show()"
      ],
      "execution_count": null,
      "outputs": [
        {
          "output_type": "display_data",
          "data": {
            "text/html": [
              "<html>\n",
              "<head><meta charset=\"utf-8\" /></head>\n",
              "<body>\n",
              "    <div>\n",
              "            <script src=\"https://cdnjs.cloudflare.com/ajax/libs/mathjax/2.7.5/MathJax.js?config=TeX-AMS-MML_SVG\"></script><script type=\"text/javascript\">if (window.MathJax) {MathJax.Hub.Config({SVG: {font: \"STIX-Web\"}});}</script>\n",
              "                <script type=\"text/javascript\">window.PlotlyConfig = {MathJaxConfig: 'local'};</script>\n",
              "        <script src=\"https://cdn.plot.ly/plotly-latest.min.js\"></script>    \n",
              "            <div id=\"b0e99e55-635b-40e0-8251-febb97b29828\" class=\"plotly-graph-div\" style=\"height:525px; width:100%;\"></div>\n",
              "            <script type=\"text/javascript\">\n",
              "                \n",
              "                    window.PLOTLYENV=window.PLOTLYENV || {};\n",
              "                    \n",
              "                if (document.getElementById(\"b0e99e55-635b-40e0-8251-febb97b29828\")) {\n",
              "                    Plotly.newPlot(\n",
              "                        'b0e99e55-635b-40e0-8251-febb97b29828',\n",
              "                        [{\"domain\": {\"x\": [0.0, 1.0], \"y\": [0.0, 1.0]}, \"hole\": 0.2, \"hoverlabel\": {\"namelength\": 0}, \"hovertemplate\": \"gender=%{label}\", \"insidetextfont\": {\"color\": \"white\"}, \"labels\": [\"Male\", \"Male\", \"Male\", \"Male\", \"Male\", \"Male\", \"Male\", \"Male\", \"Male\", \"Male\", \"Female\", \"Male\", \"Male\", \"Male\", \"Male\", \"Male\", \"Male\", \"Male\", \"Male\", \"Male\", \"Male\", \"Male\", \"Male\", \"Male\", \"Male\", \"Male\", \"Male\", \"Male\", \"Male\", \"Male\", \"Male\", \"Male\", \"Female\", \"Male\", \"Male\", \"Male\", \"Female\", \"Male\", \"Male\", \"Male\", \"Male\", \"Male\", \"Male\", \"Female\", \"Male\", \"Male\", \"Female\", \"Male\", \"Female\", \"Male\", \"Male\", \"Female\", \"Male\", \"Male\", \"Male\", \"Male\", \"Male\", \"Male\", \"Male\", \"Female\", \"Male\", \"Male\", \"Male\", \"Male\", \"Male\", \"Male\", \"Male\", \"Male\", \"Male\", \"Male\", \"Male\", \"Male\", \"Male\", \"Male\", \"Male\", \"Male\", \"Male\", \"Male\", \"Female\", \"Male\", \"Female\", \"Male\", \"Male\", \"Male\", \"Male\", \"Male\", \"Female\", \"Male\", \"Male\", \"Male\", \"Male\", \"Female\", \"Female\", \"Female\", \"Male\", \"Male\", \"Female\", \"Male\", \"Male\", \"Male\", \"Male\", \"Female\", \"Male\", \"Male\", \"Male\", \"Male\", \"Male\", \"Male\", \"Male\", \"Male\", \"Male\", \"Male\", \"Male\", \"Male\", \"Male\", \"Female\", \"Female\", \"Male\", \"Male\", \"Male\", \"Female\", \"Male\", \"Female\", \"Male\", \"Male\", \"Male\", \"Male\", \"Male\", \"Male\", \"Male\", \"Male\", \"Male\", \"Male\", \"Male\", \"Male\", \"Male\", \"Male\", \"Male\", \"Male\", \"Male\", \"Male\", \"Male\", \"Male\", \"Male\", \"Male\", \"Male\", \"Female\", \"Male\", \"Male\", \"Male\", \"Female\", \"Male\", \"Female\", \"Female\", \"Male\", \"Male\", \"Male\", \"Male\", \"Male\", \"Male\", \"Female\", \"Male\", \"Male\", \"Male\", \"Female\", \"Male\", \"Male\", \"Male\", \"Male\", \"Male\", \"Male\", \"Male\", \"Male\", \"Male\", \"Male\", \"Male\", \"Male\", \"Male\", \"Female\", \"Male\", \"Male\", \"Male\", \"Male\", \"Male\", \"Male\", \"Male\", \"Male\", \"Male\", \"Male\", \"Male\", \"Female\", \"Male\", \"Male\", \"Male\", \"Male\", \"Male\", \"Male\", \"Female\", \"Male\", \"Male\", \"Male\", \"Male\", \"Male\", \"Female\", \"Female\", \"Male\", \"Male\", \"Male\", \"Male\", \"Female\", \"Male\", \"Male\", \"Male\", \"Male\", \"Male\", \"Female\", \"Male\", \"Male\", \"Male\", \"Male\", \"Male\", \"Male\", \"Male\", \"Male\", \"Male\", \"Male\", \"Male\", \"Male\", \"Male\", \"Female\", \"Male\", \"Male\", \"Male\", \"Male\", \"Male\", \"Male\", \"Male\", \"Female\", \"Female\", \"Male\", \"Female\", \"Male\", \"Male\", \"Female\", \"Male\", \"Male\", \"Male\", \"Male\", \"Male\", \"Male\", \"Male\", \"Male\", \"Female\", \"Male\", \"Male\", \"Male\", \"Male\", \"Male\", \"Male\", \"Male\", \"Male\", \"Male\", \"Male\", \"Male\", \"Male\", \"Male\", \"Female\", \"Male\", \"Male\", \"Male\", \"Male\", \"Male\", \"Female\", \"Male\", \"Male\", \"Male\", \"Male\", \"Male\", \"Male\", \"Male\", \"Female\", \"Male\", \"Male\", \"Female\", \"Male\", \"Male\", \"Male\", \"Male\", \"Male\", \"Male\", \"Male\", \"Male\", \"Male\", \"Male\", \"Male\", \"Male\", \"Male\", \"Male\", \"Male\", \"Male\", \"Male\", \"Male\", \"Male\", \"Female\", \"Male\", \"Male\", \"Male\", \"Male\", \"Female\", \"Male\", \"Male\", \"Female\", \"Male\", \"Male\", \"Male\", \"Male\", \"Diverse\", \"Male\", \"Male\", \"Male\", \"Male\", \"Female\", \"Male\", \"Male\", \"Male\", \"Male\", \"Male\", \"Male\", \"Male\", \"Male\", \"Male\", \"Male\", \"Male\", \"Male\", \"Male\", \"Male\", \"Male\", \"Male\", \"Male\", \"Male\", \"Male\", \"Male\", \"Male\", \"Male\", \"Male\", \"Male\", \"Male\", \"Male\", \"Male\", \"Male\", \"Male\", \"Male\", \"Male\", \"Female\", \"Male\", \"Male\", \"Male\", \"Male\", \"Male\", \"Male\", \"Male\", \"Male\", \"Male\", \"Male\", \"Male\", \"Male\", \"Male\", \"Male\", \"Female\", \"Male\", \"Female\", \"Male\", \"Male\", \"Male\", \"Male\", \"Male\", \"Male\", \"Male\", \"Male\", \"Male\", \"Male\", \"Male\", \"Male\", \"Male\", \"Male\", \"Male\", \"Male\", \"Male\", \"Male\", \"Male\", \"Male\", \"Male\", \"Male\", \"Male\", \"Male\", \"Female\", \"Male\", \"Male\", \"Male\", \"Female\", \"Male\", \"Female\", \"Male\", \"Male\", \"Male\", \"Male\", \"Male\", \"Male\", \"Male\", \"Female\", \"Male\", \"Male\", \"Male\", \"Male\", \"Male\", \"Male\", \"Female\", \"Female\", \"Male\", \"Male\", \"Male\", \"Male\", \"Male\", \"Female\", \"Female\", \"Female\", \"Male\", \"Female\", \"Male\", \"Male\", \"Male\", \"Male\", \"Male\", \"Male\", \"Male\", \"Male\", \"Male\", \"Male\", \"Male\", \"Male\", \"Male\", \"Male\", \"Male\", \"Female\", \"Male\", \"Female\", \"Male\", \"Male\", \"Female\", \"Female\", \"Male\", \"Male\", \"Male\", \"Male\", \"Male\", \"Male\", \"Male\", \"Male\", \"Female\", \"Male\", \"Female\", \"Male\", \"Male\", \"Male\", \"Male\", \"Female\", \"Male\", \"Male\", \"Male\", \"Female\", \"Male\", \"Male\", \"Male\", \"Male\", \"Male\", \"Female\", \"Male\", \"Male\", \"Male\", \"Male\", \"Male\", \"Male\", \"Male\", \"Female\", \"Male\", \"Male\", \"Male\", \"Male\", \"Male\", \"Male\", \"Male\", \"Male\", \"Male\", \"Male\", \"Male\", \"Male\", \"Male\", \"Female\", \"Male\", \"Male\", \"Male\", \"Male\", \"Male\", \"Male\", \"Male\", \"Male\", \"Female\", \"Female\", \"Male\", \"Male\", \"Male\", \"Female\", \"Male\", \"Male\", \"Male\", \"Male\", \"Male\", \"Male\", \"Male\", \"Male\", \"Female\", \"Female\", \"Male\", \"Male\", \"Female\", \"Male\", \"Male\", \"Male\", \"Male\", \"Male\", \"Male\", \"Male\", \"Male\", \"Male\", \"Male\", \"Male\", \"Male\", \"Male\", \"Male\", \"Male\", \"Male\", \"Male\", \"Male\", \"Male\", \"Male\", \"Male\", \"Male\", \"Male\", \"Male\", \"Male\", \"Male\", \"Male\", \"Male\", \"Male\", \"Male\", \"Male\", \"Male\", \"Male\", \"Male\", \"Male\", \"Female\", \"Male\", \"Male\", \"Male\", \"Male\", \"Male\", \"Male\", \"Female\", \"Male\", \"Male\", \"Male\", \"Male\", \"Male\", \"Male\", \"Male\", \"Female\", \"Male\", \"Female\", \"Male\", \"Male\", \"Female\", \"Male\", \"Male\", \"Male\", \"Male\", \"Female\", \"Male\", \"Female\", \"Male\", \"Male\", \"Male\", \"Male\", \"Male\", \"Male\", \"Male\", \"Male\", \"Female\", \"Female\", \"Male\", \"Male\", \"Male\", \"Female\", \"Male\", \"Male\", \"Male\", \"Male\", \"Male\", \"Male\", \"Male\", \"Male\", \"Male\", \"Male\", \"Female\", \"Male\", \"Male\", \"Male\", \"Male\", \"Male\", \"Male\", \"Male\", \"Male\", \"Male\", \"Male\", \"Male\", \"Male\", \"Male\", \"Male\", \"Female\", \"Male\", \"Male\", \"Male\", \"Male\", \"Male\", \"Male\", \"Male\", \"Female\", \"Male\", \"Male\", \"Female\", \"Female\", \"Male\", \"Male\", \"Male\", \"Female\", \"Male\", \"Male\", \"Female\", \"Male\", \"Female\", \"Male\", \"Male\", \"Male\", \"Female\", \"Male\", \"Male\", \"Male\", \"Male\", \"Female\", \"Male\", \"Male\", \"Male\", \"Male\", \"Male\", \"Male\", \"Male\", \"Female\", \"Male\", \"Male\", \"Male\", \"Male\", \"Male\", \"Male\", \"Male\", \"Female\", \"Male\", \"Female\", \"Male\", \"Male\", \"Male\", \"Male\", \"Female\", \"Male\", \"Female\", \"Male\", \"Male\", \"Male\", \"Male\", \"Male\", \"Male\", \"Female\", \"Male\", \"Male\", \"Male\", \"Male\", \"Male\", \"Male\", \"Male\", \"Male\", \"Male\", \"Male\", \"Male\", \"Male\", \"Male\", \"Male\", \"Male\", \"Male\", \"Female\", \"Male\", \"Male\", \"Male\", \"Female\", \"Male\", \"Male\", \"Male\", \"Male\", \"Male\", \"Male\", \"Male\", \"Male\", \"Male\", \"Diverse\", \"Male\", \"Male\", \"Female\", \"Male\", \"Male\", \"Male\", \"Male\", \"Male\", \"Male\", \"Male\", \"Male\", \"Female\", \"Male\", \"Male\", \"Female\", \"Male\", \"Female\", \"Male\", \"Male\", \"Male\", \"Male\", \"Female\", \"Female\", \"Male\", \"Male\", \"Male\", \"Male\", \"Female\", \"Male\", \"Male\", \"Male\", \"Male\", \"Female\", \"Male\", \"Male\", \"Male\", \"Male\", \"Male\", \"Female\", \"Male\", \"Male\", \"Male\", \"Male\", \"Male\", \"Male\", \"Male\", \"Male\", \"Male\", \"Male\", \"Male\", \"Male\", \"Male\", \"Male\", \"Male\", \"Male\", \"Male\", \"Male\", \"Male\", \"Male\", \"Male\", \"Male\", \"Male\", \"Male\", \"Male\", \"Male\", \"Male\", \"Male\", \"Male\", \"Male\", \"Male\", \"Female\", \"Female\", \"Male\", \"Male\", \"Male\", \"Male\", \"Male\", \"Female\", \"Male\", \"Male\", \"Male\", \"Male\", \"Male\", \"Male\", \"Male\", \"Male\", \"Female\", \"Male\", \"Female\", \"Female\", \"Male\", \"Male\", \"Male\", \"Male\", \"Male\", \"Male\", \"Male\", \"Male\", \"Male\", \"Male\", \"Male\", \"Male\", \"Male\", \"Male\", \"Male\", \"Male\", \"Female\", \"Male\", \"Male\", \"Male\", \"Male\", \"Male\", \"Female\", \"Male\", \"Female\", \"Male\", \"Female\", \"Female\", \"Male\", \"Female\", \"Male\", \"Male\", \"Male\", \"Male\", \"Female\", \"Female\", \"Male\", \"Male\", \"Male\", \"Male\", \"Male\", \"Male\", \"Male\", \"Male\", \"Female\", \"Male\", \"Female\", \"Male\", \"Female\", \"Male\", \"Male\", \"Male\", \"Male\", \"Female\", \"Male\", \"Male\", \"Male\", \"Male\", \"Male\", \"Female\", \"Male\", \"Male\", \"Male\", \"Male\", \"Male\", \"Male\", \"Male\", \"Male\", \"Female\", \"Male\", \"Male\", \"Male\", \"Male\", \"Female\", \"Female\", \"Male\", \"Male\", \"Male\", \"Male\", \"Male\", \"Male\", \"Female\", \"Male\", \"Male\", \"Male\", \"Male\", \"Male\", \"Female\", \"Male\", \"Male\", \"Female\", \"Male\", \"Male\", \"Male\", \"Male\", \"Male\", \"Male\", \"Male\", \"Male\", \"Male\", \"Female\", \"Male\", \"Male\", \"Male\", \"Male\", \"Male\", \"Male\", \"Male\", \"Male\", \"Male\", \"Female\", \"Female\", \"Male\", \"Male\", \"Male\", \"Male\", \"Male\", \"Male\", \"Male\", \"Male\", \"Female\", \"Male\", \"Male\", \"Male\", \"Male\", \"Male\", \"Male\", \"Female\", \"Male\", \"Male\", \"Male\", \"Male\", \"Male\", \"Male\", \"Male\", \"Male\", \"Male\", \"Male\", \"Male\", \"Male\", \"Male\", \"Male\", \"Male\", \"Male\", \"Male\", \"Male\", \"Male\", \"Male\", \"Male\", \"Male\", \"Male\", \"Male\", \"Female\", \"Male\", \"Male\", \"Male\", \"Male\", \"Male\", \"Male\", \"Male\", \"Male\", \"Male\", \"Male\", \"Male\", \"Male\", \"Male\", \"Male\", \"Male\", \"Male\", \"Male\", \"Female\", \"Male\", \"Male\", \"Male\", \"Male\", \"Male\", \"Male\", \"Male\", \"Male\", \"Male\", \"Female\", \"Male\", \"Female\", \"Male\", \"Male\", \"Male\", \"Male\", \"Female\", \"Male\", \"Male\", \"Male\", \"Male\", \"Female\", \"Male\", \"Male\", \"Male\", \"Male\", \"Male\", \"Male\", \"Female\", \"Male\", \"Male\", \"Female\", \"Female\", \"Male\", \"Male\", \"Male\", \"Male\", \"Male\", \"Female\", \"Male\", \"Male\", \"Male\", \"Male\", \"Male\", \"Male\", \"Male\", \"Female\", \"Male\", \"Male\", \"Female\", \"Male\", \"Male\", \"Male\", \"Female\", \"Male\", \"Male\", \"Male\", \"Female\", \"Female\", \"Male\", \"Male\", \"Male\", \"Male\", \"Male\", \"Male\", \"Male\", \"Male\", \"Male\", \"Male\", \"Female\", \"Male\", \"Female\", \"Male\", \"Male\", \"Male\", \"Female\", \"Male\", \"Male\", \"Male\", \"Male\", \"Male\", \"Male\", \"Male\", \"Female\", \"Female\", \"Male\", \"Female\", \"Male\", \"Female\", \"Male\", \"Male\", \"Male\", \"Male\", \"Male\", \"Male\", \"Female\", \"Male\", \"Male\", \"Male\", \"Male\", \"Female\", \"Male\", \"Male\", \"Male\", \"Male\", \"Male\", \"Male\", \"Female\", \"Male\", \"Male\", \"Male\", \"Male\", \"Female\", \"Male\", \"Male\", \"Male\", \"Male\", \"Male\", \"Male\", \"Male\", \"Male\", \"Male\", \"Male\", \"Male\", \"Male\", \"Male\", \"Male\", \"Male\", \"Male\", \"Male\", \"Male\", \"Male\", \"Male\", \"Male\", \"Male\", \"Male\", \"Male\", \"Female\", \"Female\", \"Male\", \"Male\", \"Male\", \"Female\", \"Male\", \"Female\", \"Male\", \"Male\", \"Male\", \"Male\", \"Male\", \"Male\", \"Female\", \"Male\", \"Male\", \"Male\", \"Male\", \"Male\", \"Male\", \"Male\", \"Female\", \"Female\", \"Female\", \"Female\", \"Male\", \"Male\", \"Female\", \"Male\", \"Male\", \"Male\", \"Male\", \"Male\", \"Male\", \"Male\", \"Female\", \"Male\", \"Male\", \"Male\", \"Male\", \"Male\", \"Male\", \"Male\", \"Male\", \"Male\", \"Male\", \"Male\", \"Male\", \"Male\", \"Female\", \"Female\", \"Male\", \"Male\", \"Male\", \"Male\", \"Male\", \"Male\", \"Female\", \"Male\", \"Male\", \"Male\", \"Male\", \"Male\", \"Male\", \"Male\", \"Male\", \"Male\", \"Male\", \"Female\", \"Male\", \"Male\", \"Male\", \"Male\", \"Male\", \"Female\", \"Male\", \"Male\", \"Female\", \"Male\", \"Male\", \"Male\", \"Male\", \"Male\", \"Male\", \"Male\", \"Male\", \"Male\", \"Male\", \"Male\", \"Male\", \"Male\", \"Male\", \"Male\", \"Male\", \"Male\", \"Male\", \"Male\", \"Male\", \"Female\", \"Male\", \"Male\", \"Male\", \"Male\", \"Male\", \"Female\", \"Male\", \"Male\", \"Female\", \"Male\", \"Male\", \"Male\", \"Male\", \"Male\", \"Male\", \"Male\", \"Male\", \"Male\"], \"legendgroup\": \"\", \"name\": \"\", \"showlegend\": true, \"textinfo\": \"label+percent\", \"type\": \"pie\"}],\n",
              "                        {\"legend\": {\"itemclick\": false, \"tracegroupgap\": 0}, \"margin\": {\"t\": 60}, \"template\": {\"data\": {\"bar\": [{\"error_x\": {\"color\": \"#2a3f5f\"}, \"error_y\": {\"color\": \"#2a3f5f\"}, \"marker\": {\"line\": {\"color\": \"#E5ECF6\", \"width\": 0.5}}, \"type\": \"bar\"}], \"barpolar\": [{\"marker\": {\"line\": {\"color\": \"#E5ECF6\", \"width\": 0.5}}, \"type\": \"barpolar\"}], \"carpet\": [{\"aaxis\": {\"endlinecolor\": \"#2a3f5f\", \"gridcolor\": \"white\", \"linecolor\": \"white\", \"minorgridcolor\": \"white\", \"startlinecolor\": \"#2a3f5f\"}, \"baxis\": {\"endlinecolor\": \"#2a3f5f\", \"gridcolor\": \"white\", \"linecolor\": \"white\", \"minorgridcolor\": \"white\", \"startlinecolor\": \"#2a3f5f\"}, \"type\": \"carpet\"}], \"choropleth\": [{\"colorbar\": {\"outlinewidth\": 0, \"ticks\": \"\"}, \"type\": \"choropleth\"}], \"contour\": [{\"colorbar\": {\"outlinewidth\": 0, \"ticks\": \"\"}, \"colorscale\": [[0.0, \"#0d0887\"], [0.1111111111111111, \"#46039f\"], [0.2222222222222222, \"#7201a8\"], [0.3333333333333333, \"#9c179e\"], [0.4444444444444444, \"#bd3786\"], [0.5555555555555556, \"#d8576b\"], [0.6666666666666666, \"#ed7953\"], [0.7777777777777778, \"#fb9f3a\"], [0.8888888888888888, \"#fdca26\"], [1.0, \"#f0f921\"]], \"type\": \"contour\"}], \"contourcarpet\": [{\"colorbar\": {\"outlinewidth\": 0, \"ticks\": \"\"}, \"type\": \"contourcarpet\"}], \"heatmap\": [{\"colorbar\": {\"outlinewidth\": 0, \"ticks\": \"\"}, \"colorscale\": [[0.0, \"#0d0887\"], [0.1111111111111111, \"#46039f\"], [0.2222222222222222, \"#7201a8\"], [0.3333333333333333, \"#9c179e\"], [0.4444444444444444, \"#bd3786\"], [0.5555555555555556, \"#d8576b\"], [0.6666666666666666, \"#ed7953\"], [0.7777777777777778, \"#fb9f3a\"], [0.8888888888888888, \"#fdca26\"], [1.0, \"#f0f921\"]], \"type\": \"heatmap\"}], \"heatmapgl\": [{\"colorbar\": {\"outlinewidth\": 0, \"ticks\": \"\"}, \"colorscale\": [[0.0, \"#0d0887\"], [0.1111111111111111, \"#46039f\"], [0.2222222222222222, \"#7201a8\"], [0.3333333333333333, \"#9c179e\"], [0.4444444444444444, \"#bd3786\"], [0.5555555555555556, \"#d8576b\"], [0.6666666666666666, \"#ed7953\"], [0.7777777777777778, \"#fb9f3a\"], [0.8888888888888888, \"#fdca26\"], [1.0, \"#f0f921\"]], \"type\": \"heatmapgl\"}], \"histogram\": [{\"marker\": {\"colorbar\": {\"outlinewidth\": 0, \"ticks\": \"\"}}, \"type\": \"histogram\"}], \"histogram2d\": [{\"colorbar\": {\"outlinewidth\": 0, \"ticks\": \"\"}, \"colorscale\": [[0.0, \"#0d0887\"], [0.1111111111111111, \"#46039f\"], [0.2222222222222222, \"#7201a8\"], [0.3333333333333333, \"#9c179e\"], [0.4444444444444444, \"#bd3786\"], [0.5555555555555556, \"#d8576b\"], [0.6666666666666666, \"#ed7953\"], [0.7777777777777778, \"#fb9f3a\"], [0.8888888888888888, \"#fdca26\"], [1.0, \"#f0f921\"]], \"type\": \"histogram2d\"}], \"histogram2dcontour\": [{\"colorbar\": {\"outlinewidth\": 0, \"ticks\": \"\"}, \"colorscale\": [[0.0, \"#0d0887\"], [0.1111111111111111, \"#46039f\"], [0.2222222222222222, \"#7201a8\"], [0.3333333333333333, \"#9c179e\"], [0.4444444444444444, \"#bd3786\"], [0.5555555555555556, \"#d8576b\"], [0.6666666666666666, \"#ed7953\"], [0.7777777777777778, \"#fb9f3a\"], [0.8888888888888888, \"#fdca26\"], [1.0, \"#f0f921\"]], \"type\": \"histogram2dcontour\"}], \"mesh3d\": [{\"colorbar\": {\"outlinewidth\": 0, \"ticks\": \"\"}, \"type\": \"mesh3d\"}], \"parcoords\": [{\"line\": {\"colorbar\": {\"outlinewidth\": 0, \"ticks\": \"\"}}, \"type\": \"parcoords\"}], \"pie\": [{\"automargin\": true, \"type\": \"pie\"}], \"scatter\": [{\"marker\": {\"colorbar\": {\"outlinewidth\": 0, \"ticks\": \"\"}}, \"type\": \"scatter\"}], \"scatter3d\": [{\"line\": {\"colorbar\": {\"outlinewidth\": 0, \"ticks\": \"\"}}, \"marker\": {\"colorbar\": {\"outlinewidth\": 0, \"ticks\": \"\"}}, \"type\": \"scatter3d\"}], \"scattercarpet\": [{\"marker\": {\"colorbar\": {\"outlinewidth\": 0, \"ticks\": \"\"}}, \"type\": \"scattercarpet\"}], \"scattergeo\": [{\"marker\": {\"colorbar\": {\"outlinewidth\": 0, \"ticks\": \"\"}}, \"type\": \"scattergeo\"}], \"scattergl\": [{\"marker\": {\"colorbar\": {\"outlinewidth\": 0, \"ticks\": \"\"}}, \"type\": \"scattergl\"}], \"scattermapbox\": [{\"marker\": {\"colorbar\": {\"outlinewidth\": 0, \"ticks\": \"\"}}, \"type\": \"scattermapbox\"}], \"scatterpolar\": [{\"marker\": {\"colorbar\": {\"outlinewidth\": 0, \"ticks\": \"\"}}, \"type\": \"scatterpolar\"}], \"scatterpolargl\": [{\"marker\": {\"colorbar\": {\"outlinewidth\": 0, \"ticks\": \"\"}}, \"type\": \"scatterpolargl\"}], \"scatterternary\": [{\"marker\": {\"colorbar\": {\"outlinewidth\": 0, \"ticks\": \"\"}}, \"type\": \"scatterternary\"}], \"surface\": [{\"colorbar\": {\"outlinewidth\": 0, \"ticks\": \"\"}, \"colorscale\": [[0.0, \"#0d0887\"], [0.1111111111111111, \"#46039f\"], [0.2222222222222222, \"#7201a8\"], [0.3333333333333333, \"#9c179e\"], [0.4444444444444444, \"#bd3786\"], [0.5555555555555556, \"#d8576b\"], [0.6666666666666666, \"#ed7953\"], [0.7777777777777778, \"#fb9f3a\"], [0.8888888888888888, \"#fdca26\"], [1.0, \"#f0f921\"]], \"type\": \"surface\"}], \"table\": [{\"cells\": {\"fill\": {\"color\": \"#EBF0F8\"}, \"line\": {\"color\": \"white\"}}, \"header\": {\"fill\": {\"color\": \"#C8D4E3\"}, \"line\": {\"color\": \"white\"}}, \"type\": \"table\"}]}, \"layout\": {\"annotationdefaults\": {\"arrowcolor\": \"#2a3f5f\", \"arrowhead\": 0, \"arrowwidth\": 1}, \"coloraxis\": {\"colorbar\": {\"outlinewidth\": 0, \"ticks\": \"\"}}, \"colorscale\": {\"diverging\": [[0, \"#8e0152\"], [0.1, \"#c51b7d\"], [0.2, \"#de77ae\"], [0.3, \"#f1b6da\"], [0.4, \"#fde0ef\"], [0.5, \"#f7f7f7\"], [0.6, \"#e6f5d0\"], [0.7, \"#b8e186\"], [0.8, \"#7fbc41\"], [0.9, \"#4d9221\"], [1, \"#276419\"]], \"sequential\": [[0.0, \"#0d0887\"], [0.1111111111111111, \"#46039f\"], [0.2222222222222222, \"#7201a8\"], [0.3333333333333333, \"#9c179e\"], [0.4444444444444444, \"#bd3786\"], [0.5555555555555556, \"#d8576b\"], [0.6666666666666666, \"#ed7953\"], [0.7777777777777778, \"#fb9f3a\"], [0.8888888888888888, \"#fdca26\"], [1.0, \"#f0f921\"]], \"sequentialminus\": [[0.0, \"#0d0887\"], [0.1111111111111111, \"#46039f\"], [0.2222222222222222, \"#7201a8\"], [0.3333333333333333, \"#9c179e\"], [0.4444444444444444, \"#bd3786\"], [0.5555555555555556, \"#d8576b\"], [0.6666666666666666, \"#ed7953\"], [0.7777777777777778, \"#fb9f3a\"], [0.8888888888888888, \"#fdca26\"], [1.0, \"#f0f921\"]]}, \"colorway\": [\"#636efa\", \"#EF553B\", \"#00cc96\", \"#ab63fa\", \"#FFA15A\", \"#19d3f3\", \"#FF6692\", \"#B6E880\", \"#FF97FF\", \"#FECB52\"], \"font\": {\"color\": \"#2a3f5f\"}, \"geo\": {\"bgcolor\": \"white\", \"lakecolor\": \"white\", \"landcolor\": \"#E5ECF6\", \"showlakes\": true, \"showland\": true, \"subunitcolor\": \"white\"}, \"hoverlabel\": {\"align\": \"left\"}, \"hovermode\": \"closest\", \"mapbox\": {\"style\": \"light\"}, \"paper_bgcolor\": \"white\", \"plot_bgcolor\": \"#E5ECF6\", \"polar\": {\"angularaxis\": {\"gridcolor\": \"white\", \"linecolor\": \"white\", \"ticks\": \"\"}, \"bgcolor\": \"#E5ECF6\", \"radialaxis\": {\"gridcolor\": \"white\", \"linecolor\": \"white\", \"ticks\": \"\"}}, \"scene\": {\"xaxis\": {\"backgroundcolor\": \"#E5ECF6\", \"gridcolor\": \"white\", \"gridwidth\": 2, \"linecolor\": \"white\", \"showbackground\": true, \"ticks\": \"\", \"zerolinecolor\": \"white\"}, \"yaxis\": {\"backgroundcolor\": \"#E5ECF6\", \"gridcolor\": \"white\", \"gridwidth\": 2, \"linecolor\": \"white\", \"showbackground\": true, \"ticks\": \"\", \"zerolinecolor\": \"white\"}, \"zaxis\": {\"backgroundcolor\": \"#E5ECF6\", \"gridcolor\": \"white\", \"gridwidth\": 2, \"linecolor\": \"white\", \"showbackground\": true, \"ticks\": \"\", \"zerolinecolor\": \"white\"}}, \"shapedefaults\": {\"line\": {\"color\": \"#2a3f5f\"}}, \"ternary\": {\"aaxis\": {\"gridcolor\": \"white\", \"linecolor\": \"white\", \"ticks\": \"\"}, \"baxis\": {\"gridcolor\": \"white\", \"linecolor\": \"white\", \"ticks\": \"\"}, \"bgcolor\": \"#E5ECF6\", \"caxis\": {\"gridcolor\": \"white\", \"linecolor\": \"white\", \"ticks\": \"\"}}, \"title\": {\"x\": 0.05}, \"xaxis\": {\"automargin\": true, \"gridcolor\": \"white\", \"linecolor\": \"white\", \"ticks\": \"\", \"title\": {\"standoff\": 15}, \"zerolinecolor\": \"white\", \"zerolinewidth\": 2}, \"yaxis\": {\"automargin\": true, \"gridcolor\": \"white\", \"linecolor\": \"white\", \"ticks\": \"\", \"title\": {\"standoff\": 15}, \"zerolinecolor\": \"white\", \"zerolinewidth\": 2}}}},\n",
              "                        {\"responsive\": true}\n",
              "                    ).then(function(){\n",
              "                            \n",
              "var gd = document.getElementById('b0e99e55-635b-40e0-8251-febb97b29828');\n",
              "var x = new MutationObserver(function (mutations, observer) {{\n",
              "        var display = window.getComputedStyle(gd).display;\n",
              "        if (!display || display === 'none') {{\n",
              "            console.log([gd, 'removed!']);\n",
              "            Plotly.purge(gd);\n",
              "            observer.disconnect();\n",
              "        }}\n",
              "}});\n",
              "\n",
              "// Listen for the removal of the full notebook cells\n",
              "var notebookContainer = gd.closest('#notebook-container');\n",
              "if (notebookContainer) {{\n",
              "    x.observe(notebookContainer, {childList: true});\n",
              "}}\n",
              "\n",
              "// Listen for the clearing of the current output cell\n",
              "var outputEl = gd.closest('.output');\n",
              "if (outputEl) {{\n",
              "    x.observe(outputEl, {childList: true});\n",
              "}}\n",
              "\n",
              "                        })\n",
              "                };\n",
              "                \n",
              "            </script>\n",
              "        </div>\n",
              "</body>\n",
              "</html>"
            ]
          },
          "metadata": {
            "tags": []
          }
        }
      ]
    },
    {
      "cell_type": "markdown",
      "metadata": {
        "id": "4CsJs0_za_gL"
      },
      "source": [
        "**observation**:  gender comprises of 84.5% men, 15.4% female, and 0.16% diverse. "
      ]
    },
    {
      "cell_type": "markdown",
      "metadata": {
        "id": "uo95NopBCo6w"
      },
      "source": [
        "## Bonus Section [Optional but carries bonus marks]\n",
        "This dataset is as raw and real as it can get while conducting yearly surveys. You might have observed that the data is not clean and structured and requires some thorough cleaning before deriving meaningful plots. When combined with the power of Plotly and Dash, there are endless possibilities for the insightful visualizations you can create. \n",
        "\n",
        "This section is to let you experiment, explore and create as many visualizations as you’d like. You never know, if we like the creativity and the extra work, you might receive some bonus marks!\n"
      ]
    },
    {
      "cell_type": "code",
      "metadata": {
        "id": "nJuT_CWTcF_d"
      },
      "source": [
        ""
      ],
      "execution_count": null,
      "outputs": []
    },
    {
      "cell_type": "markdown",
      "metadata": {
        "id": "eZhk-3nbFl2n"
      },
      "source": [
        "# Conclusion\n",
        "This brings us to the end of the assignment and to the bootcamp. We hope you had a great learning time. :)\n",
        "\n",
        "Now, you can submit your notebook for assessment. "
      ]
    }
  ]
}